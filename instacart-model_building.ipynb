{
 "cells": [
  {
   "cell_type": "code",
   "execution_count": 1,
   "metadata": {},
   "outputs": [
    {
     "ename": "ModuleNotFoundError",
     "evalue": "No module named 'pandas'",
     "output_type": "error",
     "traceback": [
      "\u001b[1;31m---------------------------------------------------------------------------\u001b[0m",
      "\u001b[1;31mModuleNotFoundError\u001b[0m                       Traceback (most recent call last)",
      "\u001b[1;32m<ipython-input-1-380dc0fcd552>\u001b[0m in \u001b[0;36m<module>\u001b[1;34m\u001b[0m\n\u001b[1;32m----> 1\u001b[1;33m \u001b[1;32mimport\u001b[0m \u001b[0mpandas\u001b[0m \u001b[1;32mas\u001b[0m \u001b[0mpd\u001b[0m\u001b[1;33m\u001b[0m\u001b[1;33m\u001b[0m\u001b[0m\n\u001b[0m\u001b[0;32m      2\u001b[0m \u001b[1;32mimport\u001b[0m \u001b[0mnumpy\u001b[0m \u001b[1;32mas\u001b[0m \u001b[0mnp\u001b[0m\u001b[1;33m\u001b[0m\u001b[1;33m\u001b[0m\u001b[0m\n\u001b[0;32m      3\u001b[0m \u001b[1;32mimport\u001b[0m \u001b[0mmatplotlib\u001b[0m\u001b[1;33m.\u001b[0m\u001b[0mpyplot\u001b[0m \u001b[1;32mas\u001b[0m \u001b[0mplt\u001b[0m\u001b[1;33m\u001b[0m\u001b[1;33m\u001b[0m\u001b[0m\n\u001b[0;32m      4\u001b[0m \u001b[1;32mimport\u001b[0m \u001b[0mmatplotlib\u001b[0m\u001b[1;33m.\u001b[0m\u001b[0mcm\u001b[0m \u001b[1;32mas\u001b[0m \u001b[0mpltcm\u001b[0m\u001b[1;33m\u001b[0m\u001b[1;33m\u001b[0m\u001b[0m\n\u001b[0;32m      5\u001b[0m \u001b[1;32mfrom\u001b[0m \u001b[0msklearn\u001b[0m\u001b[1;33m.\u001b[0m\u001b[0mcluster\u001b[0m \u001b[1;32mimport\u001b[0m \u001b[0mKMeans\u001b[0m\u001b[1;33m\u001b[0m\u001b[1;33m\u001b[0m\u001b[0m\n",
      "\u001b[1;31mModuleNotFoundError\u001b[0m: No module named 'pandas'"
     ]
    }
   ],
   "source": [
    "import pandas as pd\n",
    "import numpy as np\n",
    "import matplotlib.pyplot as plt\n",
    "import matplotlib.cm as pltcm\n",
    "from sklearn.cluster import KMeans\n",
    "from scipy.cluster.hierarchy import dendrogram\n",
    "from sklearn.cluster import AgglomerativeClustering\n",
    "from sklearn.metrics import silhouette_samples, silhouette_score\n",
    "import seaborn as sns\n",
    "import gc"
   ]
  },
  {
   "cell_type": "code",
   "execution_count": 3,
   "metadata": {},
   "outputs": [],
   "source": [
    "ord_prior =  pd.read_csv('ord_prior_we_want.csv')\n",
    "ord_train = pd.read_csv('order_products__train.csv')\n",
    "ord_test = pd.read_csv('ord_prior_we_dont_want.csv')\n",
    "orders =  pd.read_csv('orders_no_test.csv')\n",
    "product = pd.read_csv('products.csv')\n",
    "department = pd.read_csv('departments.csv')\n",
    "aisles = pd.read_csv('aisles.csv')"
   ]
  },
  {
   "cell_type": "code",
   "execution_count": 4,
   "metadata": {},
   "outputs": [],
   "source": [
    "orders_product = pd.merge(ord_prior, orders, how='inner', on='order_id')\n",
    "train_orders = pd.merge(ord_train, orders[['order_id','user_id']], how='inner', on='order_id')"
   ]
  },
  {
   "cell_type": "code",
   "execution_count": 5,
   "metadata": {},
   "outputs": [],
   "source": [
    "prd = orders_product.sort_values(['user_id', 'order_number', 'product_id'], ascending=True)\n",
    "prd['product_time'] = prd.groupby(['user_id', 'product_id']).cumcount()\n",
    "\n",
    "prd_first = prd[prd['product_time'] == 0].groupby('product_id').size().to_frame('prod_first_orders') #每個產品被第一次訂購的數量\n",
    "prd_second = prd[prd['product_time'] == 1].groupby('product_id').size().to_frame('prod_second_orders') #每個產品被第二次訂購的數量\n",
    "prd_first['prod_orders'] = prd.groupby('product_id')['product_id'].size() #每個產品被訂購的總數量\n",
    "prd_second['prod_reorders'] = prd.groupby('product_id')['reordered'].sum() #每個產品被回購的總數量\n",
    "\n",
    "prd_all = prd_second.reset_index().merge(prd_first.reset_index()) \n",
    "prd_all['prod_reorder_probability'] = prd_all['prod_second_orders']/prd_all['prod_first_orders'] #算出reorder probability\n",
    "prd_all['prod_reorder_ratio'] = prd_all['prod_reorders']/prd_all['prod_orders'] #算出reorder ratio\n",
    "prd = prd_all[['product_id', 'prod_orders','prod_reorder_probability', 'prod_reorder_ratio']]"
   ]
  },
  {
   "cell_type": "code",
   "execution_count": 6,
   "metadata": {},
   "outputs": [
    {
     "data": {
      "text/plain": [
       "38"
      ]
     },
     "execution_count": 6,
     "metadata": {},
     "output_type": "execute_result"
    }
   ],
   "source": [
    "del prd_first, prd_second, prd_all\n",
    "gc.collect()"
   ]
  },
  {
   "cell_type": "code",
   "execution_count": 7,
   "metadata": {},
   "outputs": [],
   "source": [
    "users = orders[orders['eval_set'] == 'prior'].groupby(['user_id'])['order_number'].max().to_frame('user_orders') #消費者訂單量\n",
    "users['user_period'] = orders[orders['eval_set'] == 'prior'].groupby(['user_id'])['days_since_prior_order'].sum() #消費者逛網站的期間\n",
    "users['user_mean_days_since_prior'] = orders[orders['eval_set'] == 'prior'].groupby(['user_id'])['days_since_prior_order'].mean() #消費者距前一次購買平均相隔多少天\n",
    "\n",
    "us = orders_product.groupby('user_id').size().to_frame('user_total_products') #消費者總購買量\n",
    "us['eq_1'] = orders_product[orders_product['reordered'] == 1].groupby('user_id')['product_id'].count() #消費者的總回購量\n",
    "us['gt_1'] = orders_product[orders_product['order_number'] > 1].groupby('user_id')['product_id'].size() #消費者的總購買量(撇除第一次訂購)\n",
    "us['user_reorder_ratio'] = us['eq_1'] / us['gt_1'] #單一消費者的回購比例\n",
    "us.drop(['eq_1', 'gt_1'], axis = 1, inplace = True)\n",
    "us['user_distinct_products'] = orders_product.groupby(['user_id'])['product_id'].nunique() #消費者購買多少種不同的商品\n",
    "\n",
    "\n",
    "users = users.reset_index().merge(us.reset_index())\n",
    "users['user_average_basket'] = users['user_total_products'] / users['user_orders'] #消費者平均一單的購買量"
   ]
  },
  {
   "cell_type": "code",
   "execution_count": 8,
   "metadata": {},
   "outputs": [],
   "source": [
    "us = orders[orders['eval_set'] != 'prior'] #挑出train/test\n",
    "us = us[['user_id', 'order_id', 'eval_set', 'days_since_prior_order']]\n",
    "users = users.merge(us) #把原先prior製造出的user特徵都定義為train/test中user的特徵(因為之後要用train做建模)"
   ]
  },
  {
   "cell_type": "code",
   "execution_count": 9,
   "metadata": {},
   "outputs": [],
   "source": [
    "users['user_reorder_ratio'].fillna(0, inplace=True)"
   ]
  },
  {
   "cell_type": "code",
   "execution_count": 9,
   "metadata": {},
   "outputs": [
    {
     "ename": "NameError",
     "evalue": "name 'X' is not defined",
     "output_type": "error",
     "traceback": [
      "\u001b[1;31m----------------------------------------\u001b[0m",
      "\u001b[1;31mNameError\u001b[0mTraceback (most recent call last)",
      "\u001b[1;32m<ipython-input-9-dfc02901d5ea>\u001b[0m in \u001b[0;36m<module>\u001b[1;34m\u001b[0m\n\u001b[0;32m     12\u001b[0m \u001b[1;33m\u001b[0m\u001b[0m\n\u001b[0;32m     13\u001b[0m     \u001b[1;31m# （n_clusters + 1）* 10用於在各個群集的輪廓圖之間插入空格，以明確劃分它們。\u001b[0m\u001b[1;33m\u001b[0m\u001b[1;33m\u001b[0m\u001b[1;33m\u001b[0m\u001b[0m\n\u001b[1;32m---> 14\u001b[1;33m     \u001b[0mplt\u001b[0m\u001b[1;33m.\u001b[0m\u001b[0mylim\u001b[0m\u001b[1;33m(\u001b[0m\u001b[1;33m[\u001b[0m\u001b[1;36m0\u001b[0m\u001b[1;33m,\u001b[0m \u001b[0mlen\u001b[0m\u001b[1;33m(\u001b[0m\u001b[0mX\u001b[0m\u001b[1;33m)\u001b[0m \u001b[1;33m+\u001b[0m \u001b[1;33m(\u001b[0m\u001b[0mn_clusters\u001b[0m \u001b[1;33m+\u001b[0m \u001b[1;36m1\u001b[0m\u001b[1;33m)\u001b[0m \u001b[1;33m*\u001b[0m \u001b[1;36m10\u001b[0m\u001b[1;33m]\u001b[0m\u001b[1;33m)\u001b[0m\u001b[1;33m\u001b[0m\u001b[1;33m\u001b[0m\u001b[0m\n\u001b[0m\u001b[0;32m     15\u001b[0m \u001b[1;33m\u001b[0m\u001b[0m\n\u001b[0;32m     16\u001b[0m     \u001b[1;31m# 使用n_clusters值和seed 10隨機初始集群。\u001b[0m\u001b[1;33m\u001b[0m\u001b[1;33m\u001b[0m\u001b[1;33m\u001b[0m\u001b[0m\n",
      "\u001b[1;31mNameError\u001b[0m: name 'X' is not defined"
     ]
    },
    {
     "data": {
      "image/png": "[encoded data removed]",
      "text/plain": [
       "<Figure size 1296x504 with 1 Axes>"
      ]
     },
     "metadata": {
      "needs_background": "light"
     },
     "output_type": "display_data"
    }
   ],
   "source": [
    "user_for_cluster = users[['user_orders','user_period','user_mean_days_since_prior','user_total_products','user_reorder_ratio','user_distinct_products','user_average_basket','days_since_prior_order']]\n",
    "range_n_clusters = [2, 3, 4, 5, 6]\n",
    "user_for_cluster_sam = user_for_cluster.sample(20000, random_state=1)\n",
    "\n",
    "for n_clusters in range_n_clusters:\n",
    "    # 建立具有1行2列的子圖\n",
    "    plt.figure(figsize=(18, 7))\n",
    "\n",
    "    # 第一個子圖是輪廓圖\n",
    "    # 輪廓係數的範圍為-0.1、1   \n",
    "    plt.xlim([-0.1, 1])\n",
    "\n",
    "    # （n_clusters + 1）* 10用於在各個群集的輪廓圖之間插入空格，以明確劃分它們。\n",
    "    plt.ylim([0, len(X) + (n_clusters + 1) * 10])\n",
    "\n",
    "    # 使用n_clusters值和seed 10隨機初始集群。\n",
    "    clusterer = KMeans(n_clusters=n_clusters, random_state=10)\n",
    "    cluster_labels = clusterer.fit_predict(user_for_cluster_sam)\n",
    "\n",
    "    # Silhouette_score給出所有樣本的平均值。\n",
    "    # 這可以透視形成的簇的密度和分離\n",
    "    silhouette_avg = silhouette_score(user_for_cluster_sam, cluster_labels)\n",
    "    print(\"For n_clusters =\", n_clusters,\n",
    "          \"The average silhouette_score is :\", silhouette_avg)\n",
    "\n",
    "    # 計算每個樣本的輪廓分數\n",
    "    sample_silhouette_values = silhouette_samples(user_for_cluster_sam, cluster_labels)\n",
    "\n",
    "    y_lower = 10\n",
    "    for i in range(n_clusters):\n",
    "        # 彙總屬於聚類i的樣本的輪廓分數，並對它們進行排序\n",
    "        ith_cluster_silhouette_values = \\\n",
    "            sample_silhouette_values[cluster_labels == i]\n",
    "\n",
    "        ith_cluster_silhouette_values.sort()\n",
    "\n",
    "        size_cluster_i = ith_cluster_silhouette_values.shape[0]\n",
    "        y_upper = y_lower + size_cluster_i\n",
    "\n",
    "        color = pltcm.nipy_spectral(float(i) / n_clusters)\n",
    "        plt.fill_betweenx(np.arange(y_lower, y_upper),\n",
    "                          0, ith_cluster_silhouette_values,\n",
    "                          facecolor=color, edgecolor=color, alpha=0.7)\n",
    "\n",
    "        # 在輪廓圖的中間標註聚類編號\n",
    "\n",
    "\n",
    "        # 下一個圖計算新的y_lower\n",
    "        y_lower = y_upper + 10  # 10 for the 0 samples\n",
    "\n",
    "    plt.title(\"The silhouette plot for the various clusters.\")\n",
    "    plt.xlabel(\"The silhouette coefficient values\")\n",
    "    plt.ylabel(\"Cluster label\")\n",
    "\n",
    "    # 所有值的平均輪廓分數的垂直線\n",
    "    plt.axvline(x=silhouette_avg, color=\"red\", linestyle=\"--\")\n",
    "\n",
    "    plt.yticks([])  # 清除y軸標籤/刻度\n",
    "    plt.xticks([-0.1, 0, 0.2, 0.4, 0.6, 0.8, 1])\n",
    "\n",
    "plt.show()"
   ]
  },
  {
   "cell_type": "code",
   "execution_count": 42,
   "metadata": {},
   "outputs": [
    {
     "name": "stdout",
     "output_type": "stream",
     "text": [
      "For n_clusters = 6 The average silhouette_score is : 0.41496470842134076\n"
     ]
    },
    {
     "data": {
      "image/png": "[encoded data removed]",
      "text/plain": [
       "<Figure size 1296x504 with 1 Axes>"
      ]
     },
     "metadata": {
      "needs_background": "light"
     },
     "output_type": "display_data"
    }
   ],
   "source": [
    "n_clusters = 6\n",
    "plt.figure(figsize=(18, 7))\n",
    "\n",
    "# 第一個子圖是輪廓圖\n",
    "# 輪廓係數的範圍為-0.1、1   \n",
    "plt.xlim([-0.1, 1])\n",
    "\n",
    "# （n_clusters + 1）* 10用於在各個群集的輪廓圖之間插入空格，以明確劃分它們。\n",
    "plt.ylim([0, len(X) + (n_clusters + 1) * 10])\n",
    "\n",
    "# 使用n_clusters值和seed 10隨機初始集群。\n",
    "clusterer = KMeans(n_clusters=n_clusters, random_state=10)\n",
    "cluster_labels = clusterer.fit_predict(user_for_cluster_sam)\n",
    "\n",
    "# Silhouette_score給出所有樣本的平均值。\n",
    "# 這可以透視形成的簇的密度和分離\n",
    "silhouette_avg = silhouette_score(user_for_cluster_sam, cluster_labels)\n",
    "print(\"For n_clusters =\", n_clusters,\n",
    "      \"The average silhouette_score is :\", silhouette_avg)\n",
    "\n",
    "# 計算每個樣本的輪廓分數\n",
    "sample_silhouette_values = silhouette_samples(user_for_cluster_sam, cluster_labels)\n",
    "\n",
    "y_lower = 10\n",
    "for i in range(n_clusters):\n",
    "    # 彙總屬於聚類i的樣本的輪廓分數，並對它們進行排序\n",
    "    ith_cluster_silhouette_values = \\\n",
    "        sample_silhouette_values[cluster_labels == i]\n",
    "\n",
    "    ith_cluster_silhouette_values.sort()\n",
    "\n",
    "    size_cluster_i = ith_cluster_silhouette_values.shape[0]\n",
    "    y_upper = y_lower + size_cluster_i\n",
    "\n",
    "    color = pltcm.nipy_spectral(float(i) / n_clusters)\n",
    "    plt.fill_betweenx(np.arange(y_lower, y_upper),\n",
    "                      0, ith_cluster_silhouette_values,\n",
    "                      facecolor=color, edgecolor=color, alpha=0.7)\n",
    "\n",
    "    # 在輪廓圖的中間標註聚類編號\n",
    "\n",
    "\n",
    "    # 下一個圖計算新的y_lower\n",
    "    y_lower = y_upper + 10  # 10 for the 0 samples\n",
    "\n",
    "plt.title(\"The silhouette plot for the various clusters.\")\n",
    "plt.xlabel(\"The silhouette coefficient values\")\n",
    "plt.ylabel(\"Cluster label\")\n",
    "\n",
    "# 所有值的平均輪廓分數的垂直線\n",
    "plt.axvline(x=silhouette_avg, color=\"red\", linestyle=\"--\")\n",
    "\n",
    "plt.yticks([])  # 清除y軸標籤/刻度\n",
    "plt.xticks([-0.1, 0, 0.2, 0.4, 0.6, 0.8, 1])\n",
    "\n",
    "plt.show()"
   ]
  },
  {
   "cell_type": "code",
   "execution_count": 10,
   "metadata": {},
   "outputs": [
    {
     "data": {
      "image/png": "[encoded data removed]",
      "text/plain": [
       "<Figure size 1152x576 with 1 Axes>"
      ]
     },
     "metadata": {
      "needs_background": "light"
     },
     "output_type": "display_data"
    }
   ],
   "source": [
    "user_for_cluster = users[['user_orders','user_period','user_mean_days_since_prior','user_total_products','user_reorder_ratio','user_distinct_products','user_average_basket','days_since_prior_order']]\n",
    "user_for_cluster_sam = user_for_cluster.sample(20000, random_state=1)\n",
    "distortions = []\n",
    "K = range(1,10)\n",
    "for i in K:\n",
    "    kmeanModel = KMeans(n_clusters=i)\n",
    "    kmeanModel.fit(user_for_cluster_sam)\n",
    "    distortions.append(kmeanModel.inertia_)\n",
    "\n",
    "plt.figure(figsize=(16,8))\n",
    "plt.plot(K, distortions, 'bx-')\n",
    "plt.xlabel('Cluster number')\n",
    "plt.ylabel('Distortion')\n",
    "plt.title('The Elbow Method showing the optimal cluster')\n",
    "plt.savefig('elbow_method.png')"
   ]
  },
  {
   "cell_type": "code",
   "execution_count": 35,
   "metadata": {},
   "outputs": [
    {
     "data": {
      "image/png": "[encoded data removed]",
      "text/plain": [
       "<Figure size 1296x504 with 1 Axes>"
      ]
     },
     "metadata": {
      "needs_background": "light"
     },
     "output_type": "display_data"
    },
    {
     "data": {
      "text/plain": [
       "<Figure size 432x288 with 0 Axes>"
      ]
     },
     "metadata": {},
     "output_type": "display_data"
    }
   ],
   "source": [
    "user_for_cluster = users[['user_orders','user_period','user_mean_days_since_prior','user_total_products','user_reorder_ratio','user_distinct_products','user_average_basket','days_since_prior_order']]\n",
    "#find the cluster number - hierarchical\n",
    "def plot_dendrogram(model, **kwargs):\n",
    "    # Create linkage matrix and then plot the dendrogram\n",
    "\n",
    "    # create the counts of samples under each node\n",
    "    counts = np.zeros(model.children_.shape[0])\n",
    "    n_samples = len(model.labels_)\n",
    "    for i, merge in enumerate(model.children_):\n",
    "        current_count = 0\n",
    "        for child_idx in merge:\n",
    "            if child_idx < n_samples:\n",
    "                current_count += 1  # leaf node\n",
    "            else:\n",
    "                current_count += counts[child_idx - n_samples]\n",
    "        counts[i] = current_count\n",
    "\n",
    "    linkage_matrix = np.column_stack([model.children_, model.distances_,\n",
    "                                      counts]).astype(float)\n",
    "\n",
    "    # Plot the corresponding dendrogram\n",
    "    dendrogram(linkage_matrix, **kwargs)\n",
    "\n",
    "\n",
    "X = user_for_cluster_sam\n",
    "\n",
    "# setting distance_threshold=0 ensures we compute the full tree.\n",
    "model = AgglomerativeClustering(distance_threshold=0, n_clusters=None)\n",
    "\n",
    "model = model.fit(X)\n",
    "plt.figure(figsize=(18, 7))\n",
    "plt.title('Hierarchical Clustering Dendrogram')\n",
    "# plot the top three levels of the dendrogram\n",
    "plot_dendrogram(model, truncate_mode='level', p=3)\n",
    "plt.xlabel(\"Number of points in node (or index of point if no parenthesis).\")\n",
    "plt.show()\n",
    "plt.savefig('hierarchical.png', dpi = 320, format= \"png\",bbox_inches='tight')"
   ]
  },
  {
   "cell_type": "code",
   "execution_count": 10,
   "metadata": {},
   "outputs": [
    {
     "data": {
      "text/plain": [
       "60"
      ]
     },
     "execution_count": 10,
     "metadata": {},
     "output_type": "execute_result"
    }
   ],
   "source": [
    "gc.collect()"
   ]
  },
  {
   "cell_type": "code",
   "execution_count": 11,
   "metadata": {},
   "outputs": [],
   "source": [
    "#clustering\n",
    "user_for_cluster = users[['user_orders','user_period','user_mean_days_since_prior','user_total_products','user_reorder_ratio','user_distinct_products','user_average_basket','days_since_prior_order']]\n",
    "clusterer = KMeans(n_clusters=3, random_state=10)\n",
    "cluster_labels = clusterer.fit_predict(user_for_cluster)\n",
    "users['cluster'] = cluster_labels"
   ]
  },
  {
   "cell_type": "code",
   "execution_count": 12,
   "metadata": {},
   "outputs": [
    {
     "data": {
      "text/plain": [
       "40"
      ]
     },
     "execution_count": 12,
     "metadata": {},
     "output_type": "execute_result"
    }
   ],
   "source": [
    "del us\n",
    "gc.collect()"
   ]
  },
  {
   "cell_type": "markdown",
   "metadata": {},
   "source": [
    "## user 變數選擇"
   ]
  },
  {
   "cell_type": "code",
   "execution_count": 13,
   "metadata": {},
   "outputs": [],
   "source": [
    "corr = users.drop(['user_id','order_id'], axis=1).corr()"
   ]
  },
  {
   "cell_type": "code",
   "execution_count": 47,
   "metadata": {},
   "outputs": [
    {
     "ename": "KeyError",
     "evalue": "'order_hour_of_day'",
     "output_type": "error",
     "traceback": [
      "\u001b[1;31m----------------------------------------\u001b[0m",
      "\u001b[1;31mKeyError\u001b[0mTraceback (most recent call last)",
      "\u001b[1;32mC:\\python3\\lib\\site-packages\\pandas\\core\\indexes\\base.py\u001b[0m in \u001b[0;36mget_loc\u001b[1;34m(self, key, method, tolerance)\u001b[0m\n\u001b[0;32m   2645\u001b[0m             \u001b[1;32mtry\u001b[0m\u001b[1;33m:\u001b[0m\u001b[1;33m\u001b[0m\u001b[1;33m\u001b[0m\u001b[0m\n\u001b[1;32m-> 2646\u001b[1;33m                 \u001b[1;32mreturn\u001b[0m \u001b[0mself\u001b[0m\u001b[1;33m.\u001b[0m\u001b[0m_engine\u001b[0m\u001b[1;33m.\u001b[0m\u001b[0mget_loc\u001b[0m\u001b[1;33m(\u001b[0m\u001b[0mkey\u001b[0m\u001b[1;33m)\u001b[0m\u001b[1;33m\u001b[0m\u001b[1;33m\u001b[0m\u001b[0m\n\u001b[0m\u001b[0;32m   2647\u001b[0m             \u001b[1;32mexcept\u001b[0m \u001b[0mKeyError\u001b[0m\u001b[1;33m:\u001b[0m\u001b[1;33m\u001b[0m\u001b[1;33m\u001b[0m\u001b[0m\n",
      "\u001b[1;32mpandas\\_libs\\index.pyx\u001b[0m in \u001b[0;36mpandas._libs.index.IndexEngine.get_loc\u001b[1;34m()\u001b[0m\n",
      "\u001b[1;32mpandas\\_libs\\index.pyx\u001b[0m in \u001b[0;36mpandas._libs.index.IndexEngine.get_loc\u001b[1;34m()\u001b[0m\n",
      "\u001b[1;32mpandas\\_libs\\hashtable_class_helper.pxi\u001b[0m in \u001b[0;36mpandas._libs.hashtable.PyObjectHashTable.get_item\u001b[1;34m()\u001b[0m\n",
      "\u001b[1;32mpandas\\_libs\\hashtable_class_helper.pxi\u001b[0m in \u001b[0;36mpandas._libs.hashtable.PyObjectHashTable.get_item\u001b[1;34m()\u001b[0m\n",
      "\u001b[1;31mKeyError\u001b[0m: 'order_hour_of_day'",
      "\nDuring handling of the above exception, another exception occurred:\n",
      "\u001b[1;31mKeyError\u001b[0mTraceback (most recent call last)",
      "\u001b[1;32m<ipython-input-47-95f33a36b831>\u001b[0m in \u001b[0;36m<module>\u001b[1;34m\u001b[0m\n\u001b[1;32m----> 1\u001b[1;33m \u001b[0musers\u001b[0m\u001b[1;33m[\u001b[0m\u001b[1;34m'order_hour_of_day'\u001b[0m\u001b[1;33m]\u001b[0m \u001b[1;33m=\u001b[0m \u001b[0musers\u001b[0m\u001b[1;33m[\u001b[0m\u001b[1;34m'order_hour_of_day'\u001b[0m\u001b[1;33m]\u001b[0m\u001b[1;33m.\u001b[0m\u001b[0mapply\u001b[0m\u001b[1;33m(\u001b[0m\u001b[1;32mlambda\u001b[0m \u001b[0mx\u001b[0m\u001b[1;33m:\u001b[0m\u001b[0maaa\u001b[0m\u001b[1;33m(\u001b[0m\u001b[0mx\u001b[0m\u001b[1;33m)\u001b[0m\u001b[1;33m)\u001b[0m\u001b[1;33m\u001b[0m\u001b[1;33m\u001b[0m\u001b[0m\n\u001b[0m\u001b[0;32m      2\u001b[0m \u001b[0musers\u001b[0m\u001b[1;33m[\u001b[0m\u001b[1;34m'order_dow'\u001b[0m\u001b[1;33m]\u001b[0m \u001b[1;33m=\u001b[0m \u001b[0musers\u001b[0m\u001b[1;33m[\u001b[0m\u001b[1;34m'order_dow'\u001b[0m\u001b[1;33m]\u001b[0m\u001b[1;33m.\u001b[0m\u001b[0mapply\u001b[0m\u001b[1;33m(\u001b[0m\u001b[1;32mlambda\u001b[0m \u001b[0mx\u001b[0m\u001b[1;33m:\u001b[0m \u001b[0maaa\u001b[0m\u001b[1;33m(\u001b[0m\u001b[0mx\u001b[0m\u001b[1;33m)\u001b[0m\u001b[1;33m)\u001b[0m\u001b[1;33m\u001b[0m\u001b[1;33m\u001b[0m\u001b[0m\n",
      "\u001b[1;32mC:\\python3\\lib\\site-packages\\pandas\\core\\frame.py\u001b[0m in \u001b[0;36m__getitem__\u001b[1;34m(self, key)\u001b[0m\n\u001b[0;32m   2798\u001b[0m             \u001b[1;32mif\u001b[0m \u001b[0mself\u001b[0m\u001b[1;33m.\u001b[0m\u001b[0mcolumns\u001b[0m\u001b[1;33m.\u001b[0m\u001b[0mnlevels\u001b[0m \u001b[1;33m>\u001b[0m \u001b[1;36m1\u001b[0m\u001b[1;33m:\u001b[0m\u001b[1;33m\u001b[0m\u001b[1;33m\u001b[0m\u001b[0m\n\u001b[0;32m   2799\u001b[0m                 \u001b[1;32mreturn\u001b[0m \u001b[0mself\u001b[0m\u001b[1;33m.\u001b[0m\u001b[0m_getitem_multilevel\u001b[0m\u001b[1;33m(\u001b[0m\u001b[0mkey\u001b[0m\u001b[1;33m)\u001b[0m\u001b[1;33m\u001b[0m\u001b[1;33m\u001b[0m\u001b[0m\n\u001b[1;32m-> 2800\u001b[1;33m             \u001b[0mindexer\u001b[0m \u001b[1;33m=\u001b[0m \u001b[0mself\u001b[0m\u001b[1;33m.\u001b[0m\u001b[0mcolumns\u001b[0m\u001b[1;33m.\u001b[0m\u001b[0mget_loc\u001b[0m\u001b[1;33m(\u001b[0m\u001b[0mkey\u001b[0m\u001b[1;33m)\u001b[0m\u001b[1;33m\u001b[0m\u001b[1;33m\u001b[0m\u001b[0m\n\u001b[0m\u001b[0;32m   2801\u001b[0m             \u001b[1;32mif\u001b[0m \u001b[0mis_integer\u001b[0m\u001b[1;33m(\u001b[0m\u001b[0mindexer\u001b[0m\u001b[1;33m)\u001b[0m\u001b[1;33m:\u001b[0m\u001b[1;33m\u001b[0m\u001b[1;33m\u001b[0m\u001b[0m\n\u001b[0;32m   2802\u001b[0m                 \u001b[0mindexer\u001b[0m \u001b[1;33m=\u001b[0m \u001b[1;33m[\u001b[0m\u001b[0mindexer\u001b[0m\u001b[1;33m]\u001b[0m\u001b[1;33m\u001b[0m\u001b[1;33m\u001b[0m\u001b[0m\n",
      "\u001b[1;32mC:\\python3\\lib\\site-packages\\pandas\\core\\indexes\\base.py\u001b[0m in \u001b[0;36mget_loc\u001b[1;34m(self, key, method, tolerance)\u001b[0m\n\u001b[0;32m   2646\u001b[0m                 \u001b[1;32mreturn\u001b[0m \u001b[0mself\u001b[0m\u001b[1;33m.\u001b[0m\u001b[0m_engine\u001b[0m\u001b[1;33m.\u001b[0m\u001b[0mget_loc\u001b[0m\u001b[1;33m(\u001b[0m\u001b[0mkey\u001b[0m\u001b[1;33m)\u001b[0m\u001b[1;33m\u001b[0m\u001b[1;33m\u001b[0m\u001b[0m\n\u001b[0;32m   2647\u001b[0m             \u001b[1;32mexcept\u001b[0m \u001b[0mKeyError\u001b[0m\u001b[1;33m:\u001b[0m\u001b[1;33m\u001b[0m\u001b[1;33m\u001b[0m\u001b[0m\n\u001b[1;32m-> 2648\u001b[1;33m                 \u001b[1;32mreturn\u001b[0m \u001b[0mself\u001b[0m\u001b[1;33m.\u001b[0m\u001b[0m_engine\u001b[0m\u001b[1;33m.\u001b[0m\u001b[0mget_loc\u001b[0m\u001b[1;33m(\u001b[0m\u001b[0mself\u001b[0m\u001b[1;33m.\u001b[0m\u001b[0m_maybe_cast_indexer\u001b[0m\u001b[1;33m(\u001b[0m\u001b[0mkey\u001b[0m\u001b[1;33m)\u001b[0m\u001b[1;33m)\u001b[0m\u001b[1;33m\u001b[0m\u001b[1;33m\u001b[0m\u001b[0m\n\u001b[0m\u001b[0;32m   2649\u001b[0m         \u001b[0mindexer\u001b[0m \u001b[1;33m=\u001b[0m \u001b[0mself\u001b[0m\u001b[1;33m.\u001b[0m\u001b[0mget_indexer\u001b[0m\u001b[1;33m(\u001b[0m\u001b[1;33m[\u001b[0m\u001b[0mkey\u001b[0m\u001b[1;33m]\u001b[0m\u001b[1;33m,\u001b[0m \u001b[0mmethod\u001b[0m\u001b[1;33m=\u001b[0m\u001b[0mmethod\u001b[0m\u001b[1;33m,\u001b[0m \u001b[0mtolerance\u001b[0m\u001b[1;33m=\u001b[0m\u001b[0mtolerance\u001b[0m\u001b[1;33m)\u001b[0m\u001b[1;33m\u001b[0m\u001b[1;33m\u001b[0m\u001b[0m\n\u001b[0;32m   2650\u001b[0m         \u001b[1;32mif\u001b[0m \u001b[0mindexer\u001b[0m\u001b[1;33m.\u001b[0m\u001b[0mndim\u001b[0m \u001b[1;33m>\u001b[0m \u001b[1;36m1\u001b[0m \u001b[1;32mor\u001b[0m \u001b[0mindexer\u001b[0m\u001b[1;33m.\u001b[0m\u001b[0msize\u001b[0m \u001b[1;33m>\u001b[0m \u001b[1;36m1\u001b[0m\u001b[1;33m:\u001b[0m\u001b[1;33m\u001b[0m\u001b[1;33m\u001b[0m\u001b[0m\n",
      "\u001b[1;32mpandas\\_libs\\index.pyx\u001b[0m in \u001b[0;36mpandas._libs.index.IndexEngine.get_loc\u001b[1;34m()\u001b[0m\n",
      "\u001b[1;32mpandas\\_libs\\index.pyx\u001b[0m in \u001b[0;36mpandas._libs.index.IndexEngine.get_loc\u001b[1;34m()\u001b[0m\n",
      "\u001b[1;32mpandas\\_libs\\hashtable_class_helper.pxi\u001b[0m in \u001b[0;36mpandas._libs.hashtable.PyObjectHashTable.get_item\u001b[1;34m()\u001b[0m\n",
      "\u001b[1;32mpandas\\_libs\\hashtable_class_helper.pxi\u001b[0m in \u001b[0;36mpandas._libs.hashtable.PyObjectHashTable.get_item\u001b[1;34m()\u001b[0m\n",
      "\u001b[1;31mKeyError\u001b[0m: 'order_hour_of_day'"
     ]
    }
   ],
   "source": [
    "users['order_hour_of_day'] = users['order_hour_of_day'].apply(lambda x:aaa(x))\n",
    "users['order_dow'] = users['order_dow'].apply(lambda x: aaa(x))"
   ]
  },
  {
   "cell_type": "code",
   "execution_count": null,
   "metadata": {},
   "outputs": [],
   "source": [
    "plt.figure(figsize=(10,10))\n",
    "ax = sns.heatmap(\n",
    "    corr, \n",
    "    vmin=-1, vmax=1, center=0,\n",
    "    cmap=sns.diverging_palette(20, 220, n=200),\n",
    "    square=True\n",
    ")\n",
    "ax.set_xticklabels(\n",
    "    ax.get_xticklabels(),\n",
    "    rotation=40,\n",
    "    horizontalalignment='right'\n",
    ")"
   ]
  },
  {
   "cell_type": "code",
   "execution_count": null,
   "metadata": {},
   "outputs": [],
   "source": [
    "ax.figure.savefig('user_heatmap10051226.png',dpi=300, bbox_inches='tight')"
   ]
  },
  {
   "cell_type": "markdown",
   "metadata": {},
   "source": [
    "## all data merge"
   ]
  },
  {
   "cell_type": "code",
   "execution_count": 13,
   "metadata": {},
   "outputs": [],
   "source": [
    "data = orders_product.groupby(['user_id', 'product_id']).size().to_frame('up_orders') #每個combination的總數\n",
    "data['up_first_order'] = orders_product.groupby(['user_id', 'product_id'])['order_number'].min() #每個combination的訂購順序\n",
    "data['up_last_order'] = orders_product.groupby(['user_id', 'product_id'])['order_number'].max() #每個combination的訂購順序\n",
    "data['up_average_cart_position'] = orders_product.groupby(['user_id', 'product_id'])['add_to_cart_order'].mean() #每個combination加入購物車的順序\n",
    "data = data.reset_index()"
   ]
  },
  {
   "cell_type": "code",
   "execution_count": 14,
   "metadata": {},
   "outputs": [],
   "source": [
    "#加入前面新增的product及user的特徵\n",
    "data = data.merge(prd, on = 'product_id')\n",
    "data = data.merge(users, on = 'user_id')\n",
    "\n",
    "data['up_order_rate'] = data['up_orders'] / data['user_orders'] #消費者購買產品的集中度\n",
    "data['up_orders_since_last_order'] = data['user_orders'] - data['up_last_order'] #距離該combination最近一次的訂購相隔多少次其他產品的訂購 "
   ]
  },
  {
   "cell_type": "code",
   "execution_count": 15,
   "metadata": {},
   "outputs": [
    {
     "data": {
      "text/plain": [
       "33"
      ]
     },
     "execution_count": 15,
     "metadata": {},
     "output_type": "execute_result"
    }
   ],
   "source": [
    "#加入train的訂購單\n",
    "data = data.merge(train_orders[['user_id', 'product_id', 'reordered']], how = 'left', on = ['user_id', 'product_id'])\n",
    "data = data.merge(product, on = 'product_id')\n",
    "\n",
    "del orders_product\n",
    "gc.collect()"
   ]
  },
  {
   "cell_type": "code",
   "execution_count": 16,
   "metadata": {},
   "outputs": [],
   "source": [
    "XGBdata = pd.concat([data, pd.get_dummies(data['eval_set'])], axis=1).drop(['eval_set','product_name'], axis=1)"
   ]
  },
  {
   "cell_type": "code",
   "execution_count": 17,
   "metadata": {},
   "outputs": [
    {
     "name": "stderr",
     "output_type": "stream",
     "text": [
      "C:\\python3\\lib\\site-packages\\pandas\\core\\frame.py:3997: SettingWithCopyWarning: \n",
      "A value is trying to be set on a copy of a slice from a DataFrame\n",
      "\n",
      "See the caveats in the documentation: https://pandas.pydata.org/pandas-docs/stable/user_guide/indexing.html#returning-a-view-versus-a-copy\n",
      "  errors=errors,\n",
      "C:\\python3\\lib\\site-packages\\pandas\\core\\generic.py:6245: SettingWithCopyWarning: \n",
      "A value is trying to be set on a copy of a slice from a DataFrame\n",
      "\n",
      "See the caveats in the documentation: https://pandas.pydata.org/pandas-docs/stable/user_guide/indexing.html#returning-a-view-versus-a-copy\n",
      "  self._update_inplace(new_data)\n"
     ]
    }
   ],
   "source": [
    "XGBtrain = XGBdata[XGBdata['train'] == 1]\n",
    "XGBtrain.drop(['train','our_test','user_id','product_id','order_id'], axis=1, inplace=True)\n",
    "XGBtrain['reordered'].fillna(0, inplace=True)\n",
    "\n",
    "XGBtest = XGBdata[XGBdata['our_test'] == 1]\n",
    "test_id = XGBtest[['user_id','product_id']]\n",
    "XGBtest.drop(['train','our_test','user_id','product_id','order_id','reordered'], axis=1, inplace=True)"
   ]
  },
  {
   "cell_type": "code",
   "execution_count": 17,
   "metadata": {},
   "outputs": [
    {
     "data": {
      "text/html": [
       "<div>\n",
       "<style scoped>\n",
       "    .dataframe tbody tr th:only-of-type {\n",
       "        vertical-align: middle;\n",
       "    }\n",
       "\n",
       "    .dataframe tbody tr th {\n",
       "        vertical-align: top;\n",
       "    }\n",
       "\n",
       "    .dataframe thead th {\n",
       "        text-align: right;\n",
       "    }\n",
       "</style>\n",
       "<table border=\"1\" class=\"dataframe\">\n",
       "  <thead>\n",
       "    <tr style=\"text-align: right;\">\n",
       "      <th></th>\n",
       "      <th>user_id</th>\n",
       "      <th>product_id</th>\n",
       "      <th>up_orders</th>\n",
       "      <th>up_first_order</th>\n",
       "      <th>up_last_order</th>\n",
       "      <th>up_average_cart_position</th>\n",
       "      <th>prod_orders</th>\n",
       "      <th>prod_reorder_probability</th>\n",
       "      <th>prod_reorder_ratio</th>\n",
       "      <th>user_orders</th>\n",
       "      <th>...</th>\n",
       "      <th>order_id</th>\n",
       "      <th>days_since_prior_order</th>\n",
       "      <th>cluster</th>\n",
       "      <th>up_order_rate</th>\n",
       "      <th>up_orders_since_last_order</th>\n",
       "      <th>reordered</th>\n",
       "      <th>aisle_id</th>\n",
       "      <th>department_id</th>\n",
       "      <th>our_test</th>\n",
       "      <th>train</th>\n",
       "    </tr>\n",
       "  </thead>\n",
       "  <tbody>\n",
       "    <tr>\n",
       "      <th>0</th>\n",
       "      <td>1</td>\n",
       "      <td>196</td>\n",
       "      <td>10</td>\n",
       "      <td>1</td>\n",
       "      <td>10</td>\n",
       "      <td>1.400000</td>\n",
       "      <td>34952</td>\n",
       "      <td>0.581033</td>\n",
       "      <td>0.77615</td>\n",
       "      <td>10</td>\n",
       "      <td>...</td>\n",
       "      <td>1187899</td>\n",
       "      <td>14.0</td>\n",
       "      <td>1</td>\n",
       "      <td>1.000000</td>\n",
       "      <td>0</td>\n",
       "      <td>1.0</td>\n",
       "      <td>77</td>\n",
       "      <td>7</td>\n",
       "      <td>0</td>\n",
       "      <td>1</td>\n",
       "    </tr>\n",
       "    <tr>\n",
       "      <th>1</th>\n",
       "      <td>15</td>\n",
       "      <td>196</td>\n",
       "      <td>4</td>\n",
       "      <td>15</td>\n",
       "      <td>21</td>\n",
       "      <td>2.500000</td>\n",
       "      <td>34952</td>\n",
       "      <td>0.581033</td>\n",
       "      <td>0.77615</td>\n",
       "      <td>21</td>\n",
       "      <td>...</td>\n",
       "      <td>487368</td>\n",
       "      <td>14.0</td>\n",
       "      <td>1</td>\n",
       "      <td>0.190476</td>\n",
       "      <td>0</td>\n",
       "      <td>NaN</td>\n",
       "      <td>77</td>\n",
       "      <td>7</td>\n",
       "      <td>1</td>\n",
       "      <td>0</td>\n",
       "    </tr>\n",
       "    <tr>\n",
       "      <th>2</th>\n",
       "      <td>19</td>\n",
       "      <td>196</td>\n",
       "      <td>3</td>\n",
       "      <td>2</td>\n",
       "      <td>7</td>\n",
       "      <td>6.333333</td>\n",
       "      <td>34952</td>\n",
       "      <td>0.581033</td>\n",
       "      <td>0.77615</td>\n",
       "      <td>8</td>\n",
       "      <td>...</td>\n",
       "      <td>86918</td>\n",
       "      <td>8.0</td>\n",
       "      <td>1</td>\n",
       "      <td>0.375000</td>\n",
       "      <td>1</td>\n",
       "      <td>NaN</td>\n",
       "      <td>77</td>\n",
       "      <td>7</td>\n",
       "      <td>1</td>\n",
       "      <td>0</td>\n",
       "    </tr>\n",
       "    <tr>\n",
       "      <th>3</th>\n",
       "      <td>21</td>\n",
       "      <td>196</td>\n",
       "      <td>1</td>\n",
       "      <td>10</td>\n",
       "      <td>10</td>\n",
       "      <td>2.000000</td>\n",
       "      <td>34952</td>\n",
       "      <td>0.581033</td>\n",
       "      <td>0.77615</td>\n",
       "      <td>33</td>\n",
       "      <td>...</td>\n",
       "      <td>1854765</td>\n",
       "      <td>28.0</td>\n",
       "      <td>0</td>\n",
       "      <td>0.030303</td>\n",
       "      <td>23</td>\n",
       "      <td>NaN</td>\n",
       "      <td>77</td>\n",
       "      <td>7</td>\n",
       "      <td>0</td>\n",
       "      <td>1</td>\n",
       "    </tr>\n",
       "    <tr>\n",
       "      <th>4</th>\n",
       "      <td>31</td>\n",
       "      <td>196</td>\n",
       "      <td>2</td>\n",
       "      <td>10</td>\n",
       "      <td>17</td>\n",
       "      <td>15.500000</td>\n",
       "      <td>34952</td>\n",
       "      <td>0.581033</td>\n",
       "      <td>0.77615</td>\n",
       "      <td>19</td>\n",
       "      <td>...</td>\n",
       "      <td>1765409</td>\n",
       "      <td>0.0</td>\n",
       "      <td>0</td>\n",
       "      <td>0.105263</td>\n",
       "      <td>2</td>\n",
       "      <td>NaN</td>\n",
       "      <td>77</td>\n",
       "      <td>7</td>\n",
       "      <td>1</td>\n",
       "      <td>0</td>\n",
       "    </tr>\n",
       "  </tbody>\n",
       "</table>\n",
       "<p>5 rows × 26 columns</p>\n",
       "</div>"
      ],
      "text/plain": [
       "   user_id  product_id  up_orders  up_first_order  up_last_order  \\\n",
       "0        1         196         10               1             10   \n",
       "1       15         196          4              15             21   \n",
       "2       19         196          3               2              7   \n",
       "3       21         196          1              10             10   \n",
       "4       31         196          2              10             17   \n",
       "\n",
       "   up_average_cart_position  prod_orders  prod_reorder_probability  \\\n",
       "0                  1.400000        34952                  0.581033   \n",
       "1                  2.500000        34952                  0.581033   \n",
       "2                  6.333333        34952                  0.581033   \n",
       "3                  2.000000        34952                  0.581033   \n",
       "4                 15.500000        34952                  0.581033   \n",
       "\n",
       "   prod_reorder_ratio  user_orders  ...  order_id  days_since_prior_order  \\\n",
       "0             0.77615           10  ...   1187899                    14.0   \n",
       "1             0.77615           21  ...    487368                    14.0   \n",
       "2             0.77615            8  ...     86918                     8.0   \n",
       "3             0.77615           33  ...   1854765                    28.0   \n",
       "4             0.77615           19  ...   1765409                     0.0   \n",
       "\n",
       "   cluster  up_order_rate  up_orders_since_last_order  reordered  aisle_id  \\\n",
       "0        1       1.000000                           0        1.0        77   \n",
       "1        1       0.190476                           0        NaN        77   \n",
       "2        1       0.375000                           1        NaN        77   \n",
       "3        0       0.030303                          23        NaN        77   \n",
       "4        0       0.105263                           2        NaN        77   \n",
       "\n",
       "   department_id  our_test  train  \n",
       "0              7         0      1  \n",
       "1              7         1      0  \n",
       "2              7         1      0  \n",
       "3              7         0      1  \n",
       "4              7         1      0  \n",
       "\n",
       "[5 rows x 26 columns]"
      ]
     },
     "execution_count": 17,
     "metadata": {},
     "output_type": "execute_result"
    }
   ],
   "source": [
    "XGBdata.head()"
   ]
  },
  {
   "cell_type": "code",
   "execution_count": 57,
   "metadata": {},
   "outputs": [],
   "source": [
    "unbalanced_value_1 = XGBtrain[XGBtrain['reordered'] == 1]['up_orders'].count()\n",
    "unbalanced_value_0 = XGBtrain[XGBtrain['reordered'] == 0]['up_orders'].count()"
   ]
  },
  {
   "cell_type": "code",
   "execution_count": 63,
   "metadata": {},
   "outputs": [
    {
     "name": "stderr",
     "output_type": "stream",
     "text": [
      "C:\\python3\\lib\\site-packages\\pandas\\core\\indexing.py:966: SettingWithCopyWarning: \n",
      "A value is trying to be set on a copy of a slice from a DataFrame.\n",
      "Try using .loc[row_indexer,col_indexer] = value instead\n",
      "\n",
      "See the caveats in the documentation: https://pandas.pydata.org/pandas-docs/stable/user_guide/indexing.html#returning-a-view-versus-a-copy\n",
      "  self.obj[item] = s\n"
     ]
    }
   ],
   "source": [
    "unbalanced_XGBtrain = XGBtrain\n",
    "unbalanced_XGBtrain.loc[unbalanced_XGBtrain['reordered'] == 1,'reordered'] = 'reordered'\n",
    "unbalanced_XGBtrain.loc[unbalanced_XGBtrain['reordered'] == 0,'reordered'] = 'non-reordered'"
   ]
  },
  {
   "cell_type": "code",
   "execution_count": 64,
   "metadata": {},
   "outputs": [
    {
     "data": {
      "text/plain": [
       "0               reordered\n",
       "3           non-reordered\n",
       "5           non-reordered\n",
       "6           non-reordered\n",
       "7               reordered\n",
       "                ...      \n",
       "12954554    non-reordered\n",
       "12954555    non-reordered\n",
       "12954557    non-reordered\n",
       "12954558    non-reordered\n",
       "12954560    non-reordered\n",
       "Name: reordered, Length: 8455001, dtype: object"
      ]
     },
     "execution_count": 64,
     "metadata": {},
     "output_type": "execute_result"
    }
   ],
   "source": [
    "unbalanced_XGBtrain['reordered']"
   ]
  },
  {
   "cell_type": "code",
   "execution_count": 69,
   "metadata": {},
   "outputs": [
    {
     "data": {
      "image/png": "[encoded data removed]",
      "text/plain": [
       "<Figure size 432x288 with 1 Axes>"
      ]
     },
     "metadata": {
      "needs_background": "light"
     },
     "output_type": "display_data"
    }
   ],
   "source": [
    "sns_count = sns.countplot(unbalanced_XGBtrain['reordered'])\n",
    "sns_count.set(xlabel = 'order state')\n",
    "sns_count.figure.savefig('unbalanced_reordered_nonreordered_count.png')"
   ]
  },
  {
   "cell_type": "code",
   "execution_count": 18,
   "metadata": {},
   "outputs": [],
   "source": [
    "train_1 = XGBtrain[XGBtrain['reordered'] == 1].sample(n=round(len(XGBtrain)/2), replace=True, random_state=1)\n",
    "train_0 = XGBtrain[XGBtrain['reordered'] == 0].sample(n=round(len(XGBtrain)/2), replace=True, random_state=1)"
   ]
  },
  {
   "cell_type": "code",
   "execution_count": 19,
   "metadata": {},
   "outputs": [],
   "source": [
    "XGBtrain = pd.concat([train_1, train_0])"
   ]
  },
  {
   "cell_type": "code",
   "execution_count": 76,
   "metadata": {},
   "outputs": [
    {
     "data": {
      "image/png": "[encoded data removed]",
      "text/plain": [
       "<Figure size 432x288 with 1 Axes>"
      ]
     },
     "metadata": {
      "needs_background": "light"
     },
     "output_type": "display_data"
    }
   ],
   "source": [
    "sns_count = sns.countplot(XGBtrain['reordered'])\n",
    "sns_count.set(xlabel = 'order state')\n",
    "sns_count.figure.savefig('balanced_reordered_nonreordered_count.png')"
   ]
  },
  {
   "cell_type": "code",
   "execution_count": 24,
   "metadata": {},
   "outputs": [],
   "source": [
    "XGBtrain.to_csv('XGBtrain.csv',index=False)\n",
    "XGBtest.to_csv('XGBtest.csv',index=False)"
   ]
  },
  {
   "cell_type": "markdown",
   "metadata": {},
   "source": [
    "## XGBoost"
   ]
  },
  {
   "cell_type": "code",
   "execution_count": 20,
   "metadata": {},
   "outputs": [],
   "source": [
    "XGBtrain = pd.read_csv('XGBtrain.csv')\n",
    "XGBtest = pd.read_csv('XGBtest.csv')\n",
    "ord_test = pd.read_csv('ord_prior_we_dont_want.csv')\n",
    "orders =  pd.read_csv('orders_no_test.csv')"
   ]
  },
  {
   "cell_type": "markdown",
   "metadata": {},
   "source": [
    "### regressor & binary"
   ]
  },
  {
   "cell_type": "markdown",
   "metadata": {},
   "source": [
    "### XGBoost without choosing variables - regressor"
   ]
  },
  {
   "cell_type": "code",
   "execution_count": 21,
   "metadata": {},
   "outputs": [
    {
     "data": {
      "text/plain": [
       "60"
      ]
     },
     "execution_count": 21,
     "metadata": {},
     "output_type": "execute_result"
    }
   ],
   "source": [
    "gc.collect()"
   ]
  },
  {
   "cell_type": "code",
   "execution_count": 22,
   "metadata": {},
   "outputs": [],
   "source": [
    "import xgboost as xgb\n",
    "from sklearn.metrics import accuracy_score\n",
    "from sklearn.metrics import confusion_matrix as cm"
   ]
  },
  {
   "cell_type": "code",
   "execution_count": 24,
   "metadata": {},
   "outputs": [],
   "source": [
    "import xgboost as xgb\n",
    "xg_reg = xgb.XGBRegressor(objective ='reg:logistic', colsample_bytree = 0.5, learning_rate = 0.05, max_depth = 5, \n",
    "                          alpha = 10, n_estimators = 200,tree_method='gpu_hist')"
   ]
  },
  {
   "cell_type": "code",
   "execution_count": 29,
   "metadata": {},
   "outputs": [],
   "source": [
    "xgb_model = xg_reg.fit(XGBtrain.drop('reordered',axis=1),XGBtrain['reordered'])\n",
    "preds = xg_reg.predict(XGBtest)"
   ]
  },
  {
   "cell_type": "code",
   "execution_count": 24,
   "metadata": {},
   "outputs": [],
   "source": [
    "X=np.arange(0.65,0.85,0.01)\n",
    "F1=[]#填入19個F1值\n",
    "Accuracy=[]#填入19個Accuracy值"
   ]
  },
  {
   "cell_type": "code",
   "execution_count": 25,
   "metadata": {},
   "outputs": [],
   "source": [
    "test_actual = pd.merge(ord_test, orders, how='left', on='order_id')\n",
    "test_actual_all = test_actual.groupby(by=['user_id','product_id'], as_index=False).agg({'reordered':'max'})\n",
    "test_name = test_id.reset_index()\n",
    "test_name.drop('index', axis=1, inplace=True)"
   ]
  },
  {
   "cell_type": "code",
   "execution_count": 26,
   "metadata": {},
   "outputs": [],
   "source": [
    "from sklearn.metrics import f1_score"
   ]
  },
  {
   "cell_type": "code",
   "execution_count": 27,
   "metadata": {},
   "outputs": [],
   "source": [
    "for threshold in X:\n",
    "    preds_df=pd.DataFrame(preds)\n",
    "    preds_df.rename(columns={0:'pred_reordered'}, inplace=True)\n",
    "    preds_df.loc[preds_df['pred_reordered'] >=threshold, 'pred_reordered'] = 1\n",
    "    preds_df.loc[preds_df['pred_reordered'] < threshold, 'pred_reordered'] = 0\n",
    "    pred_user_prod = pd.concat([test_name, preds_df], axis=1)\n",
    "    test_user_to_valid = pd.merge(pred_user_prod, test_actual_all[test_actual_all['reordered'] == 1], how='left', on=['user_id', 'product_id'])\n",
    "    test_user_to_valid.fillna(0, inplace=True)\n",
    "    Accuracy.append(accuracy_score(test_user_to_valid['reordered'], test_user_to_valid['pred_reordered']))\n",
    "    F1.append(f1_score(test_user_to_valid['reordered'], test_user_to_valid['pred_reordered'], average='macro'))"
   ]
  },
  {
   "cell_type": "code",
   "execution_count": 28,
   "metadata": {},
   "outputs": [
    {
     "data": {
      "text/plain": [
       "<Figure size 432x288 with 0 Axes>"
      ]
     },
     "metadata": {},
     "output_type": "display_data"
    },
    {
     "data": {
      "image/png": "[encoded data removed]",
      "text/plain": [
       "<Figure size 432x288 with 2 Axes>"
      ]
     },
     "metadata": {
      "needs_background": "light"
     },
     "output_type": "display_data"
    }
   ],
   "source": [
    "plt.clf()\n",
    "fig = plt.figure()\n",
    "ax = fig.add_subplot(111)\n",
    "lns1 = ax.plot(X, F1, '-', label = 'F1')\n",
    "\n",
    "ax2 = ax.twinx()\n",
    "lns2 = ax2.plot(X, Accuracy, '-r', label = 'Accuracy')\n",
    "\n",
    "lns = lns1+lns2\n",
    "labs = [l.get_label() for l in lns]\n",
    "ax.legend(lns, labs, loc=0)\n",
    "ax.set_xlabel('Threshold')\n",
    "ax.set_ylabel('F1')\n",
    "ax2.set_ylabel('Accuracy')\n",
    "plt.suptitle('F1 vs Accuracy', size=12)\n",
    "plt.show()"
   ]
  },
  {
   "cell_type": "code",
   "execution_count": 87,
   "metadata": {},
   "outputs": [],
   "source": [
    "ax.figure.savefig('f1 VS accuracy without choosing_XGBOOST.png',dpi=300, bbox_inches='tight')"
   ]
  },
  {
   "cell_type": "code",
   "execution_count": 33,
   "metadata": {
    "scrolled": true
   },
   "outputs": [
    {
     "ename": "NameError",
     "evalue": "name 'X' is not defined",
     "output_type": "error",
     "traceback": [
      "\u001b[1;31m----------------------------------------\u001b[0m",
      "\u001b[1;31mNameError\u001b[0mTraceback (most recent call last)",
      "\u001b[1;32m<ipython-input-33-564a9c5f552f>\u001b[0m in \u001b[0;36m<module>\u001b[1;34m\u001b[0m\n\u001b[0;32m      1\u001b[0m threshold_data_XGB_without_choose = pd.DataFrame({\n\u001b[1;32m----> 2\u001b[1;33m     \u001b[1;34m'X'\u001b[0m\u001b[1;33m:\u001b[0m\u001b[0mX\u001b[0m\u001b[1;33m,\u001b[0m\u001b[1;33m\u001b[0m\u001b[1;33m\u001b[0m\u001b[0m\n\u001b[0m\u001b[0;32m      3\u001b[0m     'f1':F1}).sort_values('f1',ascending=False)\n",
      "\u001b[1;31mNameError\u001b[0m: name 'X' is not defined"
     ]
    }
   ],
   "source": [
    "threshold_data_XGB_without_choose = pd.DataFrame({\n",
    "    'X':X,\n",
    "    'f1':F1}).sort_values('f1',ascending=False)"
   ]
  },
  {
   "cell_type": "code",
   "execution_count": null,
   "metadata": {},
   "outputs": [],
   "source": [
    "threshold_data_XGB_without_choose.to_csv('threshold_data_XGB_without_choose.csv')"
   ]
  },
  {
   "cell_type": "code",
   "execution_count": 30,
   "metadata": {},
   "outputs": [],
   "source": [
    "threshold = 0.76\n",
    "preds_df=pd.DataFrame(preds)\n",
    "preds_df.rename(columns={0:'pred_reordered'}, inplace=True)\n",
    "preds_df.loc[preds_df['pred_reordered'] >=threshold, 'pred_reordered'] = 1\n",
    "preds_df.loc[preds_df['pred_reordered'] < threshold, 'pred_reordered'] = 0\n",
    "pred_user_prod = pd.concat([test_name, preds_df], axis=1)\n",
    "test_user_to_valid = pd.merge(pred_user_prod, test_actual_all[test_actual_all['reordered'] == 1], how='left', on=['user_id', 'product_id'])\n",
    "test_user_to_valid.fillna(0, inplace=True)\n",
    "Accuracy.append(accuracy_score(test_user_to_valid['reordered'], test_user_to_valid['pred_reordered']))\n",
    "F1.append(f1_score(test_user_to_valid['reordered'], test_user_to_valid['pred_reordered'], average='macro'))"
   ]
  },
  {
   "cell_type": "code",
   "execution_count": 31,
   "metadata": {},
   "outputs": [
    {
     "data": {
      "text/plain": [
       "0.8831470447894806"
      ]
     },
     "execution_count": 31,
     "metadata": {},
     "output_type": "execute_result"
    }
   ],
   "source": [
    "from sklearn.metrics import accuracy_score\n",
    "accuracy_score(test_user_to_valid['reordered'], test_user_to_valid['pred_reordered'])"
   ]
  },
  {
   "cell_type": "code",
   "execution_count": 32,
   "metadata": {},
   "outputs": [
    {
     "name": "stdout",
     "output_type": "stream",
     "text": [
      "0.42912044792406495\n",
      "0.45315376777178645\n",
      "0.9317951578767687\n",
      "0.9377369839631412\n"
     ]
    }
   ],
   "source": [
    "from sklearn.metrics import confusion_matrix as cm\n",
    "cm(test_user_to_valid['reordered'], test_user_to_valid['pred_reordered'])\n",
    "tn, fp, fn, tp = cm(test_user_to_valid['reordered'], test_user_to_valid['pred_reordered']).ravel()\n",
    "print(tp/(fp+tp)) #預測會回購的數量中，實際上會回購的比例\n",
    "print(tp/(fn+tp)) #實際上會回購的數量中，預測會回購的比例\n",
    "print(tn/(tn+fp)) #實際上不會回購的數量中，預測不會回購的比例\n",
    "print(tn/(tn+fn)) #預測不會回購的數量中，實際上不會回購的比例"
   ]
  },
  {
   "cell_type": "code",
   "execution_count": 33,
   "metadata": {},
   "outputs": [
    {
     "data": {
      "text/plain": [
       "0.6924744628242776"
      ]
     },
     "execution_count": 33,
     "metadata": {},
     "output_type": "execute_result"
    }
   ],
   "source": [
    "import numpy as np\n",
    "from sklearn import metrics\n",
    "y = test_user_to_valid['reordered']\n",
    "pred =  test_user_to_valid['pred_reordered']\n",
    "fpr, tpr, thresholds = metrics.roc_curve(y_true=y, y_score=pred, pos_label=1)\n",
    "roc_auc  = metrics.auc(fpr, tpr)\n",
    "roc_auc"
   ]
  },
  {
   "cell_type": "code",
   "execution_count": 34,
   "metadata": {},
   "outputs": [
    {
     "data": {
      "image/png": "[encoded data removed]",
      "text/plain": [
       "<Figure size 432x288 with 1 Axes>"
      ]
     },
     "metadata": {
      "needs_background": "light"
     },
     "output_type": "display_data"
    }
   ],
   "source": [
    "import matplotlib.pyplot as plt\n",
    "plt.title('Receiver Operating Characteristic')\n",
    "plt.plot(fpr, tpr, 'b', label = 'AUC = %0.2f' % roc_auc)\n",
    "plt.legend(loc = 'lower right')\n",
    "plt.plot([0, 1], [0, 1],'r--')\n",
    "plt.xlim([0, 1])\n",
    "plt.ylim([0, 1])\n",
    "plt.xlabel('False Positive Rate')\n",
    "plt.ylabel('True Positive Rate')\n",
    "\n",
    "#plt.show()\n",
    "plt.savefig('auc without choosing_XGBOOST.png',dpi=300,bbox_inches='tight')"
   ]
  },
  {
   "cell_type": "markdown",
   "metadata": {},
   "source": [
    "### XGBoost without choosing variables - binary"
   ]
  },
  {
   "cell_type": "code",
   "execution_count": 38,
   "metadata": {},
   "outputs": [
    {
     "data": {
      "text/plain": [
       "4853"
      ]
     },
     "execution_count": 38,
     "metadata": {},
     "output_type": "execute_result"
    }
   ],
   "source": [
    "gc.collect()"
   ]
  },
  {
   "cell_type": "code",
   "execution_count": 31,
   "metadata": {},
   "outputs": [],
   "source": [
    "import xgboost as xgb\n",
    "xg_reg = xgb.XGBClassifier(objective ='binary:logistic', colsample_bytree = 0.5, learning_rate = 0.1, max_depth = 5, \n",
    "                          alpha = 10, n_estimators = 10,tree_method='gpu_hist')"
   ]
  },
  {
   "cell_type": "code",
   "execution_count": 40,
   "metadata": {},
   "outputs": [],
   "source": [
    "xgb_model_binary = xg_reg.fit(XGBtrain.drop('reordered',axis=1),XGBtrain['reordered'])\n",
    "preds = xg_reg.predict(XGBtest)"
   ]
  },
  {
   "cell_type": "code",
   "execution_count": 41,
   "metadata": {},
   "outputs": [],
   "source": [
    "preds_df=pd.DataFrame(preds)\n",
    "preds_df.rename(columns={0:'pred_reordered'}, inplace=True)\n",
    "test_actual = pd.merge(ord_test, orders, how='left', on='order_id')\n",
    "test_actual_all = test_actual.groupby(by=['user_id','product_id'], as_index=False).agg({'reordered':'max'})\n",
    "test_name = test_id.reset_index()\n",
    "test_name.drop('index', axis=1, inplace=True)\n",
    "pred_user_prod = pd.concat([test_name, preds_df], axis=1)\n",
    "test_user_to_valid = pd.merge(pred_user_prod, test_actual_all[test_actual_all['reordered'] == 1], how='left', on=['user_id', 'product_id'])\n",
    "test_user_to_valid.fillna(0, inplace=True)"
   ]
  },
  {
   "cell_type": "code",
   "execution_count": 42,
   "metadata": {},
   "outputs": [
    {
     "data": {
      "text/plain": [
       "0.7415430083068104"
      ]
     },
     "execution_count": 42,
     "metadata": {},
     "output_type": "execute_result"
    }
   ],
   "source": [
    "from sklearn.metrics import accuracy_score\n",
    "accuracy_score(test_user_to_valid['reordered'], test_user_to_valid['pred_reordered'])"
   ]
  },
  {
   "cell_type": "code",
   "execution_count": 47,
   "metadata": {},
   "outputs": [
    {
     "data": {
      "text/plain": [
       "0.6049623291716334"
      ]
     },
     "execution_count": 47,
     "metadata": {},
     "output_type": "execute_result"
    }
   ],
   "source": [
    "from sklearn.metrics import f1_score\n",
    "f1_score(test_user_to_valid['reordered'],\n",
    "         test_user_to_valid['pred_reordered'],\n",
    "         average='macro')"
   ]
  },
  {
   "cell_type": "code",
   "execution_count": 43,
   "metadata": {},
   "outputs": [
    {
     "data": {
      "text/plain": [
       "array([[2991174, 1051061],\n",
       "       [ 111882,  345444]], dtype=int64)"
      ]
     },
     "execution_count": 43,
     "metadata": {},
     "output_type": "execute_result"
    }
   ],
   "source": [
    "from sklearn.metrics import confusion_matrix as cm\n",
    "cm(test_user_to_valid['reordered'], test_user_to_valid['pred_reordered'])"
   ]
  },
  {
   "cell_type": "code",
   "execution_count": 44,
   "metadata": {},
   "outputs": [
    {
     "name": "stdout",
     "output_type": "stream",
     "text": [
      "0.24736323894293252\n",
      "0.7553561354482361\n",
      "0.7399802337073426\n",
      "0.9639445759277306\n"
     ]
    }
   ],
   "source": [
    "tn, fp, fn, tp = cm(test_user_to_valid['reordered'], test_user_to_valid['pred_reordered']).ravel()\n",
    "print(tp/(fp+tp)) #預測會回購的數量中，實際上會回購的比例\n",
    "print(tp/(fn+tp)) #實際上會回購的數量中，預測會回購的比例\n",
    "print(tn/(tn+fp)) #實際上不會回購的數量中，預測不會回購的比例\n",
    "print(tn/(tn+fn)) #預測不會回購的數量中，實際上不會回購的比例"
   ]
  },
  {
   "cell_type": "code",
   "execution_count": 45,
   "metadata": {},
   "outputs": [
    {
     "data": {
      "text/plain": [
       "0.7476681845777895"
      ]
     },
     "execution_count": 45,
     "metadata": {},
     "output_type": "execute_result"
    }
   ],
   "source": [
    "import numpy as np\n",
    "from sklearn import metrics\n",
    "y = test_user_to_valid['reordered']\n",
    "pred =  test_user_to_valid['pred_reordered']\n",
    "fpr, tpr, thresholds = metrics.roc_curve(y_true=y, y_score=pred, pos_label=1)\n",
    "roc_auc  = metrics.auc(fpr, tpr)\n",
    "roc_auc"
   ]
  },
  {
   "cell_type": "code",
   "execution_count": 46,
   "metadata": {},
   "outputs": [
    {
     "data": {
      "image/png": "[encoded data removed]",
      "text/plain": [
       "<Figure size 432x288 with 1 Axes>"
      ]
     },
     "metadata": {
      "needs_background": "light"
     },
     "output_type": "display_data"
    }
   ],
   "source": [
    "import matplotlib.pyplot as plt\n",
    "plt.title('Receiver Operating Characteristic')\n",
    "plt.plot(fpr, tpr, 'b', label = 'AUC = %0.2f' % roc_auc)\n",
    "plt.legend(loc = 'lower right')\n",
    "plt.plot([0, 1], [0, 1],'r--')\n",
    "plt.xlim([0, 1])\n",
    "plt.ylim([0, 1])\n",
    "plt.ylabel('True Positive Rate')\n",
    "plt.xlabel('False Positive Rate')\n",
    "#plt.show()\n",
    "plt.savefig('auc without choosing_XGBOOST_binary.png',dpi=300,bbox_inches='tight')"
   ]
  },
  {
   "cell_type": "markdown",
   "metadata": {},
   "source": [
    "### XGBoost with choosing variables -regressor"
   ]
  },
  {
   "cell_type": "code",
   "execution_count": 23,
   "metadata": {},
   "outputs": [],
   "source": [
    "import xgboost as xgb\n",
    "xg_reg = xgb.XGBRegressor(objective ='reg:logistic', colsample_bytree = 0.5, learning_rate = 0.05, max_depth = 5, \n",
    "                          alpha = 10, n_estimators = 200,tree_method='gpu_hist')"
   ]
  },
  {
   "cell_type": "code",
   "execution_count": 32,
   "metadata": {},
   "outputs": [
    {
     "data": {
      "image/png": "[encoded data removed]",
      "text/plain": [
       "<Figure size 432x288 with 1 Axes>"
      ]
     },
     "metadata": {
      "needs_background": "light"
     },
     "output_type": "display_data"
    }
   ],
   "source": [
    "from xgboost import plot_importance\n",
    "importance_plot = plot_importance(xgb_model)\n",
    "importance_plot.figure.savefig('importance.png',dpi=300, bbox_inches='tight')"
   ]
  },
  {
   "cell_type": "code",
   "execution_count": 24,
   "metadata": {},
   "outputs": [],
   "source": [
    "XGBtrain_ch = XGBtrain.drop(['cluster','aisle_id','user_total_products','up_average_cart_position','user_orders'], axis=1)\n",
    "XGBtest_ch = XGBtest.drop(['cluster','aisle_id','user_total_products','up_average_cart_position','user_orders'], axis=1)"
   ]
  },
  {
   "cell_type": "code",
   "execution_count": 25,
   "metadata": {},
   "outputs": [],
   "source": [
    "xgb_model = xg_reg.fit(XGBtrain_ch.drop('reordered',axis=1),XGBtrain['reordered'])\n",
    "preds = xg_reg.predict(XGBtest_ch)"
   ]
  },
  {
   "cell_type": "code",
   "execution_count": 26,
   "metadata": {},
   "outputs": [],
   "source": [
    "X=np.arange(0.65,0.85,0.01)\n",
    "F1=[]#填入19個F1值\n",
    "Accuracy=[]#填入19個Accuracy值"
   ]
  },
  {
   "cell_type": "code",
   "execution_count": 27,
   "metadata": {},
   "outputs": [],
   "source": [
    "test_actual = pd.merge(ord_test, orders, how='left', on='order_id')\n",
    "test_actual_all = test_actual.groupby(by=['user_id','product_id'], as_index=False).agg({'reordered':'max'})\n",
    "test_name = test_id.reset_index()\n",
    "test_name.drop('index', axis=1, inplace=True)"
   ]
  },
  {
   "cell_type": "code",
   "execution_count": 28,
   "metadata": {},
   "outputs": [],
   "source": [
    "from sklearn.metrics import f1_score"
   ]
  },
  {
   "cell_type": "code",
   "execution_count": 29,
   "metadata": {},
   "outputs": [],
   "source": [
    "for threshold in X:\n",
    "    preds_df=pd.DataFrame(preds)\n",
    "    preds_df.rename(columns={0:'pred_reordered'}, inplace=True)\n",
    "    preds_df.loc[preds_df['pred_reordered'] >=threshold, 'pred_reordered'] = 1\n",
    "    preds_df.loc[preds_df['pred_reordered'] < threshold, 'pred_reordered'] = 0\n",
    "    pred_user_prod = pd.concat([test_name, preds_df], axis=1)\n",
    "    test_user_to_valid = pd.merge(pred_user_prod, test_actual_all[test_actual_all['reordered'] == 1], how='left', on=['user_id', 'product_id'])\n",
    "    test_user_to_valid.fillna(0, inplace=True)\n",
    "    Accuracy.append(accuracy_score(test_user_to_valid['reordered'], test_user_to_valid['pred_reordered']))\n",
    "    F1.append(f1_score(test_user_to_valid['reordered'], test_user_to_valid['pred_reordered'], average='macro'))"
   ]
  },
  {
   "cell_type": "code",
   "execution_count": 42,
   "metadata": {},
   "outputs": [
    {
     "data": {
      "text/plain": [
       "<Figure size 432x288 with 0 Axes>"
      ]
     },
     "metadata": {},
     "output_type": "display_data"
    },
    {
     "data": {
      "image/png": "[encoded data removed]",
      "text/plain": [
       "<Figure size 432x288 with 2 Axes>"
      ]
     },
     "metadata": {
      "needs_background": "light"
     },
     "output_type": "display_data"
    }
   ],
   "source": [
    "plt.clf()\n",
    "fig = plt.figure()\n",
    "ax = fig.add_subplot(111)\n",
    "lns1 = ax.plot(X, F1, '-', label = 'F1')\n",
    "\n",
    "ax2 = ax.twinx()\n",
    "lns2 = ax2.plot(X, Accuracy, '-r', label = 'Accuracy')\n",
    "\n",
    "lns = lns1+lns2\n",
    "labs = [l.get_label() for l in lns]\n",
    "ax.legend(lns, labs, loc=0)\n",
    "ax.set_xlabel('Threshold')\n",
    "ax.set_ylabel('F1')\n",
    "ax2.set_ylabel('Accuracy')\n",
    "plt.suptitle('F1 vs Accuracy', size=12)\n",
    "plt.show()"
   ]
  },
  {
   "cell_type": "code",
   "execution_count": 43,
   "metadata": {},
   "outputs": [],
   "source": [
    "ax.figure.savefig('f1 VS accuracy with choosing_XGBOOST.png',dpi=300, bbox_inches='tight')"
   ]
  },
  {
   "cell_type": "code",
   "execution_count": 44,
   "metadata": {},
   "outputs": [
    {
     "data": {
      "text/html": [
       "<div>\n",
       "<style scoped>\n",
       "    .dataframe tbody tr th:only-of-type {\n",
       "        vertical-align: middle;\n",
       "    }\n",
       "\n",
       "    .dataframe tbody tr th {\n",
       "        vertical-align: top;\n",
       "    }\n",
       "\n",
       "    .dataframe thead th {\n",
       "        text-align: right;\n",
       "    }\n",
       "</style>\n",
       "<table border=\"1\" class=\"dataframe\">\n",
       "  <thead>\n",
       "    <tr style=\"text-align: right;\">\n",
       "      <th></th>\n",
       "      <th>X</th>\n",
       "      <th>f1</th>\n",
       "    </tr>\n",
       "  </thead>\n",
       "  <tbody>\n",
       "    <tr>\n",
       "      <th>10</th>\n",
       "      <td>0.75</td>\n",
       "      <td>0.687266</td>\n",
       "    </tr>\n",
       "    <tr>\n",
       "      <th>11</th>\n",
       "      <td>0.76</td>\n",
       "      <td>0.687254</td>\n",
       "    </tr>\n",
       "    <tr>\n",
       "      <th>9</th>\n",
       "      <td>0.74</td>\n",
       "      <td>0.686823</td>\n",
       "    </tr>\n",
       "    <tr>\n",
       "      <th>12</th>\n",
       "      <td>0.77</td>\n",
       "      <td>0.686795</td>\n",
       "    </tr>\n",
       "    <tr>\n",
       "      <th>13</th>\n",
       "      <td>0.78</td>\n",
       "      <td>0.686015</td>\n",
       "    </tr>\n",
       "    <tr>\n",
       "      <th>8</th>\n",
       "      <td>0.73</td>\n",
       "      <td>0.685956</td>\n",
       "    </tr>\n",
       "    <tr>\n",
       "      <th>7</th>\n",
       "      <td>0.72</td>\n",
       "      <td>0.684794</td>\n",
       "    </tr>\n",
       "    <tr>\n",
       "      <th>14</th>\n",
       "      <td>0.79</td>\n",
       "      <td>0.684512</td>\n",
       "    </tr>\n",
       "    <tr>\n",
       "      <th>6</th>\n",
       "      <td>0.71</td>\n",
       "      <td>0.683302</td>\n",
       "    </tr>\n",
       "    <tr>\n",
       "      <th>15</th>\n",
       "      <td>0.80</td>\n",
       "      <td>0.682486</td>\n",
       "    </tr>\n",
       "    <tr>\n",
       "      <th>5</th>\n",
       "      <td>0.70</td>\n",
       "      <td>0.681482</td>\n",
       "    </tr>\n",
       "    <tr>\n",
       "      <th>16</th>\n",
       "      <td>0.81</td>\n",
       "      <td>0.679704</td>\n",
       "    </tr>\n",
       "    <tr>\n",
       "      <th>4</th>\n",
       "      <td>0.69</td>\n",
       "      <td>0.679518</td>\n",
       "    </tr>\n",
       "    <tr>\n",
       "      <th>3</th>\n",
       "      <td>0.68</td>\n",
       "      <td>0.677089</td>\n",
       "    </tr>\n",
       "    <tr>\n",
       "      <th>17</th>\n",
       "      <td>0.82</td>\n",
       "      <td>0.676208</td>\n",
       "    </tr>\n",
       "    <tr>\n",
       "      <th>2</th>\n",
       "      <td>0.67</td>\n",
       "      <td>0.674523</td>\n",
       "    </tr>\n",
       "    <tr>\n",
       "      <th>18</th>\n",
       "      <td>0.83</td>\n",
       "      <td>0.671870</td>\n",
       "    </tr>\n",
       "    <tr>\n",
       "      <th>1</th>\n",
       "      <td>0.66</td>\n",
       "      <td>0.671770</td>\n",
       "    </tr>\n",
       "    <tr>\n",
       "      <th>0</th>\n",
       "      <td>0.65</td>\n",
       "      <td>0.668717</td>\n",
       "    </tr>\n",
       "    <tr>\n",
       "      <th>19</th>\n",
       "      <td>0.84</td>\n",
       "      <td>0.666424</td>\n",
       "    </tr>\n",
       "  </tbody>\n",
       "</table>\n",
       "</div>"
      ],
      "text/plain": [
       "       X        f1\n",
       "10  0.75  0.687266\n",
       "11  0.76  0.687254\n",
       "9   0.74  0.686823\n",
       "12  0.77  0.686795\n",
       "13  0.78  0.686015\n",
       "8   0.73  0.685956\n",
       "7   0.72  0.684794\n",
       "14  0.79  0.684512\n",
       "6   0.71  0.683302\n",
       "15  0.80  0.682486\n",
       "5   0.70  0.681482\n",
       "16  0.81  0.679704\n",
       "4   0.69  0.679518\n",
       "3   0.68  0.677089\n",
       "17  0.82  0.676208\n",
       "2   0.67  0.674523\n",
       "18  0.83  0.671870\n",
       "1   0.66  0.671770\n",
       "0   0.65  0.668717\n",
       "19  0.84  0.666424"
      ]
     },
     "execution_count": 44,
     "metadata": {},
     "output_type": "execute_result"
    }
   ],
   "source": [
    "threshold_data_XGB_with_choose=pd.DataFrame({\n",
    "    'X':X,\n",
    "    'f1':F1}).sort_values('f1',ascending=False)"
   ]
  },
  {
   "cell_type": "code",
   "execution_count": null,
   "metadata": {},
   "outputs": [],
   "source": [
    "threshold_data_XGB_with_choose.to_csv('threshold_data_XGB_with_choose.csv')"
   ]
  },
  {
   "cell_type": "code",
   "execution_count": 45,
   "metadata": {},
   "outputs": [
    {
     "data": {
      "text/html": [
       "<div>\n",
       "<style scoped>\n",
       "    .dataframe tbody tr th:only-of-type {\n",
       "        vertical-align: middle;\n",
       "    }\n",
       "\n",
       "    .dataframe tbody tr th {\n",
       "        vertical-align: top;\n",
       "    }\n",
       "\n",
       "    .dataframe thead th {\n",
       "        text-align: right;\n",
       "    }\n",
       "</style>\n",
       "<table border=\"1\" class=\"dataframe\">\n",
       "  <thead>\n",
       "    <tr style=\"text-align: right;\">\n",
       "      <th></th>\n",
       "      <th>X</th>\n",
       "      <th>ACC</th>\n",
       "    </tr>\n",
       "  </thead>\n",
       "  <tbody>\n",
       "    <tr>\n",
       "      <th>19</th>\n",
       "      <td>0.84</td>\n",
       "      <td>0.901651</td>\n",
       "    </tr>\n",
       "    <tr>\n",
       "      <th>18</th>\n",
       "      <td>0.83</td>\n",
       "      <td>0.900122</td>\n",
       "    </tr>\n",
       "    <tr>\n",
       "      <th>17</th>\n",
       "      <td>0.82</td>\n",
       "      <td>0.898337</td>\n",
       "    </tr>\n",
       "    <tr>\n",
       "      <th>16</th>\n",
       "      <td>0.81</td>\n",
       "      <td>0.896323</td>\n",
       "    </tr>\n",
       "    <tr>\n",
       "      <th>15</th>\n",
       "      <td>0.80</td>\n",
       "      <td>0.894137</td>\n",
       "    </tr>\n",
       "    <tr>\n",
       "      <th>14</th>\n",
       "      <td>0.79</td>\n",
       "      <td>0.891718</td>\n",
       "    </tr>\n",
       "    <tr>\n",
       "      <th>13</th>\n",
       "      <td>0.78</td>\n",
       "      <td>0.889057</td>\n",
       "    </tr>\n",
       "    <tr>\n",
       "      <th>12</th>\n",
       "      <td>0.77</td>\n",
       "      <td>0.886192</td>\n",
       "    </tr>\n",
       "    <tr>\n",
       "      <th>11</th>\n",
       "      <td>0.76</td>\n",
       "      <td>0.883180</td>\n",
       "    </tr>\n",
       "    <tr>\n",
       "      <th>10</th>\n",
       "      <td>0.75</td>\n",
       "      <td>0.879976</td>\n",
       "    </tr>\n",
       "    <tr>\n",
       "      <th>9</th>\n",
       "      <td>0.74</td>\n",
       "      <td>0.876584</td>\n",
       "    </tr>\n",
       "    <tr>\n",
       "      <th>8</th>\n",
       "      <td>0.73</td>\n",
       "      <td>0.872963</td>\n",
       "    </tr>\n",
       "    <tr>\n",
       "      <th>7</th>\n",
       "      <td>0.72</td>\n",
       "      <td>0.869177</td>\n",
       "    </tr>\n",
       "    <tr>\n",
       "      <th>6</th>\n",
       "      <td>0.71</td>\n",
       "      <td>0.865220</td>\n",
       "    </tr>\n",
       "    <tr>\n",
       "      <th>5</th>\n",
       "      <td>0.70</td>\n",
       "      <td>0.860998</td>\n",
       "    </tr>\n",
       "    <tr>\n",
       "      <th>4</th>\n",
       "      <td>0.69</td>\n",
       "      <td>0.856718</td>\n",
       "    </tr>\n",
       "    <tr>\n",
       "      <th>3</th>\n",
       "      <td>0.68</td>\n",
       "      <td>0.852144</td>\n",
       "    </tr>\n",
       "    <tr>\n",
       "      <th>2</th>\n",
       "      <td>0.67</td>\n",
       "      <td>0.847433</td>\n",
       "    </tr>\n",
       "    <tr>\n",
       "      <th>1</th>\n",
       "      <td>0.66</td>\n",
       "      <td>0.842584</td>\n",
       "    </tr>\n",
       "    <tr>\n",
       "      <th>0</th>\n",
       "      <td>0.65</td>\n",
       "      <td>0.837478</td>\n",
       "    </tr>\n",
       "  </tbody>\n",
       "</table>\n",
       "</div>"
      ],
      "text/plain": [
       "       X       ACC\n",
       "19  0.84  0.901651\n",
       "18  0.83  0.900122\n",
       "17  0.82  0.898337\n",
       "16  0.81  0.896323\n",
       "15  0.80  0.894137\n",
       "14  0.79  0.891718\n",
       "13  0.78  0.889057\n",
       "12  0.77  0.886192\n",
       "11  0.76  0.883180\n",
       "10  0.75  0.879976\n",
       "9   0.74  0.876584\n",
       "8   0.73  0.872963\n",
       "7   0.72  0.869177\n",
       "6   0.71  0.865220\n",
       "5   0.70  0.860998\n",
       "4   0.69  0.856718\n",
       "3   0.68  0.852144\n",
       "2   0.67  0.847433\n",
       "1   0.66  0.842584\n",
       "0   0.65  0.837478"
      ]
     },
     "execution_count": 45,
     "metadata": {},
     "output_type": "execute_result"
    }
   ],
   "source": [
    "pd.DataFrame({\n",
    "    'X':X,\n",
    "    'ACC':Accuracy}).sort_values('ACC',ascending=False)"
   ]
  },
  {
   "cell_type": "markdown",
   "metadata": {},
   "source": [
    "### XGBoost with choosing variables - binary"
   ]
  },
  {
   "cell_type": "code",
   "execution_count": null,
   "metadata": {},
   "outputs": [],
   "source": [
    "import xgboost as xgb\n",
    "xg_reg = xgb.XGBClassifier(objective ='binary:logistic', colsample_bytree = 0.5, learning_rate = 0.1, max_depth = 5, \n",
    "                          alpha = 10, n_estimators = 10,tree_method='gpu_hist')"
   ]
  },
  {
   "cell_type": "code",
   "execution_count": null,
   "metadata": {},
   "outputs": [],
   "source": [
    "from xgboost import plot_importance\n",
    "importance_plot = plot_importance(xgb_model_binary)\n",
    "importance_plot.figure.savefig('importance.png',dpi=300, bbox_inches='tight')"
   ]
  },
  {
   "cell_type": "code",
   "execution_count": null,
   "metadata": {},
   "outputs": [],
   "source": [
    "XGBtrain_ch = XGBtrain.drop(['cluster','aisle_id','user_total_products','up_average_cart_position','user_orders'], axis=1)\n",
    "XGBtest_ch = XGBtest.drop(['cluster','aisle_id','user_total_products','up_average_cart_position','user_orders'], axis=1)"
   ]
  },
  {
   "cell_type": "code",
   "execution_count": null,
   "metadata": {},
   "outputs": [],
   "source": [
    "xgb_model_binary = xg_reg.fit(XGBtrain_ch.drop('reordered',axis=1),XGBtrain_ch['reordered'])\n",
    "preds = xg_reg.predict(XGBtest_ch)"
   ]
  },
  {
   "cell_type": "code",
   "execution_count": null,
   "metadata": {},
   "outputs": [],
   "source": [
    "preds_df=pd.DataFrame(preds)\n",
    "preds_df.rename(columns={0:'pred_reordered'}, inplace=True)\n",
    "test_actual = pd.merge(ord_test, orders, how='left', on='order_id')\n",
    "test_actual_all = test_actual.groupby(by=['user_id','product_id'], as_index=False).agg({'reordered':'max'})\n",
    "test_name = test_id.reset_index()\n",
    "test_name.drop('index', axis=1, inplace=True)\n",
    "pred_user_prod = pd.concat([test_name, preds_df], axis=1)\n",
    "test_user_to_valid = pd.merge(pred_user_prod, test_actual_all[test_actual_all['reordered'] == 1], how='left', on=['user_id', 'product_id'])\n",
    "test_user_to_valid.fillna(0, inplace=True)"
   ]
  },
  {
   "cell_type": "code",
   "execution_count": null,
   "metadata": {},
   "outputs": [],
   "source": [
    "from sklearn.metrics import accuracy_score\n",
    "accuracy_score(test_user_to_valid['reordered'], test_user_to_valid['pred_reordered'])"
   ]
  },
  {
   "cell_type": "code",
   "execution_count": null,
   "metadata": {},
   "outputs": [],
   "source": [
    "from sklearn.metrics import confusion_matrix as cm\n",
    "cm(test_user_to_valid['reordered'], test_user_to_valid['pred_reordered'])"
   ]
  },
  {
   "cell_type": "code",
   "execution_count": null,
   "metadata": {},
   "outputs": [],
   "source": [
    "tn, fp, fn, tp = cm(test_user_to_valid['reordered'], test_user_to_valid['pred_reordered']).ravel()\n",
    "print(tp/(fp+tp)) #預測會回購的數量中，實際上會回購的比例\n",
    "print(tp/(fn+tp)) #實際上會回購的數量中，預測會回購的比例\n",
    "print(tn/(tn+fp)) #實際上不會回購的數量中，預測不會回購的比例\n",
    "print(tn/(tn+fn)) #預測不會回購的數量中，實際上不會回購的比例"
   ]
  },
  {
   "cell_type": "code",
   "execution_count": null,
   "metadata": {},
   "outputs": [],
   "source": [
    "import numpy as np\n",
    "from sklearn import metrics\n",
    "y = test_user_to_valid['reordered']\n",
    "pred =  test_user_to_valid['pred_reordered']\n",
    "fpr, tpr, thresholds = metrics.roc_curve(y_true=y, y_score=pred, pos_label=1)\n",
    "roc_auc  = metrics.auc(fpr, tpr)\n",
    "roc_auc"
   ]
  },
  {
   "cell_type": "code",
   "execution_count": null,
   "metadata": {},
   "outputs": [],
   "source": [
    "import matplotlib.pyplot as plt\n",
    "plt.title('Receiver Operating Characteristic')\n",
    "plt.plot(fpr, tpr, 'b', label = 'AUC = %0.2f' % roc_auc)\n",
    "plt.legend(loc = 'lower right')\n",
    "plt.plot([0, 1], [0, 1],'r--')\n",
    "plt.xlim([0, 1])\n",
    "plt.ylim([0, 1])\n",
    "plt.ylabel('True Positive Rate')\n",
    "plt.xlabel('False Positive Rate')\n",
    "#plt.show()\n",
    "plt.savefig('days_since_prior_order.png',dpi=300,bbox_inches='tight')"
   ]
  },
  {
   "cell_type": "markdown",
   "metadata": {},
   "source": [
    "### XGBoost result"
   ]
  },
  {
   "cell_type": "code",
   "execution_count": 30,
   "metadata": {},
   "outputs": [],
   "source": [
    "threshold = 0.75"
   ]
  },
  {
   "cell_type": "code",
   "execution_count": 31,
   "metadata": {},
   "outputs": [],
   "source": [
    "preds_df=pd.DataFrame(preds)\n",
    "preds_df.rename(columns={0:'pred_reordered'}, inplace=True)\n",
    "preds_df.loc[preds_df['pred_reordered'] >=threshold, 'pred_reordered'] = 1\n",
    "preds_df.loc[preds_df['pred_reordered'] < threshold, 'pred_reordered'] = 0\n",
    "pred_user_prod = pd.concat([test_name, preds_df], axis=1)\n",
    "test_user_to_valid = pd.merge(pred_user_prod, test_actual_all[test_actual_all['reordered'] == 1], how='left', on=['user_id', 'product_id'])\n",
    "test_user_to_valid.fillna(0, inplace=True)"
   ]
  },
  {
   "cell_type": "code",
   "execution_count": 32,
   "metadata": {},
   "outputs": [
    {
     "data": {
      "text/plain": [
       "array([[3746012,  296223],\n",
       "       [ 243629,  213697]], dtype=int64)"
      ]
     },
     "execution_count": 32,
     "metadata": {},
     "output_type": "execute_result"
    }
   ],
   "source": [
    "cm(test_user_to_valid['reordered'], test_user_to_valid['pred_reordered'])"
   ]
  },
  {
   "cell_type": "code",
   "execution_count": 33,
   "metadata": {},
   "outputs": [
    {
     "data": {
      "text/plain": [
       "0.8800211842888673"
      ]
     },
     "execution_count": 33,
     "metadata": {},
     "output_type": "execute_result"
    }
   ],
   "source": [
    "from sklearn.metrics import accuracy_score\n",
    "accuracy_score(test_user_to_valid['reordered'], test_user_to_valid['pred_reordered'])"
   ]
  },
  {
   "cell_type": "code",
   "execution_count": 34,
   "metadata": {},
   "outputs": [
    {
     "name": "stdout",
     "output_type": "stream",
     "text": [
      "0.4190794634452463\n",
      "0.4672749854589505\n",
      "0.9267180161470078\n",
      "0.9389346058956182\n"
     ]
    }
   ],
   "source": [
    "tn, fp, fn, tp = cm(test_user_to_valid['reordered'], test_user_to_valid['pred_reordered']).ravel()\n",
    "print(tp/(fp+tp)) #預測會回購的數量中，實際上會回購的比例\n",
    "print(tp/(fn+tp)) #實際上會回購的數量中，預測會回購的比例\n",
    "print(tn/(tn+fp)) #實際上不會回購的數量中，預測不會回購的比例\n",
    "print(tn/(tn+fn)) #預測不會回購的數量中，實際上不會回購的比例"
   ]
  },
  {
   "cell_type": "code",
   "execution_count": 35,
   "metadata": {},
   "outputs": [
    {
     "data": {
      "text/plain": [
       "0.6969965008029793"
      ]
     },
     "execution_count": 35,
     "metadata": {},
     "output_type": "execute_result"
    }
   ],
   "source": [
    "import numpy as np\n",
    "from sklearn import metrics\n",
    "y = test_user_to_valid['reordered']\n",
    "pred =  test_user_to_valid['pred_reordered']\n",
    "fpr, tpr, thresholds = metrics.roc_curve(y_true=y, y_score=pred, pos_label=1)\n",
    "roc_auc  = metrics.auc(fpr, tpr)\n",
    "roc_auc"
   ]
  },
  {
   "cell_type": "code",
   "execution_count": 36,
   "metadata": {},
   "outputs": [
    {
     "data": {
      "text/plain": [
       "array([0.        , 0.07328198, 1.        ])"
      ]
     },
     "execution_count": 36,
     "metadata": {},
     "output_type": "execute_result"
    }
   ],
   "source": [
    "fpr"
   ]
  },
  {
   "cell_type": "code",
   "execution_count": 37,
   "metadata": {},
   "outputs": [
    {
     "data": {
      "text/plain": [
       "array([0.        , 0.46727499, 1.        ])"
      ]
     },
     "execution_count": 37,
     "metadata": {},
     "output_type": "execute_result"
    }
   ],
   "source": [
    "tpr"
   ]
  },
  {
   "cell_type": "code",
   "execution_count": 63,
   "metadata": {
    "scrolled": true
   },
   "outputs": [
    {
     "data": {
      "image/png": "[encoded data removed]",
      "text/plain": [
       "<Figure size 432x288 with 1 Axes>"
      ]
     },
     "metadata": {
      "needs_background": "light"
     },
     "output_type": "display_data"
    }
   ],
   "source": [
    "import matplotlib.pyplot as plt\n",
    "plt.title('Receiver Operating Characteristic')\n",
    "plt.plot(fpr, tpr, 'b', label = 'AUC = %0.2f' % roc_auc)\n",
    "plt.legend(loc = 'lower right')\n",
    "plt.plot([0, 1], [0, 1],'r--')\n",
    "plt.xlim([0, 1])\n",
    "plt.ylim([0, 1])\n",
    "plt.ylabel('True Positive Rate')\n",
    "plt.xlabel('False Positive Rate')\n",
    "#plt.show()\n",
    "plt.savefig('days_since_prior_order.png',dpi=300,bbox_inches='tight')"
   ]
  },
  {
   "cell_type": "code",
   "execution_count": 39,
   "metadata": {},
   "outputs": [
    {
     "data": {
      "text/html": [
       "<div>\n",
       "<style scoped>\n",
       "    .dataframe tbody tr th:only-of-type {\n",
       "        vertical-align: middle;\n",
       "    }\n",
       "\n",
       "    .dataframe tbody tr th {\n",
       "        vertical-align: top;\n",
       "    }\n",
       "\n",
       "    .dataframe thead th {\n",
       "        text-align: right;\n",
       "    }\n",
       "</style>\n",
       "<table border=\"1\" class=\"dataframe\">\n",
       "  <thead>\n",
       "    <tr style=\"text-align: right;\">\n",
       "      <th></th>\n",
       "      <th>user_id</th>\n",
       "      <th>product_id</th>\n",
       "      <th>pred_reordered</th>\n",
       "      <th>reordered</th>\n",
       "    </tr>\n",
       "  </thead>\n",
       "  <tbody>\n",
       "    <tr>\n",
       "      <th>0</th>\n",
       "      <td>15</td>\n",
       "      <td>196</td>\n",
       "      <td>1.0</td>\n",
       "      <td>1.0</td>\n",
       "    </tr>\n",
       "    <tr>\n",
       "      <th>1</th>\n",
       "      <td>19</td>\n",
       "      <td>196</td>\n",
       "      <td>1.0</td>\n",
       "      <td>0.0</td>\n",
       "    </tr>\n",
       "    <tr>\n",
       "      <th>2</th>\n",
       "      <td>31</td>\n",
       "      <td>196</td>\n",
       "      <td>0.0</td>\n",
       "      <td>0.0</td>\n",
       "    </tr>\n",
       "    <tr>\n",
       "      <th>3</th>\n",
       "      <td>98</td>\n",
       "      <td>196</td>\n",
       "      <td>1.0</td>\n",
       "      <td>1.0</td>\n",
       "    </tr>\n",
       "    <tr>\n",
       "      <th>4</th>\n",
       "      <td>290</td>\n",
       "      <td>196</td>\n",
       "      <td>0.0</td>\n",
       "      <td>0.0</td>\n",
       "    </tr>\n",
       "    <tr>\n",
       "      <th>...</th>\n",
       "      <td>...</td>\n",
       "      <td>...</td>\n",
       "      <td>...</td>\n",
       "      <td>...</td>\n",
       "    </tr>\n",
       "    <tr>\n",
       "      <th>4499556</th>\n",
       "      <td>32777</td>\n",
       "      <td>26724</td>\n",
       "      <td>0.0</td>\n",
       "      <td>0.0</td>\n",
       "    </tr>\n",
       "    <tr>\n",
       "      <th>4499557</th>\n",
       "      <td>192711</td>\n",
       "      <td>32117</td>\n",
       "      <td>0.0</td>\n",
       "      <td>0.0</td>\n",
       "    </tr>\n",
       "    <tr>\n",
       "      <th>4499558</th>\n",
       "      <td>92204</td>\n",
       "      <td>29232</td>\n",
       "      <td>1.0</td>\n",
       "      <td>0.0</td>\n",
       "    </tr>\n",
       "    <tr>\n",
       "      <th>4499559</th>\n",
       "      <td>90434</td>\n",
       "      <td>26417</td>\n",
       "      <td>0.0</td>\n",
       "      <td>1.0</td>\n",
       "    </tr>\n",
       "    <tr>\n",
       "      <th>4499560</th>\n",
       "      <td>168299</td>\n",
       "      <td>39244</td>\n",
       "      <td>1.0</td>\n",
       "      <td>0.0</td>\n",
       "    </tr>\n",
       "  </tbody>\n",
       "</table>\n",
       "<p>4499561 rows × 4 columns</p>\n",
       "</div>"
      ],
      "text/plain": [
       "         user_id product_id  pred_reordered  reordered\n",
       "0             15        196             1.0        1.0\n",
       "1             19        196             1.0        0.0\n",
       "2             31        196             0.0        0.0\n",
       "3             98        196             1.0        1.0\n",
       "4            290        196             0.0        0.0\n",
       "...          ...        ...             ...        ...\n",
       "4499556    32777      26724             0.0        0.0\n",
       "4499557   192711      32117             0.0        0.0\n",
       "4499558    92204      29232             1.0        0.0\n",
       "4499559    90434      26417             0.0        1.0\n",
       "4499560   168299      39244             1.0        0.0\n",
       "\n",
       "[4499561 rows x 4 columns]"
      ]
     },
     "execution_count": 39,
     "metadata": {},
     "output_type": "execute_result"
    }
   ],
   "source": [
    "test_user_to_valid"
   ]
  },
  {
   "cell_type": "code",
   "execution_count": 40,
   "metadata": {},
   "outputs": [
    {
     "ename": "TypeError",
     "evalue": "type str doesn't define __trunc__ method",
     "output_type": "error",
     "traceback": [
      "\u001b[1;31m----------------------------------------\u001b[0m",
      "\u001b[1;31mTypeError\u001b[0mTraceback (most recent call last)",
      "\u001b[1;32m<ipython-input-40-c71212ba77e5>\u001b[0m in \u001b[0;36m<module>\u001b[1;34m\u001b[0m\n\u001b[0;32m      1\u001b[0m \u001b[1;32mimport\u001b[0m \u001b[0mmath\u001b[0m\u001b[1;33m\u001b[0m\u001b[1;33m\u001b[0m\u001b[0m\n\u001b[1;32m----> 2\u001b[1;33m \u001b[0mtest_user_to_valid\u001b[0m\u001b[1;33m[\u001b[0m\u001b[1;34m'product_id'\u001b[0m\u001b[1;33m]\u001b[0m \u001b[1;33m=\u001b[0m \u001b[0mtest_user_to_valid\u001b[0m\u001b[1;33m[\u001b[0m\u001b[1;34m'product_id'\u001b[0m\u001b[1;33m]\u001b[0m\u001b[1;33m.\u001b[0m\u001b[0mapply\u001b[0m\u001b[1;33m(\u001b[0m\u001b[1;32mlambda\u001b[0m \u001b[0mx\u001b[0m\u001b[1;33m:\u001b[0m \u001b[0mmath\u001b[0m\u001b[1;33m.\u001b[0m\u001b[0mtrunc\u001b[0m\u001b[1;33m(\u001b[0m\u001b[0mx\u001b[0m\u001b[1;33m)\u001b[0m\u001b[1;33m)\u001b[0m\u001b[1;33m\u001b[0m\u001b[1;33m\u001b[0m\u001b[0m\n\u001b[0m\u001b[0;32m      3\u001b[0m \u001b[0mtest_user_to_valid\u001b[0m\u001b[1;33m.\u001b[0m\u001b[0mproduct_id\u001b[0m \u001b[1;33m=\u001b[0m \u001b[0mtest_user_to_valid\u001b[0m\u001b[1;33m.\u001b[0m\u001b[0mproduct_id\u001b[0m\u001b[1;33m.\u001b[0m\u001b[0mastype\u001b[0m\u001b[1;33m(\u001b[0m\u001b[0mstr\u001b[0m\u001b[1;33m)\u001b[0m\u001b[1;33m\u001b[0m\u001b[1;33m\u001b[0m\u001b[0m\n\u001b[0;32m      4\u001b[0m \u001b[0mtest_user_to_valid\u001b[0m\u001b[1;33m.\u001b[0m\u001b[0mloc\u001b[0m\u001b[1;33m[\u001b[0m\u001b[0mXGBtest\u001b[0m\u001b[1;33m[\u001b[0m\u001b[1;34m'reordered'\u001b[0m\u001b[1;33m]\u001b[0m\u001b[1;33m==\u001b[0m\u001b[1;36m0\u001b[0m\u001b[1;33m,\u001b[0m\u001b[1;34m'product_id'\u001b[0m\u001b[1;33m]\u001b[0m \u001b[1;33m=\u001b[0m \u001b[1;34m'None'\u001b[0m\u001b[1;33m\u001b[0m\u001b[1;33m\u001b[0m\u001b[0m\n\u001b[0;32m      5\u001b[0m \u001b[0msubmission\u001b[0m \u001b[1;33m=\u001b[0m \u001b[0mtest_user_to_valid\u001b[0m\u001b[1;33m.\u001b[0m\u001b[0mgroupby\u001b[0m\u001b[1;33m(\u001b[0m\u001b[0mby\u001b[0m\u001b[1;33m=\u001b[0m\u001b[1;34m'user_id'\u001b[0m\u001b[1;33m)\u001b[0m\u001b[1;33m.\u001b[0m\u001b[0magg\u001b[0m\u001b[1;33m(\u001b[0m\u001b[1;33m{\u001b[0m\u001b[1;34m'product_id'\u001b[0m\u001b[1;33m:\u001b[0m\u001b[1;33m(\u001b[0m\u001b[1;32mlambda\u001b[0m \u001b[0mx\u001b[0m\u001b[1;33m:\u001b[0m \u001b[0mlist\u001b[0m\u001b[1;33m(\u001b[0m\u001b[0mx\u001b[0m\u001b[1;33m)\u001b[0m\u001b[1;33m)\u001b[0m\u001b[1;33m}\u001b[0m\u001b[1;33m)\u001b[0m\u001b[1;33m\u001b[0m\u001b[1;33m\u001b[0m\u001b[0m\n",
      "\u001b[1;32mC:\\python3\\lib\\site-packages\\pandas\\core\\series.py\u001b[0m in \u001b[0;36mapply\u001b[1;34m(self, func, convert_dtype, args, **kwds)\u001b[0m\n\u001b[0;32m   3846\u001b[0m             \u001b[1;32melse\u001b[0m\u001b[1;33m:\u001b[0m\u001b[1;33m\u001b[0m\u001b[1;33m\u001b[0m\u001b[0m\n\u001b[0;32m   3847\u001b[0m                 \u001b[0mvalues\u001b[0m \u001b[1;33m=\u001b[0m \u001b[0mself\u001b[0m\u001b[1;33m.\u001b[0m\u001b[0mastype\u001b[0m\u001b[1;33m(\u001b[0m\u001b[0mobject\u001b[0m\u001b[1;33m)\u001b[0m\u001b[1;33m.\u001b[0m\u001b[0mvalues\u001b[0m\u001b[1;33m\u001b[0m\u001b[1;33m\u001b[0m\u001b[0m\n\u001b[1;32m-> 3848\u001b[1;33m                 \u001b[0mmapped\u001b[0m \u001b[1;33m=\u001b[0m \u001b[0mlib\u001b[0m\u001b[1;33m.\u001b[0m\u001b[0mmap_infer\u001b[0m\u001b[1;33m(\u001b[0m\u001b[0mvalues\u001b[0m\u001b[1;33m,\u001b[0m \u001b[0mf\u001b[0m\u001b[1;33m,\u001b[0m \u001b[0mconvert\u001b[0m\u001b[1;33m=\u001b[0m\u001b[0mconvert_dtype\u001b[0m\u001b[1;33m)\u001b[0m\u001b[1;33m\u001b[0m\u001b[1;33m\u001b[0m\u001b[0m\n\u001b[0m\u001b[0;32m   3849\u001b[0m \u001b[1;33m\u001b[0m\u001b[0m\n\u001b[0;32m   3850\u001b[0m         \u001b[1;32mif\u001b[0m \u001b[0mlen\u001b[0m\u001b[1;33m(\u001b[0m\u001b[0mmapped\u001b[0m\u001b[1;33m)\u001b[0m \u001b[1;32mand\u001b[0m \u001b[0misinstance\u001b[0m\u001b[1;33m(\u001b[0m\u001b[0mmapped\u001b[0m\u001b[1;33m[\u001b[0m\u001b[1;36m0\u001b[0m\u001b[1;33m]\u001b[0m\u001b[1;33m,\u001b[0m \u001b[0mSeries\u001b[0m\u001b[1;33m)\u001b[0m\u001b[1;33m:\u001b[0m\u001b[1;33m\u001b[0m\u001b[1;33m\u001b[0m\u001b[0m\n",
      "\u001b[1;32mpandas\\_libs\\lib.pyx\u001b[0m in \u001b[0;36mpandas._libs.lib.map_infer\u001b[1;34m()\u001b[0m\n",
      "\u001b[1;32m<ipython-input-40-c71212ba77e5>\u001b[0m in \u001b[0;36m<lambda>\u001b[1;34m(x)\u001b[0m\n\u001b[0;32m      1\u001b[0m \u001b[1;32mimport\u001b[0m \u001b[0mmath\u001b[0m\u001b[1;33m\u001b[0m\u001b[1;33m\u001b[0m\u001b[0m\n\u001b[1;32m----> 2\u001b[1;33m \u001b[0mtest_user_to_valid\u001b[0m\u001b[1;33m[\u001b[0m\u001b[1;34m'product_id'\u001b[0m\u001b[1;33m]\u001b[0m \u001b[1;33m=\u001b[0m \u001b[0mtest_user_to_valid\u001b[0m\u001b[1;33m[\u001b[0m\u001b[1;34m'product_id'\u001b[0m\u001b[1;33m]\u001b[0m\u001b[1;33m.\u001b[0m\u001b[0mapply\u001b[0m\u001b[1;33m(\u001b[0m\u001b[1;32mlambda\u001b[0m \u001b[0mx\u001b[0m\u001b[1;33m:\u001b[0m \u001b[0mmath\u001b[0m\u001b[1;33m.\u001b[0m\u001b[0mtrunc\u001b[0m\u001b[1;33m(\u001b[0m\u001b[0mx\u001b[0m\u001b[1;33m)\u001b[0m\u001b[1;33m)\u001b[0m\u001b[1;33m\u001b[0m\u001b[1;33m\u001b[0m\u001b[0m\n\u001b[0m\u001b[0;32m      3\u001b[0m \u001b[0mtest_user_to_valid\u001b[0m\u001b[1;33m.\u001b[0m\u001b[0mproduct_id\u001b[0m \u001b[1;33m=\u001b[0m \u001b[0mtest_user_to_valid\u001b[0m\u001b[1;33m.\u001b[0m\u001b[0mproduct_id\u001b[0m\u001b[1;33m.\u001b[0m\u001b[0mastype\u001b[0m\u001b[1;33m(\u001b[0m\u001b[0mstr\u001b[0m\u001b[1;33m)\u001b[0m\u001b[1;33m\u001b[0m\u001b[1;33m\u001b[0m\u001b[0m\n\u001b[0;32m      4\u001b[0m \u001b[0mtest_user_to_valid\u001b[0m\u001b[1;33m.\u001b[0m\u001b[0mloc\u001b[0m\u001b[1;33m[\u001b[0m\u001b[0mXGBtest\u001b[0m\u001b[1;33m[\u001b[0m\u001b[1;34m'reordered'\u001b[0m\u001b[1;33m]\u001b[0m\u001b[1;33m==\u001b[0m\u001b[1;36m0\u001b[0m\u001b[1;33m,\u001b[0m\u001b[1;34m'product_id'\u001b[0m\u001b[1;33m]\u001b[0m \u001b[1;33m=\u001b[0m \u001b[1;34m'None'\u001b[0m\u001b[1;33m\u001b[0m\u001b[1;33m\u001b[0m\u001b[0m\n\u001b[0;32m      5\u001b[0m \u001b[0msubmission\u001b[0m \u001b[1;33m=\u001b[0m \u001b[0mtest_user_to_valid\u001b[0m\u001b[1;33m.\u001b[0m\u001b[0mgroupby\u001b[0m\u001b[1;33m(\u001b[0m\u001b[0mby\u001b[0m\u001b[1;33m=\u001b[0m\u001b[1;34m'user_id'\u001b[0m\u001b[1;33m)\u001b[0m\u001b[1;33m.\u001b[0m\u001b[0magg\u001b[0m\u001b[1;33m(\u001b[0m\u001b[1;33m{\u001b[0m\u001b[1;34m'product_id'\u001b[0m\u001b[1;33m:\u001b[0m\u001b[1;33m(\u001b[0m\u001b[1;32mlambda\u001b[0m \u001b[0mx\u001b[0m\u001b[1;33m:\u001b[0m \u001b[0mlist\u001b[0m\u001b[1;33m(\u001b[0m\u001b[0mx\u001b[0m\u001b[1;33m)\u001b[0m\u001b[1;33m)\u001b[0m\u001b[1;33m}\u001b[0m\u001b[1;33m)\u001b[0m\u001b[1;33m\u001b[0m\u001b[1;33m\u001b[0m\u001b[0m\n",
      "\u001b[1;31mTypeError\u001b[0m: type str doesn't define __trunc__ method"
     ]
    }
   ],
   "source": [
    "import math\n",
    "test_user_to_valid['product_id'] = test_user_to_valid['product_id'].apply(lambda x: math.trunc(x))\n",
    "test_user_to_valid.product_id = test_user_to_valid.product_id.astype(str)"
   ]
  },
  {
   "cell_type": "code",
   "execution_count": 43,
   "metadata": {},
   "outputs": [],
   "source": [
    "test_user_to_valid.loc[test_user_to_valid['reordered']==0.0,'product_id'] = 'None'\n",
    "submission = test_user_to_valid.groupby(by='user_id').agg({'product_id':(lambda x: list(x))})"
   ]
  },
  {
   "cell_type": "code",
   "execution_count": 44,
   "metadata": {},
   "outputs": [],
   "source": [
    "submission = submission['product_id'].apply(lambda x: ' '.join(set(x)))\n",
    "submission = pd.DataFrame(submission).reset_index()\n",
    "submission.rename(columns = {'product_id':'products'}, inplace = True)\n",
    "submission.to_csv('submission_XGB.csv', index=False)"
   ]
  },
  {
   "cell_type": "code",
   "execution_count": 45,
   "metadata": {},
   "outputs": [
    {
     "data": {
      "text/html": [
       "<div>\n",
       "<style scoped>\n",
       "    .dataframe tbody tr th:only-of-type {\n",
       "        vertical-align: middle;\n",
       "    }\n",
       "\n",
       "    .dataframe tbody tr th {\n",
       "        vertical-align: top;\n",
       "    }\n",
       "\n",
       "    .dataframe thead th {\n",
       "        text-align: right;\n",
       "    }\n",
       "</style>\n",
       "<table border=\"1\" class=\"dataframe\">\n",
       "  <thead>\n",
       "    <tr style=\"text-align: right;\">\n",
       "      <th></th>\n",
       "      <th>user_id</th>\n",
       "      <th>products</th>\n",
       "    </tr>\n",
       "  </thead>\n",
       "  <tbody>\n",
       "    <tr>\n",
       "      <th>0</th>\n",
       "      <td>3</td>\n",
       "      <td>23650 39190 24810 21903 None 18599 47766</td>\n",
       "    </tr>\n",
       "    <tr>\n",
       "      <th>1</th>\n",
       "      <td>4</td>\n",
       "      <td>None</td>\n",
       "    </tr>\n",
       "    <tr>\n",
       "      <th>2</th>\n",
       "      <td>6</td>\n",
       "      <td>None</td>\n",
       "    </tr>\n",
       "    <tr>\n",
       "      <th>3</th>\n",
       "      <td>11</td>\n",
       "      <td>8309 None 33572 27959</td>\n",
       "    </tr>\n",
       "    <tr>\n",
       "      <th>4</th>\n",
       "      <td>12</td>\n",
       "      <td>13176 10863 None 14992 28134 7076</td>\n",
       "    </tr>\n",
       "    <tr>\n",
       "      <th>...</th>\n",
       "      <td>...</td>\n",
       "      <td>...</td>\n",
       "    </tr>\n",
       "    <tr>\n",
       "      <th>74995</th>\n",
       "      <td>206202</td>\n",
       "      <td>17038 21709 17459 41177 None</td>\n",
       "    </tr>\n",
       "    <tr>\n",
       "      <th>74996</th>\n",
       "      <td>206204</td>\n",
       "      <td>10199 15649 43961 49075 None 5646</td>\n",
       "    </tr>\n",
       "    <tr>\n",
       "      <th>74997</th>\n",
       "      <td>206206</td>\n",
       "      <td>42623 None 11520 23029</td>\n",
       "    </tr>\n",
       "    <tr>\n",
       "      <th>74998</th>\n",
       "      <td>206207</td>\n",
       "      <td>20899 20995 33787 13176 27845 33754 44632 None...</td>\n",
       "    </tr>\n",
       "    <tr>\n",
       "      <th>74999</th>\n",
       "      <td>206208</td>\n",
       "      <td>34213 35688 23579 33000 10385 6297 13176 44910...</td>\n",
       "    </tr>\n",
       "  </tbody>\n",
       "</table>\n",
       "<p>75000 rows × 2 columns</p>\n",
       "</div>"
      ],
      "text/plain": [
       "       user_id                                           products\n",
       "0            3           23650 39190 24810 21903 None 18599 47766\n",
       "1            4                                               None\n",
       "2            6                                               None\n",
       "3           11                              8309 None 33572 27959\n",
       "4           12                  13176 10863 None 14992 28134 7076\n",
       "...        ...                                                ...\n",
       "74995   206202                       17038 21709 17459 41177 None\n",
       "74996   206204                  10199 15649 43961 49075 None 5646\n",
       "74997   206206                             42623 None 11520 23029\n",
       "74998   206207  20899 20995 33787 13176 27845 33754 44632 None...\n",
       "74999   206208  34213 35688 23579 33000 10385 6297 13176 44910...\n",
       "\n",
       "[75000 rows x 2 columns]"
      ]
     },
     "execution_count": 45,
     "metadata": {},
     "output_type": "execute_result"
    }
   ],
   "source": [
    "pd.read_csv('submission_XGB.csv')"
   ]
  },
  {
   "cell_type": "code",
   "execution_count": 46,
   "metadata": {},
   "outputs": [],
   "source": [
    "df = pd.read_csv('submission_XGB.csv')"
   ]
  },
  {
   "cell_type": "code",
   "execution_count": 107,
   "metadata": {},
   "outputs": [
    {
     "data": {
      "text/html": [
       "<div>\n",
       "<style scoped>\n",
       "    .dataframe tbody tr th:only-of-type {\n",
       "        vertical-align: middle;\n",
       "    }\n",
       "\n",
       "    .dataframe tbody tr th {\n",
       "        vertical-align: top;\n",
       "    }\n",
       "\n",
       "    .dataframe thead th {\n",
       "        text-align: right;\n",
       "    }\n",
       "</style>\n",
       "<table border=\"1\" class=\"dataframe\">\n",
       "  <thead>\n",
       "    <tr style=\"text-align: right;\">\n",
       "      <th></th>\n",
       "      <th>user_id</th>\n",
       "      <th>products</th>\n",
       "    </tr>\n",
       "  </thead>\n",
       "  <tbody>\n",
       "    <tr>\n",
       "      <th>0</th>\n",
       "      <td>3</td>\n",
       "      <td>23650 39190 24810 21903 None 18599 47766</td>\n",
       "    </tr>\n",
       "    <tr>\n",
       "      <th>1</th>\n",
       "      <td>4</td>\n",
       "      <td>None</td>\n",
       "    </tr>\n",
       "    <tr>\n",
       "      <th>2</th>\n",
       "      <td>6</td>\n",
       "      <td>None</td>\n",
       "    </tr>\n",
       "    <tr>\n",
       "      <th>3</th>\n",
       "      <td>11</td>\n",
       "      <td>8309 None 33572 27959</td>\n",
       "    </tr>\n",
       "    <tr>\n",
       "      <th>4</th>\n",
       "      <td>12</td>\n",
       "      <td>13176 10863 None 14992 28134 7076</td>\n",
       "    </tr>\n",
       "    <tr>\n",
       "      <th>...</th>\n",
       "      <td>...</td>\n",
       "      <td>...</td>\n",
       "    </tr>\n",
       "    <tr>\n",
       "      <th>74995</th>\n",
       "      <td>206202</td>\n",
       "      <td>17038 21709 17459 41177 None</td>\n",
       "    </tr>\n",
       "    <tr>\n",
       "      <th>74996</th>\n",
       "      <td>206204</td>\n",
       "      <td>10199 15649 43961 49075 None 5646</td>\n",
       "    </tr>\n",
       "    <tr>\n",
       "      <th>74997</th>\n",
       "      <td>206206</td>\n",
       "      <td>42623 None 11520 23029</td>\n",
       "    </tr>\n",
       "    <tr>\n",
       "      <th>74998</th>\n",
       "      <td>206207</td>\n",
       "      <td>20899 20995 33787 13176 27845 33754 44632 None...</td>\n",
       "    </tr>\n",
       "    <tr>\n",
       "      <th>74999</th>\n",
       "      <td>206208</td>\n",
       "      <td>34213 35688 23579 33000 10385 6297 13176 44910...</td>\n",
       "    </tr>\n",
       "  </tbody>\n",
       "</table>\n",
       "<p>75000 rows × 2 columns</p>\n",
       "</div>"
      ],
      "text/plain": [
       "       user_id                                           products\n",
       "0            3           23650 39190 24810 21903 None 18599 47766\n",
       "1            4                                               None\n",
       "2            6                                               None\n",
       "3           11                              8309 None 33572 27959\n",
       "4           12                  13176 10863 None 14992 28134 7076\n",
       "...        ...                                                ...\n",
       "74995   206202                       17038 21709 17459 41177 None\n",
       "74996   206204                  10199 15649 43961 49075 None 5646\n",
       "74997   206206                             42623 None 11520 23029\n",
       "74998   206207  20899 20995 33787 13176 27845 33754 44632 None...\n",
       "74999   206208  34213 35688 23579 33000 10385 6297 13176 44910...\n",
       "\n",
       "[75000 rows x 2 columns]"
      ]
     },
     "execution_count": 107,
     "metadata": {},
     "output_type": "execute_result"
    }
   ],
   "source": [
    "df"
   ]
  },
  {
   "cell_type": "code",
   "execution_count": 110,
   "metadata": {},
   "outputs": [],
   "source": [
    "new_set = {}\n",
    "for i in range(len(df)):\n",
    "    if ((len(df.iloc[i][1]) > 4) & ('None' in df.iloc[i][1])):\n",
    "        string = df.iloc[i][1].replace('None','')\n",
    "        new_set[str(df.iloc[i][0])] = string\n",
    "    else:\n",
    "        new_set[str(df.iloc[i][0])] = df.iloc[i][1]"
   ]
  },
  {
   "cell_type": "code",
   "execution_count": 106,
   "metadata": {},
   "outputs": [
    {
     "data": {
      "text/plain": [
       "{'3': '23650 39190 24810 21903  18599 47766',\n",
       " '11': '8309  33572 27959',\n",
       " '12': '13176 10863  14992 28134 7076',\n",
       " '15': ' 196 10441',\n",
       " '16': ' 21137 17948 24852',\n",
       " '19': '34690 31487  15599 17008',\n",
       " '22': '22963  17794 27845',\n",
       " '25': ' 22008',\n",
       " '26': '18531  19894',\n",
       " '28': '35510 49683 24852  27307 47626 41950 8424',\n",
       " '31': ' 32566',\n",
       " '32': '11130 17630 21137 6069 39911 45774 49215 43692 24852 20168  4793 49175 45364 9637',\n",
       " '33': '8501 35921 37131 7969 32912  33198 15718 32441',\n",
       " '35': '48230 28156 7969 4942  694 18150',\n",
       " '36': '22328 ',\n",
       " '39': '7371 15290 13535 28289 41149 25890 42768  48679 8424',\n",
       " '40': '39928 25072 34217 13176 25246  24799 6975 22035 29926',\n",
       " '51': '40604 10017 36929  15712 18798',\n",
       " '54': '23375 21903 8021  26165',\n",
       " '57': '4302  45646 42828 8193',\n",
       " '58': '622  14818',\n",
       " '60': ' 13176',\n",
       " '61': '46260  39108 14947',\n",
       " '68': '7948 27521 42450  22260',\n",
       " '69': '22559 38920 41618 18828  28058',\n",
       " '75': '45 21903 4274 42028 79 36275 21267  29071 26369',\n",
       " '77': '22151 47167 34993 42736 11777 36735 46886 37131 1999 49533 25890  40198 20169 34358 4605',\n",
       " '85': '21137 1695 13280  40146',\n",
       " '92': ' 5258',\n",
       " '94': '44142  2192 21938',\n",
       " '98': ' 196 6184',\n",
       " '100': '21616  27344 24852',\n",
       " '101': '5479  26369',\n",
       " '107': '5445 6884 23334  32854',\n",
       " '122': '12253  27988 9297',\n",
       " '126': '10749 21137 24964 27521 34050 22888  17872 32177 20114',\n",
       " '127': '32855 47941 8030 25204 16269 12087 30120  3603 40524 31263',\n",
       " '129': '3721 13176 5077  47209',\n",
       " '133': '44290 37113 44106 30845 43872 44570 23665  12339 14432 37250 23549 4210 25854 41273 2563 16890 30356 470 47006 32768',\n",
       " '134': '21938 44142 43768 5750  40174 5782',\n",
       " '137': '8769 26700  29646 40531 32096 1674',\n",
       " '141': '13176 44632  47766 12756',\n",
       " '149': '30489 18727 34217 1695 24129 32478 6692  12381 9124 31481',\n",
       " '151': '24964 32655 27845 31717  11408 27966 19508 8414 35939 3988',\n",
       " '152': '42736 21170 26790 24852  40992 49111',\n",
       " '153': '28289 21616 19057 24852 19934  5612 47766 38159',\n",
       " '154': '36126 24749 26312 13841 18918  32951',\n",
       " '156': '46226 39685 37543 5031  46551',\n",
       " '158': ' 9421',\n",
       " '159': '21137 11790 38313 24852 27423  3957 5258',\n",
       " '162': '41806 46906 ',\n",
       " '165': '46969 2748 22582  34458 47209 30391',\n",
       " '166': ' 26648 30471',\n",
       " '168': ' 23909',\n",
       " '170': ' 13060',\n",
       " '180': '40706 18434 21227 13176  22963 47209 12312 26497',\n",
       " '182': '2962 35121  25666 28934',\n",
       " '186': '38311 6734  8257 41284',\n",
       " '188': '23296 49496 24852 27275  4920 42372',\n",
       " '190': '5428 49683 21903 42265 33768 38383 24852 27156  20119 8518 6341',\n",
       " '194': '28398 49683 13062 6287 19894 20794 30776 7681  21544 45603',\n",
       " '200': '17794 16321 13870 13176 21914 47717  17526 20580 23579',\n",
       " '202': '2426 32655 22935 2509 2180 23233 31215 33527 5141 44359 42701 49235 17758 45374 44449 33098 21936 8158 46346 6873 8021  13166 46069 27454 16759 40910 25659 49236 5450 38558',\n",
       " '207': '41806 19057 49191  40174 4809',\n",
       " '216': '42701 4138 21704 1194 41290 27086 38948  27744 17872 42750 47766',\n",
       " '221': '39928 5479 23236 9390 42265 3583 39877 27531  40311 29837 46802',\n",
       " '225': ' 47242',\n",
       " '227': '3835 21137 24830 13176 25919 38383 22922  33294 47209 29127 35951 44359',\n",
       " '228': '4482 26324 13447 8929  27509 19446 29344',\n",
       " '232': '30489 48364 8859 23288 890 6649 22418  18234 45007 3376 8193',\n",
       " '233': '6271 36316 10385 28199 19819 24852 22922 22993 26317 32139 4781 12315 44910 49235 9122 23516 12919 4920 11005 47229 43961 13829 24496  11710 38275 18370 27086 36207 19845 21137 77 31040 24830 40310 33043',\n",
       " '234': '5436 17352 41665 15290 43205 41834 42811 20590 20534 2295 38383 24852  30480 9581 14168 11577 36070',\n",
       " '236': '30406 24852 22276 47029 41329 5479 43789 8478 16617 5982  12341 45143 16927 48726 19660 10060 26201 35336',\n",
       " '237': '16185 47087 48841  7349',\n",
       " '241': ' 4605 20119 5468',\n",
       " '246': '15424  33198 18358',\n",
       " '247': ' 16965 49227',\n",
       " '248': '21137 27881 21616 21903 35140  21953 8518 47766 29195 30391 32935',\n",
       " '251': '18523  47931 24852',\n",
       " '254': ' 25406 36099 22788',\n",
       " '257': '21800 432 8021 39877 24852  21872 44910 10106',\n",
       " '263': ' 34224 26309 13712',\n",
       " '265': ' 43352',\n",
       " '268': '48697  11599 311',\n",
       " '269': '35168 24964 16185 13263 ',\n",
       " '274': '15424 43295 26231 9597  29546',\n",
       " '275': '47766  21137 8467',\n",
       " '276': '41787 24184 16797  47766 11361 34969',\n",
       " '277': '16797  13225 24852',\n",
       " '279': '27086  45066 22124',\n",
       " '281': '25705 37646 41787 5618 12258 42356 6656 10017 27521 24852  47626 34358',\n",
       " '287': ' 16350',\n",
       " '290': '15317 23405 42895 12902 7505 42913 34355  41406 30251 31467 46541 7778 3631 37980 20658',\n",
       " '292': '15925 42352 33231 33819 10070 4317  4591 26209 44536 44799 15124 723 4605 27238 46416 23803',\n",
       " '297': '28476 34 ',\n",
       " '301': ' 40236',\n",
       " '303': ' 31380',\n",
       " '307': ' 39871 6184',\n",
       " '311': '28204 21137  24852',\n",
       " '312': '4357 39190 22677 24852  2805',\n",
       " '316': '21137 27521  3490 26679 13629 18684',\n",
       " '320': '21405 48364 6656 17704 5578 28985  8809 46667 9934 38374',\n",
       " '321': '30391 8075 13984 40826 30291 2086 5876 37288 16973 43295 10621 31717  33198 46667 26209 3143 21903 35939',\n",
       " '331': '48697 ',\n",
       " '332': '16589 2846 20995 25138 42265 17652 48464  2344 22035 49175 22657',\n",
       " '333': ' 79',\n",
       " '336': ' 49374 21454',\n",
       " '338': '48199 20161 43295 8963  21070',\n",
       " '339': '48174 ',\n",
       " '344': ' 28080',\n",
       " '347': '9018 21543 44422 27325 ',\n",
       " '352': '42828 24561 21903 12276 8277 43654 32585 11100 25890  5911 42719 35221 40002 20600 46666',\n",
       " '354': ' 19660',\n",
       " '360': '19376  5322 18095',\n",
       " '362': '24964 4472 21709 15261 1194  27307 8193',\n",
       " '364': '26104 4149 29223 33249 21903 30827 8048 6184 10628  12341',\n",
       " '366': ' 13176 39732 4193',\n",
       " '367': '30774 34943 2482 36830 19862 42450  8654 27966 9339 27086 29127 35951',\n",
       " '368': ' 12341',\n",
       " '369': '32303 14161 7862 26152 8571 25588  42447 23423',\n",
       " '373': ' 39275 26209 33055',\n",
       " '381': '39216 21903 22935 21267 27548 16797 25890  49236 43210 45633 28204 35221 8424',\n",
       " '386': '44142 ',\n",
       " '388': '31846 ',\n",
       " '389': '21137 6348 43295 22935 27845 24852 34448  29439 22115 47766 38293 42606 28849',\n",
       " '394': '46747 47761 20127 24852 19678 26369 45957 5212 8710 14633 15950 26856 27966 37646 42265 2295 33754 13829  47209 46820 17949 43726',\n",
       " '397': ' 2809 1468',\n",
       " '398': '21137 39275 21903 2825 13176 42265 22935 25138 22721 43768  43394 27104 26369 30391',\n",
       " '400': '4957 40571 17429 31040 29370 14924 47943 44632  3957 35221',\n",
       " '407': '25513 49235 1511 8277 ',\n",
       " '408': '21903  10749 24852',\n",
       " '410': '6867 24850 39041 18498 22242 31958 16797  8732 41362 20955 4986 47966 3990 45825',\n",
       " '413': '49235 35921  49236 33572 19503 26376',\n",
       " '415': '5134 25931  42585 27104 33120 14084',\n",
       " '418': '48364 4210 40289 33768 24852 24184 16797  48205 486 29941 34126 35951',\n",
       " '420': '39430 47365 35056  19761',\n",
       " '422': '37022 10243 1463  3957 2722 33020 49241 12807',\n",
       " '423': ' 18023 38928',\n",
       " '427': '47630 36735 432 1511 24852  28204 35140',\n",
       " '428': '45763  33129 28581',\n",
       " '436': '43154  27681',\n",
       " '439': ' 5818 8193',\n",
       " '440': ' 41549',\n",
       " '443': '1321 9474 26856 28985  40174',\n",
       " '445': '43598  21663 43961',\n",
       " '447': ' 6347',\n",
       " '450': '19057 14947  47616 27966 20082 47766 19348',\n",
       " '451': '37646 24838 42265 24852  47209 42536 5708',\n",
       " '455': ' 13176 43295 30169',\n",
       " '458': '42828 5785 16262 21709 12576 8021 44632  48988 47144 27086 35221',\n",
       " '460': '4421 37158 3585 14467  36550 23644',\n",
       " '461': '8710 43432 16663  1409',\n",
       " '462': '38067 15290 24838 2748 45965 20734 45504 26301 30489 35972 44629 13176 45066 47626 41408 46969 37973 8087  47209 26209 39275 38544 12395 8424',\n",
       " '463': ' 13176 17706 24852',\n",
       " '464': '44987 47912 24852  5450',\n",
       " '467': '16541 13176 47141  4776 28227 42820 24269',\n",
       " '474': '42441 8174 34050 27548  22963 23363',\n",
       " '482': '43967 37520 24852 41950 12817 31256 25562 32566 5460 13293  31506 35376 37017 28204 13328 3318 39982 16816 21591 38090',\n",
       " '485': '45 4443 35163 3999  5101 28204 36214 10411 35951',\n",
       " '492': '21333 21386 17676 17341 49030  35914 26165 12870',\n",
       " '496': '4920  11046',\n",
       " '498': '15552 38996 26683 37687 30953  17862 27695 12674 5818 49086 9808 14143 26497 22035',\n",
       " '500': '43772 4674 28296 27612 41805 33852  40354 48071 18104 23819',\n",
       " '503': '24235 23879 48577 24852 20431  47626 28842 11140',\n",
       " '507': '21137 2430 2611 47156  33198',\n",
       " '508': '20734 25919 39040 22721 3773 8518 12953 42242 30391 43484 20995 35921 13176 9337 13273 48745 30450 29127 46313 20385 35687 41149 47388 18918  18413 7401 29418 31066 28476 18963',\n",
       " '510': '18523  42562',\n",
       " '516': '8309 21137 24838 4274 13176 260 8174 16744 3397  36082 27966 49026 38984 13629 25837 44201',\n",
       " '522': '43712 49235  47759 45840',\n",
       " '529': '19895 5618 30233 7715 24852 42768  26090 46990 19678',\n",
       " '535': '12551 8174 24852  28204',\n",
       " '539': '21137 22025 9598 9595 21903 1940 16254 26790 24852  36717 18465 24841',\n",
       " '543': '17347 43209 49381 24852  30003',\n",
       " '548': '45246 ',\n",
       " '551': '22825 21376 13176 39303  47209 5322 26177',\n",
       " '553': '43631  34858',\n",
       " '557': '34234 27360 2934  11182',\n",
       " '564': '20166 5825 19057 42356 1940 13176 41273 34234 33129 27196 45013 40489  16961 21019 42372 47329',\n",
       " '574': ' 47626 27104 26384 20114',\n",
       " '576': '23296 38241 33548 7533  44156',\n",
       " '578': '14233 26800 24852 31683  23427 9438',\n",
       " '581': ' 24852',\n",
       " '583': '10749 39984 22825 22935 17948 20186 42479 35547 24964 6193 13176 32134 27104 27966 9531 2078 43789 31717 26315  47209 13083 40706 21903 34126',\n",
       " '588': '29615  36533 31964 19348 32465',\n",
       " '589': '20995 37687 27845 24852 43961  18370 47766 45007 30391 48679',\n",
       " '590': '10036 32740 19511 36144  32018 22470 28269 3434',\n",
       " '596': '10749 22825 26940 18465 30391 30489 13176 48745 27966 37220 46313 26648 27845 43768  11710 21903 32931 38557',\n",
       " '598': ' 8072',\n",
       " '601': '42701 26668 17044 39527  44283 5450 30440 25230',\n",
       " '610': '24920 18552 13176 43693 20298  8047 42719 27522 40261',\n",
       " '613': '17794 28289 23165 32655 43789 21903 17568 21616 22959 30391 48058 32134  48988 34126 3952 47734',\n",
       " '615': ' 28682',\n",
       " '618': '38892 24852 5535 44585 39861 1483 35914 10673 2078 2229 13866  41665 44987 37096 33966 27681 29993 2597',\n",
       " '621': '13733 35108 21267 5337 12872 42828 9346 32717 35921 13176 34050 22474 4942 28985 40709 19048 11068 4421 38273 16185 36606  35004 28553 3481 44560 46724 24830 581 10761 29487 2094 26723 46802 4605',\n",
       " '622': '9901 45622 11869  14901 44799 45717 2120',\n",
       " '624': ' 25108 40759',\n",
       " '627': ' 14979',\n",
       " '629': '26248 19019 45570  27966',\n",
       " '630': '22151 36126 4879 22275 5077 25804  39581 28204 45761 13834 49628',\n",
       " '631': '11679 13945 24852 4942  20919 16249 10246',\n",
       " '633': '13424  28364 26881',\n",
       " '635': '35886 13176 21572 6184  25653',\n",
       " '640': '24964  47626',\n",
       " '642': '32700  30850 23909',\n",
       " '643': '20574 21616 42265 22220 38662 ',\n",
       " '645': '9366 44142 35163  34668 48205 23801 18132',\n",
       " '651': '9366 9092 22935 43352 25890  31927 34969 47734 1025',\n",
       " '652': '17920 24810 20598  11984 33198 605 18465 43400',\n",
       " '653': '48415 5212 19478 29370 18594 43504  33731 22963 38557 10798',\n",
       " '656': '35123  39604 4605 33909',\n",
       " '658': '14133 24852 6182 28942 38739 35522 21417 20995 18523 23543 11937 47626 22959 11543  2091 9076 41297 46820 1194 11941 21553',\n",
       " '659': ' 35939',\n",
       " '660': '29987 24852 48802  43087 27104 23986 5575 27000 32665 30391',\n",
       " '661': '42241 21903 13176 47943 17948  27695 27104 40156 9421 5922 5258',\n",
       " '662': '24810 19068 49075  8903 8424 10339 16882 11182 36522',\n",
       " '663': ' 32837 34838',\n",
       " '664': '432  41618 2450',\n",
       " '665': '13409 ',\n",
       " '668': '37646 49683 27845  10467 49114 47144 34511 8239 34969',\n",
       " '673': '20738 23909 23341 24852  47747 33745 29487 25110 35336',\n",
       " '675': '24838 11576 13176 43192  5479 44910',\n",
       " '678': '40621 24852 47029 20995 23037 45588 26751 373 27966 49279 10032 13375 41171  32645 12218 27681 26456 19389',\n",
       " '679': '34230 18564 35846  15134 37886 1458',\n",
       " '681': '19057 22935 8174 9495 41551  41259 48171',\n",
       " '683': '10749 37646 19478 39190 2228 13176 32285 37687 11776 22501 47147  18281 38837 36397 5876 5764',\n",
       " '686': '25211  40198',\n",
       " '688': '4957 40571 30233 21903 33787 19019 14947 43961 33754 36011  28476 46676 1463 17872 27086 22035',\n",
       " '693': ' 23430 30630',\n",
       " '698': '30489 21938 13176 31717 21872 19660  46676 26209 32747 30391',\n",
       " '701': '2855 ',\n",
       " '706': '21137 30233 5785 21616 22935 27521  27104 2344 5450',\n",
       " '720': '7175 44422 7235 41593  651 45123 11005 8193',\n",
       " '721': '40706 20574  40174 28204 13198 6343',\n",
       " '730': '44683 20842 16710 11494 7035 20285  36029 34969 8424',\n",
       " '732': '47169  16558',\n",
       " '734': '23322 1582 22395 25115 38974 45066 20114 38400 19368 23909 31423  48205 21153 26209 40939 46844 25146 14286 48657 31217 39507 47366 49340 26321 7058',\n",
       " '738': '24852 36011  26521 1930',\n",
       " '739': ' 38511 29010',\n",
       " '740': ' 38155 1509',\n",
       " '744': '8571  33000',\n",
       " '745': '21137 13176 42445 29307  2966 12456 41488',\n",
       " '747': '47900 22308 29326  651 47766 44359',\n",
       " '752': '27845 1199 31343  47209 4799',\n",
       " '758': '10749  32052 23801',\n",
       " '762': '24964 7021 44924 22935  27104 8518 3952',\n",
       " '763': '1379 ',\n",
       " '764': '18359 29698 8859 30553 48304 21757 36843 14564 1 47977 22340  18790 3260 34862 43631 40240',\n",
       " '766': ' 7461 28849',\n",
       " '771': '36011  13176 45066',\n",
       " '772': '16797  44683 12341',\n",
       " '773': '16797  17044',\n",
       " '778': '39844 16696 2639 22021 39921  48966 33373 24123 27288 44156 705 32645',\n",
       " '780': '39046 47977 36923  38730 31964',\n",
       " '785': '1940 42887 2536  24835 9461 23535',\n",
       " '787': '36107  45154 9175',\n",
       " '791': '40199 28156 13639 24489 48857 31869 ',\n",
       " '793': '22802  196',\n",
       " '794': '49191  30504 24890',\n",
       " '798': '43295 24838 42443 27744  1063',\n",
       " '802': '29447 24830 26914 28535 36036  47766',\n",
       " '806': ' 47209 31933 26940 5876',\n",
       " '807': ' 19057',\n",
       " '810': '9544 9387  49647 3512 5782 16607',\n",
       " '811': '23909 29846 35628 45622 9558 5077 25804 7969 24852 11983 39982  28204 3398',\n",
       " '812': '26278 8277 8866 20552 5785 30489 10199 94 13176 20081 27966 5479 37646 38452 48523 27845  47209 25936 28476 14010 46166 16396 32864',\n",
       " '815': '27086  42736',\n",
       " '817': '37646 39928 21903 24852  47209 27966 25837',\n",
       " '819': '30489 21137 34217 21903 19057 17949 40310  47209 24799 19348',\n",
       " '823': '32689 8571  12341 5985',\n",
       " '825': '13176 31651 11759  10326',\n",
       " '827': ' 47156',\n",
       " '830': '49683 21903 24852 43961 19893  47626 46676 46802 38293 46979',\n",
       " '832': '48034 5479 31948 22935 14833  27966 26209 35140 32864',\n",
       " '834': '1596 29447 18168 16185 25368  36266 23044 47447 22123',\n",
       " '837': '1541 148 30727 17419 4920 22959 24852 24184 15130 7156  40997 40136 32133 47766',\n",
       " '842': '8022 37646 39928 24024 13176 24489 42450 40310  43643',\n",
       " '843': '20392  13646 5612 14858 19966',\n",
       " '850': '37646 1313 44142 34380 31683  47209 2966 47626 20114',\n",
       " '851': '35811 17419 32655 5353 39557 42445  5785 33000 3243',\n",
       " '853': '40706 21137 39928 39275 21903 13176 ',\n",
       " '858': '11759 ',\n",
       " '860': '31092 24218 4113 44570 10151 11983 40332  47626 47766',\n",
       " '862': ' 6046',\n",
       " '869': '21903 13249 4792 35045  16168',\n",
       " '870': '21137 9133 39275 7781 16083 24221 14947 24852 43961 9839 6532  30949 3464 22908 46979',\n",
       " '876': '5547  30923',\n",
       " '877': '21137 48645 34050 169 40332  47626 26209',\n",
       " '893': '38400 22228 8859 21903 22959 30148  14732',\n",
       " '894': '17426 1612 43867 14348 34358 3977 13176 22952 44533 26510 3990 20114 21376 34217 6166  20842 43772 35003 19057 27360 29553 26395 16921 40586 27288',\n",
       " '896': '22186 23005 13544 432 10151 24852 24184 25679  22695 28204 47766 14197 42625',\n",
       " '902': '40223 ',\n",
       " '903': '11520 42265 6347 8792  34969 22395 28934',\n",
       " '904': '32478  18443',\n",
       " '908': '4605 32689 11777 45290 8920 11874 24852 42460 48742 37330  17862 13230 6473 36186',\n",
       " '911': '40199 9424 16759 41338 29370 40593 13176 27845 29328 27548 42342 31073  27104 41220 26209 29898 44359',\n",
       " '912': '16797  18288',\n",
       " '914': '49215  6343 49235',\n",
       " '918': '39475 12923  22054 42840 25558',\n",
       " '924': '33614 32303 37250 12232 23909 49266 1843 35921 25877 13536  3919 47226 27209 1642 18432 22080',\n",
       " '926': ' 30633 42282 30720',\n",
       " '927': '13176  46175 32177 28842',\n",
       " '931': '18883  33279 4605 47734',\n",
       " '942': '10305 44422  7563 17872 6985',\n",
       " '945': '46654 38644 13176 40604 39411 34243 31717 8479 44632 5991  12545 5578 17284 32177 46979',\n",
       " '955': '41777  49131 34466',\n",
       " '959': '2559 9741 19894 13951 17080 6350  47626 9458',\n",
       " '960': '7681  42526',\n",
       " '961': ' 23565',\n",
       " '963': '10673 40268 25466  1689 49520 11461 30353',\n",
       " '964': '13338 13176 16185 41618 31338  33198 7694 45840',\n",
       " '965': '1090 2639 34117 3044  48246 44536',\n",
       " '966': '44142  5612',\n",
       " '969': '9534 32717 9741 48720 2014 13176 47156 47616  29941 11440 22312',\n",
       " '972': ' 10616',\n",
       " '975': '17487 29615 6105  37867 44449 25458 38558',\n",
       " '978': '41485 23293  47209 9075 27663 40486 47888',\n",
       " '980': '21137 5392 27845 36389 ',\n",
       " '988': ' 11266',\n",
       " '993': ' 9121 25480',\n",
       " '995': ' 11140',\n",
       " '997': '13031  47766 34969 34530',\n",
       " '998': '6348 32338 7781 31960 32685 10481 37654 38374 277 49235 42356 1940 13176 47570 27966 19173 39041  6585 44980 1688 48004 29993',\n",
       " '999': '21137 41787 13176 14870 45066 25931 43352 10369 7916  47672 34511',\n",
       " '1001': '20955 28199 9508  17982 33894',\n",
       " '1004': '39275 6008 6218 26940 43768  27104 8518 19048 46667 25152 33294',\n",
       " '1005': ' 8859 18071 33184',\n",
       " '1009': '32566 19240 21903 13176 27521  19660 27999 3888',\n",
       " '1010': '5450  2086',\n",
       " '1018': '21137 46448 25341 23424 5077 39352 30007 13203  47209 27966 8518 20082 41722',\n",
       " '1020': '32303 49492 24053 12845 7693  39922 46483 48527',\n",
       " '1023': '21333 35871 47124 22887  45580',\n",
       " '1028': ' 27845 48967 31343',\n",
       " '1037': '10749 40199 13819 35628 18594 35767 35108 21267 47912 4799 30391 46565 7559 9407 23044 22035 46584 27307 4421 13431 8087 41165 3397  47209 27454 4210 48255 28862',\n",
       " '1043': '45 22008  27104 4781',\n",
       " '1045': '40706 2846 32689  21614 14874 32864 6383 31640',\n",
       " '1047': '34487 46522  43867 39108 8204 2038',\n",
       " '1049': '7175  21108 47626 33120 24231 20754 18963',\n",
       " '1051': ' 21288',\n",
       " '1057': '8804 24852 16797 41373 31343 49481 44654 13636 43295 16953  40939 24643 9076 16696 4210 19178 39581 21282',\n",
       " '1062': '16797  29487 12979',\n",
       " '1064': '24838 43086 44624 13214 13176 18070 6734  27695 27104 49416 35842',\n",
       " '1074': '16308 41618 8277  42244 33000',\n",
       " '1075': '23288 32689 21304 8021 9047 42768  3464 28123 2999 25487 3007 7014 37355 13838',\n",
       " '1076': '32478 13966 ',\n",
       " '1083': '24852 45685  42252 34027',\n",
       " '1087': '17122 ',\n",
       " '1092': '47630 39275 4410  47626 47144 41950 5130 47766 10644',\n",
       " '1096': '19677 25659  27104 5450',\n",
       " '1097': ' 35887 21267',\n",
       " '1100': '12392 21137 21903 39877 24852 40656  44815 47209 37496',\n",
       " '1103': ' 1194',\n",
       " '1108': '14126 40380 26032 24852 3464  9554 11865',\n",
       " '1109': '13535 40969 37687 29675  22260 14992 26209 44219 23734 7485 8193',\n",
       " '1111': '37646 44987 22825 43789 13176 22935 39589 18071 16797  11408 47209 28079 41065 17461 45007 5876',\n",
       " '1116': '42736 8671 27178  46473 23537',\n",
       " '1117': '27086  39560 21242',\n",
       " '1119': '49235 13032  33081 26317',\n",
       " '1121': '13966  4138 28204',\n",
       " '1124': '39605 41315 20734 19032 13176 45570 16609 23554 3999 30881  36550 28204 25598 32747',\n",
       " '1125': '148 28199 39877 24852  42495',\n",
       " '1126': '26900 13176 46803 32478  196',\n",
       " '1127': '44142  22935 24852',\n",
       " '1135': '16589  18765 41716',\n",
       " '1137': ' 25861',\n",
       " '1138': '47252 43044 42265  46667 31889',\n",
       " '1148': '13870 17316 44325  32033 1848 25547 12481 34691 46692',\n",
       " '1149': '12899  11365',\n",
       " '1152': '45569  32650 48933',\n",
       " '1153': ' 17741 44765',\n",
       " '1154': ' 45679 24852',\n",
       " '1156': '9018 30645 11199 10479 27239 1940 17600 44487 45066 24852 7028 5069  28204 24037',\n",
       " '1159': ' 28427',\n",
       " '1160': '20017 23405 7688 9366 49610 6101 40332  7648 32441',\n",
       " '1161': '38400 4671 40604 42768  49224',\n",
       " '1163': '1202  7649',\n",
       " '1171': '8859 42356 79  47766',\n",
       " '1174': '10749 40706 21903 22935  4086',\n",
       " '1175': '30233 16830 39877 31717 29307  21288 26209 47766 28008 5876 34530 20114',\n",
       " '1177': '34949 21137 22959  1244 12341 49621',\n",
       " '1178': '1360 24852 49075  20876 32828 47766 4297',\n",
       " '1179': '48845  36082',\n",
       " '1182': '26683 35168  35951',\n",
       " '1183': '25890 ',\n",
       " '1191': ' 24053 34898',\n",
       " '1194': ' 13176 3957',\n",
       " '1196': '34126 37646 6774 28156 5373 24852 16797 36011  25890 47766 34358 41544 24125',\n",
       " '1198': '39928 46969 25890 20015  37067 22827 34358 31915 12572 45007 46979',\n",
       " '1201': '38241 42450 23106 7533 ',\n",
       " '1203': '42612 19478 16387  17454 43908',\n",
       " '1211': '38988  41065 19660 3429 11078',\n",
       " '1212': '48370 17080 12545  46979',\n",
       " '1217': '9692 16965 35342  1682 34483',\n",
       " '1223': '21137 22825 19057 45013 24852 22474  27966 35221 24518 44479',\n",
       " '1225': '49235 25466  17027 13166',\n",
       " '1230': '39475  6348 31618',\n",
       " '1231': '21333 32303 34005 1514 4091 3265 5083 28427 49141 43029 34878  28993 7738 47818',\n",
       " '1232': ' 907 16283',\n",
       " '1235': '26861 44142  45007 32710',\n",
       " '1236': '36854 39275 17867  46847 20754',\n",
       " '1237': '10749 47196 24852 9839 33845 8518 42828 13629 35168 40604 4461 27966 34677 27845  17461 22849 19057 260 38510 16560 49583 34126',\n",
       " '1238': '32553 23909 32679 15359  29487 40542 9076 47145',\n",
       " '1240': '24852 41007 20580 47912 5785 14778 15063 21709 18523 31487 31720 23044 37841 37646 17224 39877 3765  33198 35221 35951 10130 40363 39739',\n",
       " '1241': '10749 8986 1158 21417 21903 16759 45066 38383 24852 25890  46802 38293 45007 25146 7485',\n",
       " '1245': '49683 25005 21903 39877  19660 47209 41950 46667',\n",
       " '1247': ' 2604 25753',\n",
       " '1251': '10279 47569 18987 47427 ',\n",
       " '1256': '5771 2717 28156 49191 1831 12919  46676 35221 31964 35458',\n",
       " '1258': '16797 42585  33810',\n",
       " '1261': '17948 28226 8518 39468 12456 8912 44359 14678 24964 20995 13176 44632 45007 37524 49075  33731 7412 2838 35951 16759 21903 38689',\n",
       " '1263': ' 33671',\n",
       " '1264': '38159 21137 37646 3896 13176 39877 8174 40761  21614 2077 10912 38689 21009 21955',\n",
       " '1266': '7948  19660 44261 43621',\n",
       " '1267': '432 ',\n",
       " '1275': '31759  21288',\n",
       " '1276': '31134 3107 11827 40332  17008 8424',\n",
       " '1279': '28424 13176 22935 28985  42585 18234 22963 28250 10246 21872 41678',\n",
       " '1285': '14233 29334  9098 14727 21927',\n",
       " '1286': '24142 41290 16797 6478 20682 25837 1159 8460 14450 46473 33666 36070 15902 34234 8390 48109  4656 40376 19863 5315 20815 22695 49622 8903 12980 20985 859',\n",
       " '1288': '8536 37940 30183 5077 31683 31216 41602 31091  27102 32762 23204 13944 15860 47766 10429 43263',\n",
       " '1289': '39275 13176  27966 8518 32927 25370 35951',\n",
       " '1290': '22417  18465',\n",
       " '1296': '11555 21137 13740 18027 17789 27730 8277 25931  28985 47626 38739 43122 38164 18465 4605',\n",
       " '1307': ' 5128',\n",
       " '1309': '21903 9337 43014 4942 ',\n",
       " '1310': '32839 21137 21616  48171',\n",
       " '1311': '14126 4698 15902 48559 21386 24129  46676 26209 45603',\n",
       " '1314': '35042 34969  22963 5818 32299 42672',\n",
       " '1316': '46049 38849  7581 48246 9810 22282',\n",
       " '1323': ' 6111 2876',\n",
       " '1326': ' 5258',\n",
       " '1327': ' 48769 23909',\n",
       " '1328': '43772 21278 26324 43789 22935  10246',\n",
       " '1330': '3873  32691',\n",
       " '1337': ' 21137',\n",
       " '1339': '47639 13249 24852 7963  7412 35221 35336 25146 39993',\n",
       " '1340': '36591 790 26587  5918',\n",
       " '1341': ' 33081',\n",
       " '1345': '32717 4138 34335 24631 25272 32433  10343',\n",
       " '1348': '9213 7862 37687 30406  38928',\n",
       " '1349': '17207 13176 33768 32478  5337 21573',\n",
       " '1350': ' 24852',\n",
       " '1351': '19895  35946',\n",
       " '1355': '1158 45346 34584 7598 24852 12935  27104',\n",
       " '1357': '13914 26348  37710 26088 32455 45004',\n",
       " '1359': '16974 15541 6184  12341',\n",
       " '1360': '8057 42471  19125 46720 18232',\n",
       " '1361': ' 34106 44152',\n",
       " '1363': '2661 21303 24852  16793 46676 1452 22035',\n",
       " '1364': ' 5646',\n",
       " '1365': '24838 35887 24852 42342 33352  47626 48679 4779 26369 28934',\n",
       " '1366': ' 26165',\n",
       " '1370': '12440 28373 16797  3479 47601 48679',\n",
       " '1373': '15902 22825 45066 16797 ',\n",
       " '1375': '44142 23785 32605 21330  1689 25363',\n",
       " '1376': '22935 25931  34126 45007 45063',\n",
       " '1380': '38996  27868 3539',\n",
       " '1381': '39275 18376  46059 38739 29487 26604 41220 14594',\n",
       " '1384': '27730  13176 17419',\n",
       " '1386': '4162 13675 42091 13176 35108 27845  33232 4142',\n",
       " '1389': '32478  21137 48532',\n",
       " '1390': '44987 25890  38739 22089 22035 28934 1103',\n",
       " '1404': '32927 ',\n",
       " '1408': ' 196 49235',\n",
       " '1409': '19938 21386 29370  31162',\n",
       " '1411': '47766  7969',\n",
       " '1413': '17794 5161 39928 5919 35750 45066 24852 24489 6238 17948  36550 47766 34358 35597',\n",
       " '1415': '37724 23919  32665 23634',\n",
       " '1416': '23322 34262 17224  9124 48287',\n",
       " '1417': '21903  24852',\n",
       " '1420': '47660 31622 15902 4210 20804 31268 31511 17238 46515 9175 20639  47611 18778 32700 8898 46029 49326',\n",
       " '1421': '8859 47990  9068 12013 14063',\n",
       " '1424': '21405 35530 22935 15462 29871 24964 38644 29310 15261 13176 46051 34065 48745 10248 17747 31287 5876 9955 34190 7308 42449 43789 389 23348 38383 31717  47209 26209 13409 14881 48127 21137 26084 39275 8174 27142 42323 8385 16396 46720',\n",
       " '1429': '48199 2408 49683 49144 790 41578 ',\n",
       " '1430': ' 5876 44359',\n",
       " '1431': '31553 19057 13176 25931  28985 47209 40545 22963 45007 44910',\n",
       " '1433': '22935 24721 24852 24184 13639 47766 4942 3512 32239 19459 45938 44142  27323 34668 23644 8204 30849 29553',\n",
       " '1434': '47842 14788 18253 41534  2151 14462',\n",
       " '1438': ' 12427 32689',\n",
       " '1441': '39950 3693 42013 30183 8214 12817 21351 2707 23405 19495 22959 17704  43814 33198 20244 26799 27010 29926 6128 20769 34154 43409 4396 35695',\n",
       " '1444': '10804 26914 27847  41212 38689',\n",
       " '1445': '17794 49683 28156 21903 8021 10017  47626 28204 2086 45007',\n",
       " '1450': ' 27695',\n",
       " '1452': '28985 ',\n",
       " '1453': '47992 39275 13176 13032  651 9189 30162 10326',\n",
       " '1454': '23322 9387 24852 14999  21288 41950',\n",
       " '1460': '21616 10385 21903 13984 7916 43768 20015  47626 9076',\n",
       " '1463': '21938 23549 46677  37654 12986 14197',\n",
       " '1464': ' 39321 19505',\n",
       " '1469': '36696 34217 10984  196 11821 26863',\n",
       " '1471': '40348 11422 47141 42460  24759 25330',\n",
       " '1473': '32478  21288',\n",
       " '1480': '8843 11759  49414 13575 27839',\n",
       " '1485': ' 26558',\n",
       " '1487': '29529 18766 15359  12260',\n",
       " '1489': ' 23423',\n",
       " '1493': '44144  10089',\n",
       " '1496': '2611 24852 24184  39180 22035',\n",
       " '1501': '38608 24347 45313  34862 45009 45854',\n",
       " '1502': '35168 35898 21616 26856  17871',\n",
       " '1506': '39275 7453 38510  22312 38754',\n",
       " '1509': '33209 ',\n",
       " '1511': ' 47626',\n",
       " '1514': ' 33043',\n",
       " '1516': '5342 ',\n",
       " '1517': '40706 21938 49683 13457 35503 35921 3397  16398 19660 41220 37067 5025 23649 10246 19446 7264',\n",
       " '1520': '24852 2051 30941 8193 42564 27730 47616 4920 23079 31766 45767  35548 34134 47167 49683 36976 28745 39299 4605',\n",
       " '1523': ' 45188 16234',\n",
       " '1526': '30489 48110 39928 21903 16185 39097 27845 24852 31343 43014 38453  48058 39662 7452',\n",
       " '1532': '40001  4461 11520',\n",
       " '1535': '28476 1402  29370',\n",
       " '1544': '41771 45346 38750 13176  22963',\n",
       " '1547': '9138 1194 40795  33198 47626 18465',\n",
       " '1548': '15290 24184 42768 8518 47766 43662 42736 47626 4920 42265 16185 2295 31717  26209 13409 8174 35948 8424',\n",
       " '1549': '44661 18382 10504  651 38249 8834',\n",
       " '1554': ' 33452 32156',\n",
       " '1558': '10580  24852 19057',\n",
       " '1561': ' 46149',\n",
       " '1563': '21405 39928 30192 22825 7781 19057 24852 44632  21695 47626 47766 49044 46979',\n",
       " '1564': '21137 14161 39275 43352 ',\n",
       " '1569': '36127 21616 21903 11576 30391 39877 1468 24852 24489 10476 32134  279 43122 46802 48104 10246 5876',\n",
       " '1572': ' 13176 35939',\n",
       " '1573': ' 14419',\n",
       " '1576': '44560 25138  47209 26604 48679 17027',\n",
       " '1581': '30776 39408 47717  47626 29487 38837 48595 21019 31555 26769',\n",
       " '1582': '10337 45570 27845 18095 36036  26201 17131',\n",
       " '1585': ' 13176',\n",
       " '1588': ' 3515',\n",
       " '1589': '10749 49235 31981 24852 29307  37508',\n",
       " '1594': '9405 18389  11440 11512 27086',\n",
       " '1596': '1090 21026 43693 13716  24010 20156 10078 35704',\n",
       " '1598': '13176  21572 13575',\n",
       " '1603': ' 24347',\n",
       " '1605': ' 35951',\n",
       " '1608': '8501 8073 6046  37190 2332',\n",
       " '1610': '48697  18389',\n",
       " '1615': '31433 23879 22227 32655 2326 10017 24852 43961 44632 22220  47629 9339 12341',\n",
       " '1616': '24852  27966 7131 10172 21009',\n",
       " '1618': '11844 7079 40571 44422 24852 16797  4562 27086',\n",
       " '1620': '8927 42265 42585  32828 32734',\n",
       " '1623': '9595 39275 4600 26133 27845 18171  37766',\n",
       " '1627': '40396 32740 44182 8021 45066 21267 24852  13646 37938 49628 3819 31404 25133',\n",
       " '1630': '8053 5077 42425 24852  43234 5450',\n",
       " '1634': '20588 30233 21903 8277  27966 46667 5785',\n",
       " '1636': '32655 9422 16797  23233 47766 35221',\n",
       " '1637': '41889 27316 14078 32478 ',\n",
       " '1645': '4790 21183 21616 46147 27845 41588 39166  32052 48835 14141 32537',\n",
       " '1647': '23016 13176 6184  14444 37710 47504 46562 37980',\n",
       " '1650': '41570 23516 42445  37067 38164',\n",
       " '1651': '14233 37158 35782 21903  22963 47209 34969',\n",
       " '1655': '34406  47141',\n",
       " '1658': '12140 ',\n",
       " '1659': '21616 31717  23630 28985 34126',\n",
       " '1661': '24964  45066 24852',\n",
       " '1663': '32655 24721 29921  45200 40997',\n",
       " '1665': '28459  6366 22666',\n",
       " '1666': '42701 39928 41588 38985  13702 34134 5876 11182',\n",
       " '1670': '40706 34969 27845 28849 31343 36646  19660 20876 8518 4605 42625 26497 30720',\n",
       " '1672': '45089 38400 24852  33690 23432',\n",
       " '1674': '21137 36724 15902 7781 41990 5950 39363 14240 46906  48186 28204 40469 10343 38439 32864',\n",
       " '1676': ' 40634 1757 42719',\n",
       " '1677': '10749 4778 40216 15290 34287 30169 11777 49215 48523 2295 21083  40174 46138 3801 34027',\n",
       " '1684': '9444 7413 42450 44632 45368  39180 5450 29077',\n",
       " '1689': ' 39275 24852',\n",
       " '1693': '35561  35951',\n",
       " '1695': ' 16974',\n",
       " '1696': ' 47626 24852',\n",
       " '1697': '21709 17149 11937 45437 15985  23835',\n",
       " '1699': ' 13176 22802',\n",
       " '1714': ' 28920',\n",
       " '1716': '43295 21709 24852 44632  20119 35221',\n",
       " '1726': ' 44172',\n",
       " '1727': '24235 47630 13851 49131 17949 35108  47626 35321 26209 28553 46802 23537 28593 14778',\n",
       " '1734': '45066  27966 26209 47766 26497',\n",
       " '1739': '41842 21903 17600 7963  33120 28745',\n",
       " '1740': '17902 39275 19057 21903 25138 11193  45223',\n",
       " '1741': '13176 8792 42342  27705 8138',\n",
       " '1754': '16759 27750  5785 20842 5876 25610',\n",
       " '1761': '36724 7054 9839 14867 ',\n",
       " '1765': '21903  11777',\n",
       " '1769': '39275 8048 43352 15541 16797  33081 26604 30450 16283 46129 39001',\n",
       " '1770': '34126 4945 21616 21903 1940 13176 42803 35108 17948 41290 35045  8518 26604 32877 45007 46979',\n",
       " '1771': '30387  23621 18987',\n",
       " '1774': ' 196 21195',\n",
       " '1782': '23909 23693 39646 13129  47329 1688',\n",
       " '1784': '5750  21137 43904',\n",
       " '1786': '8022  22089 20309',\n",
       " '1789': '22825 32655 14732 46979 36322 13176 31720 31927 27966 5876 13870 6287 6046  30561 18232 44560 21137 8006 12745 9372 17872 49111 4462',\n",
       " '1795': '29117 12987 30233 46226 4472 4274 141  4920 28745',\n",
       " '1797': '10403 1571 8073 49683 11009 17600 28427 24852 3999 14381  5923 46979 22699 5450 38371',\n",
       " '1799': ' 21137 6184',\n",
       " '1800': '39305 ',\n",
       " '1804': ' 6087',\n",
       " '1805': ' 43470',\n",
       " '1807': '24852 3765  40174 27104',\n",
       " '1817': '43857  12606 12817 4920 11894',\n",
       " '1819': '9020 27156 46990 34358 18531 4193 10129 44359 21938 30599 21417 20995 13176 20034 42265 27845 1468 22504  47209 2846 41220 26882',\n",
       " '1821': ' 36231',\n",
       " '1824': '18918  18370 22849 19018',\n",
       " '1826': '12210  20076 30958 48681 22736',\n",
       " '1828': '32534 ',\n",
       " '1831': '48364 3481 27845  34358 47734',\n",
       " '1837': '43662 24852 31139 23959 28985  47626 40723 20842',\n",
       " '1841': '24964 49683 33000 21903 13176 27845 24184  47893 45007',\n",
       " '1842': '31915  44728',\n",
       " '1847': '22832 46049 19154 11512 38164 31215 27344 24518 30391 37011 39203 35383 23375 13176 26283 7559 17530 47626 49519 5438 35914 34993  33198 47209 43772 48453 1999 28862 12703 49488 13488 47325',\n",
       " '1854': '22151 49247 27429 8884  9075 41362 22071',\n",
       " '1855': ' 13259',\n",
       " '1861': ' 34448',\n",
       " '1862': '32478 40969 ',\n",
       " '1865': '41162  26836 46586',\n",
       " '1866': '38844 25985 35536 42265 16213 38510 7088 20144  47626 34358',\n",
       " '1868': '13176 21996 29662 12384  33198',\n",
       " '1869': '47630 21137 10385 33787 17654 19691 33754 33352  2966 37067 17628 18465',\n",
       " '1870': '13176 3298 39534 35561  7131 39922',\n",
       " '1871': '38563 20305 9387 45484 44213 49030  17617 25084 24707',\n",
       " '1873': '15872 22124 16797  47766 27841',\n",
       " '1875': ' 32689 36392',\n",
       " '1878': ' 13176 25588 21288',\n",
       " '1883': '47610 17122 24852 43961  47672',\n",
       " '1887': '42265  30391 48559',\n",
       " '1888': '14651 5077 40310 45954  47847 7069',\n",
       " '1889': ' 19966 4294',\n",
       " '1896': '16797 ',\n",
       " '1898': ' 31958',\n",
       " '1901': '35522 30639 4314 40910 16167 11543  11512 46681 23804',\n",
       " '1902': ' 19660',\n",
       " '1905': '8859 30169 21903 13176 37687 8174  39558',\n",
       " '1906': '20738 49235 30499  36550',\n",
       " '1907': '13176 28199 27730 36011  47209',\n",
       " '1909': '277 10954 45176 5750  9932 23020 18049 46651',\n",
       " '1910': ' 39889 6003',\n",
       " '1911': '42701 21938 11520 5618 42736 47526 43789 21903 35108 24184 10814 27744  30391 46979',\n",
       " '1913': '10613 12817 31154 6105 12087 350 41131 3459  46088 26396 4398 34619 2120',\n",
       " '1915': '40186 22677 28985  21198 49383 13889',\n",
       " '1916': '24838 19057 38077 3819 16521  22963 38739 27966 49520 4462 15610 5250 36070 47740',\n",
       " '1917': '15902 6948  23059 34430',\n",
       " '1920': '18110 24372 49683 28156 34234 45066 3298 6493 19930 29307  40753 5744 27086 30726 19348 35970',\n",
       " '1925': '4635 42352 43965  26604 4605',\n",
       " '1927': '21137 21903 18594 9689 17949 24852  37947 27104 27966 37766 25965 26915 11737 46979',\n",
       " '1930': '5785  9292 20915',\n",
       " '1932': ' 25544',\n",
       " '1934': '35921 ',\n",
       " '1936': '43772 11520 24838 5077 36746 48857  40174 37067 33120 20632 29127 8424',\n",
       " '1939': ' 19368',\n",
       " '1941': '5794 45581 18818 28448 8174 31299 23339 5750 14999  42828 9076',\n",
       " '1943': '3717 20113 48415 19057 13176 14852 39877 35163 45544 45368 42585  34668 17988 32467 46979',\n",
       " '1945': '14947  34197 8627',\n",
       " '1951': '48364 2748 19057  12703 45633 46667 12456 19477',\n",
       " '1955': '44683 4210 459 37065 23341 24852  27841',\n",
       " '1961': '10749 40706 39928 20995 24489  47209 27104 27966 5876 46979',\n",
       " '1964': '21903  34197 3896',\n",
       " '1966': ' 13809 41539',\n",
       " '1971': '17794 10292 24852  28849',\n",
       " '1972': ' 13042 49083',\n",
       " '1975': '10749 24838 41950 7806 3957 20632 13609 19019 44570 23339 45200 42265 31717 43768  38108 47209 26209 21137 44795 1463',\n",
       " '1977': '40706 18362 26168 19677 43961 31338 42445  37067 5450 25824 27662',\n",
       " '1983': '24964 21616 33401 38383 28985  8518 11140 46979',\n",
       " '1984': ' 18394 27086 33000 26135',\n",
       " '1992': '25199  43086 27845',\n",
       " '1993': '432 1940  28204 18059',\n",
       " '1994': ' 1919',\n",
       " '1996': '28123  11819 26209 5876',\n",
       " '1997': '12144 20186 29999 31730 43758 14633 8339 37646 32689 37462 3599 47370  47629 47209 38293 35523 21137 21903 4274 9339 29487',\n",
       " '2001': '9681 49683 34466 2825 16185 45066 47912 42450  7806 38734 20919 7131 34214 44359',\n",
       " '2002': '23805 17622 21709 46807 5491 32647  47209 35221 38689',\n",
       " '2003': ' 13176',\n",
       " '2006': '40706 2326 1511 24852  47626 48953 35199 38557',\n",
       " '2007': '34243 39040  46667 18739',\n",
       " '2016': ' 24852 45123',\n",
       " '2023': '24964 ',\n",
       " '2024': '8022 27093 34688 20670 12576 8174  17723 4920',\n",
       " '2028': '46654 27316 43961 30871  48705',\n",
       " '2029': '15925 39781 18721 26620 21616 2481  40198 8730 18104 49517',\n",
       " '2034': '39434 28823 32605 24852 16797  34862 45064',\n",
       " '2042': ' 12341',\n",
       " '2047': '3262 31778 4192 27796 29921 ',\n",
       " '2048': '42157 27554 41371  27102',\n",
       " '2049': ' 41463',\n",
       " '2051': '16797  42731 24852',\n",
       " '2052': '39275 21903 42265 43352  21288',\n",
       " '2054': '44683  24799',\n",
       " '2061': '22866 28226 38739 9837 47029 20995 12139 47977 46764 4697 45200 18811 27307 40516 15404 31220 14668 12834 9551 25670  9421 28688 39561 29883 48287 47079 40877 34894 37158 2966 18963',\n",
       " '2062': '21903  39275',\n",
       " '2065': '1463  18465',\n",
       " '2070': '44085  44843 15042',\n",
       " '2075': '24838 39275 19057 13176  5134 35140',\n",
       " '2079': '21793 1511 663 9387 34873 46811  40354 26184 26209 9912 11826 41808',\n",
       " '2083': '47610 41757  5514 27392',\n",
       " '2084': '30142 ',\n",
       " '2088': '4957 35383 7388 37276 22170 33754 25890  15273 38164 36165',\n",
       " '2090': '30489 2611 21376 48523 16797 49075  33788',\n",
       " '2092': ' 33002',\n",
       " '2095': '41665 23288 45416 4945 45066 43352 24852 32163 14867  47626 46900',\n",
       " '2096': '21543 42265 25890  42495',\n",
       " '2100': '40706 19895 22227 23716 9779 22031 33055 25890  47626 4920 4799 36522',\n",
       " '2102': '812 31663 24852 41594  49520',\n",
       " '2104': '44303 21386 14870 13176 ',\n",
       " '2106': '27652 ',\n",
       " '2107': ' 49683 27966 37687',\n",
       " '2108': '21938 48364 46969 47866 27925 13176  26940 16973',\n",
       " '2112': '25435 41805 35504 9484  5785',\n",
       " '2114': '22312 21616 45 30471 24852 2855  7412 47766 5025 34969 24622 44359',\n",
       " '2115': '49587 46489 33819 38054  30744 10084 1181 35956',\n",
       " '2117': '39984 39812 22935 8479 5120 24964 49235 15261 49072 30290 47626 27104 23079 23165 16185 8021  5456 21903 17872',\n",
       " '2121': '38701  30659 3792',\n",
       " '2123': '35921  39721 17706',\n",
       " '2126': '3835 ',\n",
       " '2142': '13176 42265 43352 16797 ',\n",
       " '2144': '27086  7521 21417',\n",
       " '2146': '19895 ',\n",
       " '2147': '21903  35951',\n",
       " '2148': ' 21019',\n",
       " '2154': '31371 38273 39190 22935 33438  31506 27104 18599 16168 17461 38293 5322 8424 28849',\n",
       " '2158': ' 11821 7371',\n",
       " '2163': '7500 23622 2748 34065  204 8518 2547 14084 14673 16100 20866 49095',\n",
       " '2171': ' 35951 49235',\n",
       " '2174': ' 8859 5258',\n",
       " '2176': '4210 46510 30960 9020 5679 24852 42460 16797 16020  47672 46584',\n",
       " '2178': '21137 49683 24852 22888 36011  47788',\n",
       " '2181': '29373  24852 24810',\n",
       " '2183': '17794 38456 38383  12703 34969 3376',\n",
       " '2188': '38709 42948  32573 5782',\n",
       " '2191': ' 47626 26209',\n",
       " '2202': '5212 8021 45013  1890 2086 18670',\n",
       " '2203': '28071 28156 34128 18918 17706  47209 7185 27344 23644',\n",
       " '2208': ' 1994',\n",
       " '2209': '45296 8390 47977 34394  35613 44340 41722 24273',\n",
       " '2211': '10749 10129 39275 46969 14853 32523  34658 31801 7014 35951',\n",
       " '2215': '21463  16965',\n",
       " '2220': ' 22849 22805',\n",
       " '2222': '25109 19894  35072 24099 12572 19816 43749 32935',\n",
       " '2224': '18531 ',\n",
       " '2225': '27845  49236 47209 44815 22035',\n",
       " '2229': '21405 33674 15290 24852 21938 45066 6532 25890 16885 40174 47148 8833 2611 44142 42265 48523  26209 40706 12467 39275 28986 13167',\n",
       " '2231': '37646 24964 25005 39812 21903 22935 27845 42768  23835 45007 18801',\n",
       " '2232': '32743 493 17622 18176  37067 6891 47719',\n",
       " '2235': '49235 32655 40598 49191 41075  20119',\n",
       " '2240': ' 11512',\n",
       " '2243': '9839 6184  4920 5258',\n",
       " '2250': '1090 22825 23102 45763 45679 45282  35004 49267 39799',\n",
       " '2251': ' 13176 49235 44631',\n",
       " '2252': '26668 16759 36865 24852 31717 42768  12916 47766',\n",
       " '2262': '17630 28289 22856 42736 26790 43768  47209 939 26209 34358 28842',\n",
       " '2265': '40120  13176 13575',\n",
       " '2270': ' 44987 41023 42423',\n",
       " '2271': ' 24852',\n",
       " '2276': '47610 26780 35503 16617 10814  32139 22035',\n",
       " '2277': ' 19174 47977',\n",
       " '2279': '38154 4210 424 27801 24852 37354  40136 3861 39910',\n",
       " '2280': '29874  49652 25471',\n",
       " '2286': '46886 42768  40198 46979',\n",
       " '2288': '17794 41149 1158 23236 13176 10753 19311 21463  47209 26701',\n",
       " '2291': '37173 11520 11945 21616  27437 30492 39108 39971 42307',\n",
       " '2292': ' 31997',\n",
       " '2293': '38241 27796 45066 24852  20540 45009 16900 2971',\n",
       " '2294': '43154 ',\n",
       " '2295': '23341 41594  47626 47144 28204 17545 6383 47516',\n",
       " '2297': '6833 ',\n",
       " '2298': '34126 23909 21903 40010 39877 24852 35948  47626 26209 46802 12614 34809',\n",
       " '2318': '26493 24852  39560 20114',\n",
       " '2320': '16696 4210  43727 38200',\n",
       " '2323': '33950 4649  1215 6550',\n",
       " '2324': '23020  35948',\n",
       " '2325': '6448 34520 27147 31981 25830 2745 27360  39224 26709 33894',\n",
       " '2326': '27521 17948  3628 1516 26369',\n",
       " '2327': '11520 31553 13176 16987  47209 20314 45946',\n",
       " '2334': ' 8277 47209 20995',\n",
       " '2335': '48168 24852 41290 16797 22978 41714 43117 4137 36695 30696 1090 49235 30169 30591 3529 35921 28571 6532 38729 14617 27104 36763 29628 37003 21737 16707 9551 23102 27794 27845  35430 48205 14992 33565 27451 9076 16900 38200 36307 30192 43715 31469 9387 14852 33351 36278 38544 21641 4753 24427 40708 44167',\n",
       " '2336': ' 47209 44815',\n",
       " '2340': '3526 43974 28199 33351  9076 40516',\n",
       " '2342': '8025 25199 18584 24852 33754 40310  10343 29091 6615',\n",
       " '2347': '49683 24852 12545  34969',\n",
       " '2356': '21137 34262 28682 21903 44632  27966 8518 26209 36526 20754 30353',\n",
       " '2358': '9534 32019 4 39464  22882 4986 21019 6686',\n",
       " '2368': ' 20842',\n",
       " '2372': '16696 35042 49118 29078 ',\n",
       " '2374': '35595 39190 46650  45104 26209 5876 36070',\n",
       " '2375': '38226 24838 14371 34551 6336 33527 37975 33125 24954  46676 28204 35221 44961 45866 21137 41665 45970 5450 33043',\n",
       " '2376': '19953  3836',\n",
       " '2381': '16803 13733 27676 12772 46023 21938 19505 6497 37658 40027 3407 45541 15006 41178  35042 25825 31562 34947 8590 8424',\n",
       " '2382': '19370 22220  36869 1240',\n",
       " '2385': '25588 24852 40332  47626 12606',\n",
       " '2387': '21754 43739 34050 13032 41400  196 48142 46562',\n",
       " '2389': '24964 21616 13176  13629',\n",
       " '2392': '22034 37489  35909 5785 27336',\n",
       " '2394': '5985  31985',\n",
       " '2398': '16797 ',\n",
       " '2402': '16262 26252  41950 26940 25146',\n",
       " '2410': '6348 16988 22825 28054 24852 16987 31215 48057 14766 14870 45066 47626 27966 4920 11737 38456 4472  47209 26209 9421 12614 17949 2480 2019',\n",
       " '2414': ' 27336 34466 26209',\n",
       " '2418': '21137 15290 46616 34137 37029  47626 37766 27966 4620',\n",
       " '2421': '26894 44632  28204 8424',\n",
       " '2424': '10492 39190 35921 24631 12195 17316 24852 17704 25134  45231',\n",
       " '2425': '42265 33129  30340 26604',\n",
       " '2433': '35383 27845 24852 48697  27104 44275',\n",
       " '2435': '27639 32655 35504 14947 24852 27156 16479 41950 46847 5134 10114 45066 22035 21936 43889 34851 18918 15008 41844  29298 17579 25551 49236',\n",
       " '2437': '17794 45066 12384 13772  20876 40311 36865 8309 43662 42557',\n",
       " '2441': '34590 37825 27845 24852 43961 30385 2447  42719 11005 3376 8138',\n",
       " '2442': '24964  38383 20600',\n",
       " '2446': '34126 8358 21903 25138 31717  27086 49175 44359',\n",
       " '2452': '40298 34262 39275 32923 14410 40759 24852 44632  27104 18670',\n",
       " '2453': '4945 31717  8518 26209 47766 45223',\n",
       " '2456': '39475 47585 49235 24360 8277 31717  43394 1039 19182 26165 33290',\n",
       " '2458': '30489 21137 14985 13176 5077 8277 365 34448 1463  31869 22260 13166',\n",
       " '2461': '8861 13870 12075 37335 36076  47626 26209 5450',\n",
       " '2462': '7781 2228 27156 38739 47044 12456 36695 4799 13176 7948 46064 44632 31315 30450 46584 17828 432 9058 16185 39578  42585 26209 13083 19057 39409 24489 4288 32227',\n",
       " '2465': '46969 43692 18465 24852  33731 16650 7955 26165 32691',\n",
       " '2467': '38456 24852 31717 44830  47626 26209 20580 47766 20114',\n",
       " '2474': '27365 17721 19894 18881 32850 6972 8277 39877 19613  11819 46667 19970 9934 24518 30391 29598 11526',\n",
       " '2476': '36316 31387 32980 34112 12683 2026 26348 17645 48667 49520 22882 10690 34502 27313 6966 34986  29689 28688 47865 852 7693 21063',\n",
       " '2478': '42450 37119 49114 19678 36082 44479 35547 46979 34497 21616 13176 27966 15200 26521 12145 45007 30252 4421 27055 27845  46667 21903 7562 34197 34243 2573 32864',\n",
       " '2481': '37646 13176 17600 48628 43961  27966 36865 30561',\n",
       " '2482': '36086 24780  29315 4086',\n",
       " '2483': '36200 1940 14999  18091 35507 22071',\n",
       " '2484': '22034 24964 21903 19068 39693 26800 27521 2265 31717 43768  8518 26604 26209 38419 48104 5876 9955',\n",
       " '2491': ' 31258',\n",
       " '2496': '7736 11773 38763 13867  16976 12508',\n",
       " '2502': '37250 516 41602  47931 13643',\n",
       " '2507': '35163 29801 25890  7014 34969',\n",
       " '2509': '17902 ',\n",
       " '2513': '17689 24850 40910 27845 ',\n",
       " '2514': '6361 49235  5134 24482',\n",
       " '2517': ' 19348 42244',\n",
       " '2520': '21903  27845 39275',\n",
       " '2522': ' 13176 44292 11943',\n",
       " '2527': ' 38273',\n",
       " '2529': '2366 8859 12285 24852  38848 44051 31231 26209 37886 5450 11123 47357 47966 41082',\n",
       " '2532': '24838 28387  34658 22115 2344 258',\n",
       " '2534': '17794 37646 23165 23622  7314 30391',\n",
       " '2535': '41694 23025 17794 890 39928 49610 13176 43014 25890 29755  49583 1039 26604 4605',\n",
       " '2536': '34993 6962 46886 13176 48577 15992  27966 25949 32831',\n",
       " '2537': '24964 29370 38383 37524 25890  33731 46206 9515 29344',\n",
       " '2539': '7401 46524 13176 40824 ',\n",
       " '2542': '1670 19805  5535 36397',\n",
       " '2548': ' 16469',\n",
       " '2549': '45066  6052 44799 4605',\n",
       " '2554': ' 27640 29141',\n",
       " '2557': '41238 25804  20938 32465',\n",
       " '2558': ' 7948',\n",
       " '2559': '36456  28427',\n",
       " '2560': '40864 17316 44053 47780  33671',\n",
       " '2568': '27730 38192 24852 40332  34134 4920',\n",
       " '2574': '24964 31040 49533 29370 12745 38383 16521 24852  39180 27104 11499 32402 45123 18891 4344 9137 44359',\n",
       " '2575': '30489 8277 17652 35176 ',\n",
       " '2580': '48192 39464 24852 28985  47626',\n",
       " '2593': '40706 ',\n",
       " '2594': '24964 30233 7948 43961 ',\n",
       " '2598': ' 25072 34504 30021',\n",
       " '2599': '41806 35328 37646 40593 24184  10060 8518 7669 27086',\n",
       " '2600': '23909 44142  47626 24906 26165 3631',\n",
       " '2601': '16797  30551',\n",
       " '2609': '8580 23879 29103 38480 10753 22504  1398 47626 31231 11123 32864',\n",
       " '2610': '24838 1374 18677 21903 7952 35633 20015 41063  47626 27104 5251 4130 12456 23291 17795',\n",
       " '2611': '27472  44042',\n",
       " '2615': ' 2675',\n",
       " '2617': '15399  19348 45104',\n",
       " '2618': '13176 31741  14992 47766',\n",
       " '2619': '19101 34339  45948 5646',\n",
       " '2621': ' 19660',\n",
       " '2626': '18908 21137 44987 4957 43789 21903 13176 48628 27845 9839  33731 43394 47766 18656',\n",
       " '2629': '46266 ',\n",
       " '2633': ' 4605 38739 13496',\n",
       " '2638': '26695 19057 34590 18523 13176  31015 26940 32734 4927 5876 18020 45840',\n",
       " '2639': '49683 48230 17600 27156 25890 13198  16097 23734 14778 3481 43908',\n",
       " '2640': '40254 21781 41534 13944 26128 23734 30696 35310 16290 49235 30779 43263 21362 10673 28703 22888 17615  15539 26138 6631 49326 16826 7877 35752 39275 6128 40354 2780 47366',\n",
       " '2641': ' 196',\n",
       " '2649': '3539 46886 41844  30561',\n",
       " '2651': '890 32689 21903 27156  7252 39001',\n",
       " '2653': '33614 29615 23693 35761 41273  47144 1006 15785',\n",
       " '2657': '40706 22939 21903 24221 15950 260 20127 5373 24489 43768 42585  37067 30122 11072 15592 35951 35939',\n",
       " '2659': '25495 18792  47815',\n",
       " '2672': '43154  27966 1463',\n",
       " '2677': '35221  4605',\n",
       " '2679': ' 38944 29010',\n",
       " '2682': '12683 23100 19734 34502 31387 34154 6724 8390 26038 31269  48667',\n",
       " '2687': '40706 33642 21137 41665 3896 16759 9405 46820  17985 18465 27344 45081 30561',\n",
       " '2690': '21137 37646 29912 11520 22234 24852 34551  4562 47766',\n",
       " '2696': '11481 22825 49191 42265  28985 31927 48679',\n",
       " '2698': '21925 13525 44944 36956 41433  32835 19766',\n",
       " '2699': '42958 42701 40593 41593 ',\n",
       " '2703': '10551 21938 15906 47008 21709 24184 43961 4066  12033 8518 3627 25666 13629 8424',\n",
       " '2706': '1313 7393 8718 16309 9387 15130 32156  33995 36551 30006 5025 27924 42252 46979',\n",
       " '2714': ' 21115',\n",
       " '2718': '31394  27985',\n",
       " '2719': ' 44042',\n",
       " '2720': '33787  34106',\n",
       " '2721': '15290 21295 17634 43768 28985  45007 7485 46979',\n",
       " '2723': '10351 12846 29447 24160 3599 4367 35121 12935  27966 651 9515',\n",
       " '2728': '9210 21417 3212  34530',\n",
       " '2734': '890 15290 22935 24184 16616 1398 47766 19678 44910 44359 6532 35140 45007 30233 39332  13166 21137 16759 21903 48628 42507 47672 34126',\n",
       " '2740': '21938 24024 42736 6046  34358 34969 28745 34530',\n",
       " '2741': '23457 24489  27966 26604 12581 24082',\n",
       " '2743': '4799  35233 18881',\n",
       " '2744': '33220  354',\n",
       " '2747': '21137 35914 31268 27316 24852  49416 17008 3800',\n",
       " '2749': '43154 ',\n",
       " '2750': '21137 44765 27845 17807  10132',\n",
       " '2755': '25513 40706 39314 18583 35715 19932 1463  39276 21614 32726',\n",
       " '2756': '7049  19173',\n",
       " '2760': '41757 18918 39877 35108  7179 18465 44359',\n",
       " '2762': '43631 16953  27186',\n",
       " '2769': '36792 46616 7952 30219 3765  5456 26352',\n",
       " '2770': '14678 21982 35109 20995 13176 42579 25890 ',\n",
       " '2771': '43371 697 48364 36253 45622 35535 35333 16159  31506 40723 19348 18242',\n",
       " '2772': '8859 17191 49235 30290  20580 47912',\n",
       " '2773': '40706 46346 2611 8728 21709 15892 12932 24852  40709 38944 7806 13702 49211 31257 43262 2781',\n",
       " '2776': '21137 21903 9036 13176 25533 21057 35140  28985 42585 13380 47766 45007 48679',\n",
       " '2777': '15455 8406 46627 27325  41950 22713',\n",
       " '2778': '44245 32689 9387 16185 24184 ',\n",
       " '2779': '1099 14651 11576 26790 13176 14870 38383 42342  27966 10528 28204 35914 5646',\n",
       " '2785': '11520 29292 32030 13779 13176 35364 9839  11352 5499',\n",
       " '2786': '21137 40852 8381 13176 5077 18288 48697  43394 1890 34049 49175',\n",
       " '2787': '38768 28427  44156 9114',\n",
       " '2790': '40706 21137 43086 21903 40604 5031  28985 3951 27344',\n",
       " '2791': '35752 25706 24852 46184 ',\n",
       " '2797': ' 27323 27966',\n",
       " '2798': '16489 32141 41674 1393 21709 365 24852  20014',\n",
       " '2802': '37385 31717 45368  38207 4605',\n",
       " '2804': '21903 8670 9058 24852 31717 1364  36695 26209 12456 10246',\n",
       " '2809': '47630 40396 21150 21903 13176 25346  19660 28985 5575 47766 5646',\n",
       " '2814': '15290 26369 4799 11182 46979 24964 26131 30135 45007 15937 34300 43014 43768  42585 47209 31378 41665 34243',\n",
       " '2815': '5212 24964 21903 34243 27845 24852 13496  47766 38293 42244 9648',\n",
       " '2817': '24221 46855  26369 1103',\n",
       " '2825': ' 3952 36178',\n",
       " '2827': '18583 6046 23472 38772 ',\n",
       " '2828': '31553 12232 35921 26826 44325  28993 5808 6109 16703 27016 39397 39993',\n",
       " '2837': '17794 12204 30676  43122 37067 46802 1819',\n",
       " '2840': '8571 ',\n",
       " '2843': ' 5258 2120',\n",
       " '2844': '26104 ',\n",
       " '2845': '11073  36390',\n",
       " '2846': '17794 41787 44661 16759 11777 46886 13176 15503 27845 35045  40198 26604 47788',\n",
       " '2849': '8859 40969  44753 48679 24288 29195 20323',\n",
       " '2857': '39863 ',\n",
       " '2858': '19173 16818 42460 41290 27744  2745 10798',\n",
       " '2859': ' 23288 9358',\n",
       " '2861': '13949 7205 45066 31076  37067 26604 3957',\n",
       " '2865': '19173 39678 31713  19660 3957 24082',\n",
       " '2880': '18689 ',\n",
       " '2885': '43631 2536 ',\n",
       " '2891': ' 9405 49628 43394',\n",
       " '2894': '49683 27247 27845  47209',\n",
       " '2896': '21137 21616 28590 13176 44628 33352  27012 7179 26604 33120 24253',\n",
       " '2902': '14711 22825 22935 18531 44787 30489 24964 13176 6532 31720 19048 30233 27845 23029  47209 35917 21137 8174 12384 8467 3952',\n",
       " '2904': ' 5545 10855 42342',\n",
       " '2905': ' 39275',\n",
       " '2906': '16696  49683 12341',\n",
       " '2908': '9018 6178 6111 7197 20226 28879 12196 23148 9882 23765 36011  36766 6975 37743 44866 4932',\n",
       " '2911': '44632  40174 7035',\n",
       " '2918': ' 703 46041 12341',\n",
       " '2919': ' 31805',\n",
       " '2921': '23909 5884 18218 24852  8590 21293',\n",
       " '2922': '18615 38456 41665  4920 4605',\n",
       " '2923': '21162  41065 3339',\n",
       " '2924': '49235 3732 24852 44107  33565',\n",
       " '2934': '13245 37417  12916 33198',\n",
       " '2936': '21137 41787 33540 45 39877 30385 24852 9839 37658  26604 35221 22035',\n",
       " '2937': ' 5385',\n",
       " '2939': '18523 27845  17872 5785 20632',\n",
       " '2947': '25513 27443 39921  38267 7644 11796',\n",
       " '2952': '48775 39275 33000 13176  24759 47209 47672 19048 44414 36695 44359',\n",
       " '2953': '42479  12932 46616',\n",
       " '2959': '10831 29447 21616 6218 13176 31623  42533 43662 38557',\n",
       " '2960': '30489 ',\n",
       " '2961': '31915  5876 47759',\n",
       " '2962': '10749 21405 37646 35425 35163 43768 28123  13565',\n",
       " '2963': '26257  18987',\n",
       " '2964': '49683 49585 2732 10974 24852 30953  16398 42585 14992 2596 17284 8733 10246 26369',\n",
       " '2965': '28156 22935 7948  8518 34969 20754',\n",
       " '2968': '10749 9825 2326 22935 39928 13176 27104 27966 49520 45007 46584 17902 24024 43789 28373 43961  10895 47209 29898 40706 21137 34458 32360',\n",
       " '2969': '38383 42768  47209 37067',\n",
       " '2970': '47167 21137 13176 43726 31343 25890 15017  8193',\n",
       " '2972': '21137 49235 22825 16759 13176  41950 8518',\n",
       " '2973': '28459 18818 1194  46842',\n",
       " '2974': '18615  27845 14678',\n",
       " '2975': ' 8174 16759 43789',\n",
       " '2997': ' 10246 16830 43295',\n",
       " '2999': '2537 8247 48226 14852  15410 27086 4986 6631',\n",
       " '3004': '40706 13517 7413 42265 16913 45066 24852 24276  43122 28204 19821 5450',\n",
       " '3006': '35547 37646 21903 40604  47626 47766 310 34969',\n",
       " '3013': '48907 32403 30827 8048  15772 8803',\n",
       " '3016': '31228 6128 1875 9623  14862 44980 329',\n",
       " '3018': '38768 6369 13176 42803  6901 20940 5258',\n",
       " '3019': '8174  20082 17987 44204',\n",
       " '3020': '29615 44925 1940 24852 11773  21019 3990',\n",
       " '3023': ' 38928',\n",
       " '3024': '42360  12606',\n",
       " '3026': '12324 34335  42526',\n",
       " '3029': '4724 13176 16797  20940',\n",
       " '3030': '21230 6218 13176 17948 32846  10644 25146',\n",
       " '3034': '17902 21903 25890  28934',\n",
       " '3035': '41724  19011 16396',\n",
       " '3039': ' 16281',\n",
       " '3041': '19894  49683 24852',\n",
       " '3046': '44560 36014 43713 44310  35004 15592 30719',\n",
       " '3049': ' 47657',\n",
       " '3051': '42701 14678 46294 30639 2452 48720 41149 47229 35503 5699 4792 162 6948  20876 22908 34126',\n",
       " '3053': '3959 27510 12087 6137 46940 ',\n",
       " '3056': '19767 30827 13032  28413 30162',\n",
       " '3059': '6212  47479 34026',\n",
       " ...}"
      ]
     },
     "execution_count": 106,
     "metadata": {},
     "output_type": "execute_result"
    }
   ],
   "source": [
    "new_set"
   ]
  },
  {
   "cell_type": "code",
   "execution_count": 113,
   "metadata": {},
   "outputs": [],
   "source": [
    "new_result = pd.DataFrame.from_dict(new_set,orient='index', columns=['product_id'])"
   ]
  },
  {
   "cell_type": "code",
   "execution_count": 114,
   "metadata": {},
   "outputs": [],
   "source": [
    "new_result.index.name = 'user_id'"
   ]
  },
  {
   "cell_type": "code",
   "execution_count": 115,
   "metadata": {},
   "outputs": [
    {
     "data": {
      "text/html": [
       "<div>\n",
       "<style scoped>\n",
       "    .dataframe tbody tr th:only-of-type {\n",
       "        vertical-align: middle;\n",
       "    }\n",
       "\n",
       "    .dataframe tbody tr th {\n",
       "        vertical-align: top;\n",
       "    }\n",
       "\n",
       "    .dataframe thead th {\n",
       "        text-align: right;\n",
       "    }\n",
       "</style>\n",
       "<table border=\"1\" class=\"dataframe\">\n",
       "  <thead>\n",
       "    <tr style=\"text-align: right;\">\n",
       "      <th></th>\n",
       "      <th>product_id</th>\n",
       "    </tr>\n",
       "    <tr>\n",
       "      <th>user_id</th>\n",
       "      <th></th>\n",
       "    </tr>\n",
       "  </thead>\n",
       "  <tbody>\n",
       "    <tr>\n",
       "      <th>3</th>\n",
       "      <td>23650 39190 24810 21903  18599 47766</td>\n",
       "    </tr>\n",
       "    <tr>\n",
       "      <th>4</th>\n",
       "      <td>None</td>\n",
       "    </tr>\n",
       "    <tr>\n",
       "      <th>6</th>\n",
       "      <td>None</td>\n",
       "    </tr>\n",
       "    <tr>\n",
       "      <th>11</th>\n",
       "      <td>8309  33572 27959</td>\n",
       "    </tr>\n",
       "    <tr>\n",
       "      <th>12</th>\n",
       "      <td>13176 10863  14992 28134 7076</td>\n",
       "    </tr>\n",
       "    <tr>\n",
       "      <th>...</th>\n",
       "      <td>...</td>\n",
       "    </tr>\n",
       "    <tr>\n",
       "      <th>206202</th>\n",
       "      <td>17038 21709 17459 41177</td>\n",
       "    </tr>\n",
       "    <tr>\n",
       "      <th>206204</th>\n",
       "      <td>10199 15649 43961 49075  5646</td>\n",
       "    </tr>\n",
       "    <tr>\n",
       "      <th>206206</th>\n",
       "      <td>42623  11520 23029</td>\n",
       "    </tr>\n",
       "    <tr>\n",
       "      <th>206207</th>\n",
       "      <td>20899 20995 33787 13176 27845 33754 44632  360...</td>\n",
       "    </tr>\n",
       "    <tr>\n",
       "      <th>206208</th>\n",
       "      <td>34213 35688 23579 33000 10385 6297 13176 44910...</td>\n",
       "    </tr>\n",
       "  </tbody>\n",
       "</table>\n",
       "<p>75000 rows × 1 columns</p>\n",
       "</div>"
      ],
      "text/plain": [
       "                                                product_id\n",
       "user_id                                                   \n",
       "3                     23650 39190 24810 21903  18599 47766\n",
       "4                                                     None\n",
       "6                                                     None\n",
       "11                                       8309  33572 27959\n",
       "12                           13176 10863  14992 28134 7076\n",
       "...                                                    ...\n",
       "206202                            17038 21709 17459 41177 \n",
       "206204                       10199 15649 43961 49075  5646\n",
       "206206                                  42623  11520 23029\n",
       "206207   20899 20995 33787 13176 27845 33754 44632  360...\n",
       "206208   34213 35688 23579 33000 10385 6297 13176 44910...\n",
       "\n",
       "[75000 rows x 1 columns]"
      ]
     },
     "execution_count": 115,
     "metadata": {},
     "output_type": "execute_result"
    }
   ],
   "source": [
    "new_result"
   ]
  },
  {
   "cell_type": "markdown",
   "metadata": {},
   "source": [
    "## Light gbm"
   ]
  },
  {
   "cell_type": "markdown",
   "metadata": {},
   "source": [
    "### binary"
   ]
  },
  {
   "cell_type": "code",
   "execution_count": 23,
   "metadata": {},
   "outputs": [],
   "source": [
    "import lightgbm )"
   ]
  },
  {
   "cell_type": "code",
   "execution_count": 24,
   "metadata": {},
   "outputs": [],
   "source": [
    "model = lightgbm.LGBMClassifier(boosting_type='gbdt', objective='binary', num_leaves=50,\n",
    "                                learning_rate=0.1, n_estimators=10, max_depth=5,\n",
    "                                bagging_fraction=0.9, feature_fraction=0.9, reg_lambda=0.2)\n",
    "\n",
    "model.fit(XGBtrain.drop('reordered',axis=1),XGBtrain['reordered'])\n",
    "preds = model.predict(XGBtest)\n",
    "preds_df=pd.DataFrame(preds)\n",
    "preds_df.rename(columns={0:'pred_reordered'}, inplace=True)\n",
    "test_actual = pd.merge(ord_test, orders, how='left', on='order_id')\n",
    "test_actual_all = test_actual.groupby(by=['user_id','product_id'], as_index=False).agg({'reordered':'max'})\n",
    "test_name = test_id.reset_index()\n",
    "test_name.drop('index', axis=1, inplace=True)\n",
    "pred_user_prod = pd.concat([test_name, preds_df], axis=1)\n",
    "test_user_to_valid = pd.merge(pred_user_prod, test_actual_all[test_actual_all['reordered'] == 1], how='left', on=['user_id', 'product_id'])\n",
    "test_user_to_valid.fillna(0, inplace=True)"
   ]
  },
  {
   "cell_type": "code",
   "execution_count": 25,
   "metadata": {},
   "outputs": [
    {
     "data": {
      "text/plain": [
       "0.7359049027227322"
      ]
     },
     "execution_count": 25,
     "metadata": {},
     "output_type": "execute_result"
    }
   ],
   "source": [
    "from sklearn.metrics import accuracy_score\n",
    "accuracy_score(test_user_to_valid['reordered'], test_user_to_valid['pred_reordered'])"
   ]
  },
  {
   "cell_type": "code",
   "execution_count": 26,
   "metadata": {},
   "outputs": [
    {
     "data": {
      "text/plain": [
       "0.601664768480492"
      ]
     },
     "execution_count": 26,
     "metadata": {},
     "output_type": "execute_result"
    }
   ],
   "source": [
    "from sklearn.metrics import f1_score\n",
    "f1_score(test_user_to_valid['reordered'],\n",
    "         test_user_to_valid['pred_reordered'],\n",
    "         average='macro')"
   ]
  },
  {
   "cell_type": "code",
   "execution_count": 27,
   "metadata": {},
   "outputs": [
    {
     "data": {
      "text/plain": [
       "array([[2961666, 1080569],\n",
       "       [ 107743,  349583]], dtype=int64)"
      ]
     },
     "execution_count": 27,
     "metadata": {},
     "output_type": "execute_result"
    }
   ],
   "source": [
    "from sklearn.metrics import confusion_matrix as cm\n",
    "cm(test_user_to_valid['reordered'], test_user_to_valid['pred_reordered'])"
   ]
  },
  {
   "cell_type": "code",
   "execution_count": 28,
   "metadata": {},
   "outputs": [
    {
     "name": "stdout",
     "output_type": "stream",
     "text": [
      "0.2444376541794159\n",
      "0.7644065721170457\n",
      "0.7326803117582229\n",
      "0.9648978028017772\n"
     ]
    }
   ],
   "source": [
    "tn, fp, fn, tp = cm(test_user_to_valid['reordered'], test_user_to_valid['pred_reordered']).ravel()\n",
    "print(tp/(fp+tp)) #預測會回購的數量中，實際上會回購的比例\n",
    "print(tp/(fn+tp)) #實際上會回購的數量中，預測會回購的比例\n",
    "print(tn/(tn+fp)) #實際上不會回購的數量中，預測不會回購的比例\n",
    "print(tn/(tn+fn)) #預測不會回購的數量中，實際上不會回購的比例"
   ]
  },
  {
   "cell_type": "code",
   "execution_count": 29,
   "metadata": {},
   "outputs": [],
   "source": [
    "import numpy as np\n",
    "from sklearn import metrics\n",
    "y = test_user_to_valid['reordered']\n",
    "pred =  test_user_to_valid['pred_reordered']\n",
    "fpr, tpr, thresholds = metrics.roc_curve(y_true=y, y_score=pred, pos_label=1)\n",
    "roc_auc =metrics.auc(fpr, tpr)"
   ]
  },
  {
   "cell_type": "code",
   "execution_count": 30,
   "metadata": {},
   "outputs": [
    {
     "data": {
      "image/png": "[encoded data removed]",
      "text/plain": [
       "<Figure size 432x288 with 1 Axes>"
      ]
     },
     "metadata": {
      "needs_background": "light"
     },
     "output_type": "display_data"
    }
   ],
   "source": [
    "import matplotlib.pyplot as plt\n",
    "plt.title('Receiver Operating Characteristic')\n",
    "plt.plot(fpr, tpr, 'b', label = 'AUC = %0.2f' % roc_auc)\n",
    "plt.legend(loc = 'lower right')\n",
    "plt.plot([0, 1], [0, 1],'r--')\n",
    "plt.xlim([0, 1])\n",
    "plt.ylim([0, 1])\n",
    "plt.ylabel('True Positive Rate')\n",
    "plt.xlabel('False Positive Rate')\n",
    "#plt.show()\n",
    "plt.savefig('AUC_lightgbm_class.png',dpi=300,bbox_inches='tight')"
   ]
  },
  {
   "cell_type": "markdown",
   "metadata": {},
   "source": [
    "### regressor"
   ]
  },
  {
   "cell_type": "code",
   "execution_count": 96,
   "metadata": {},
   "outputs": [],
   "source": [
    "model = lightgbm.LGBMRegressor(boosting_type='gbdt', objective='regression', num_leaves=50,\n",
    "                                learning_rate=0.1, n_estimators=10, max_depth=5,\n",
    "                                bagging_fraction=0.9, feature_fraction=0.9, reg_lambda=0.2)\n",
    "\n",
    "model.fit(XGBtrain.drop('reordered',axis=1),XGBtrain['reordered'])\n",
    "preds = model.predict(XGBtest)"
   ]
  },
  {
   "cell_type": "code",
   "execution_count": 97,
   "metadata": {},
   "outputs": [],
   "source": [
    "X=np.arange(0.45,0.85,0.01)\n",
    "F1=[]#填入19個F1值\n",
    "Accuracy=[]#填入19個Accuracy值"
   ]
  },
  {
   "cell_type": "code",
   "execution_count": 98,
   "metadata": {},
   "outputs": [],
   "source": [
    "for threshold in X:\n",
    "    preds_df=pd.DataFrame(preds)\n",
    "    preds_df.rename(columns={0:'pred_reordered'}, inplace=True)\n",
    "    preds_df.loc[preds_df['pred_reordered'] >=threshold, 'pred_reordered'] = 1\n",
    "    preds_df.loc[preds_df['pred_reordered'] < threshold, 'pred_reordered'] = 0\n",
    "    pred_user_prod = pd.concat([test_name, preds_df], axis=1)\n",
    "    test_user_to_valid = pd.merge(pred_user_prod, test_actual_all[test_actual_all['reordered'] == 1], how='left', on=['user_id', 'product_id'])\n",
    "    test_user_to_valid.fillna(0, inplace=True)\n",
    "    Accuracy.append(accuracy_score(test_user_to_valid['reordered'], test_user_to_valid['pred_reordered']))\n",
    "    F1.append(f1_score(test_user_to_valid['reordered'], test_user_to_valid['pred_reordered'], average='macro'))"
   ]
  },
  {
   "cell_type": "code",
   "execution_count": 99,
   "metadata": {},
   "outputs": [
    {
     "data": {
      "text/plain": [
       "<Figure size 432x288 with 0 Axes>"
      ]
     },
     "metadata": {},
     "output_type": "display_data"
    },
    {
     "data": {
      "image/png": "[encoded data removed]",
      "text/plain": [
       "<Figure size 432x288 with 2 Axes>"
      ]
     },
     "metadata": {
      "needs_background": "light"
     },
     "output_type": "display_data"
    }
   ],
   "source": [
    "plt.clf()\n",
    "fig = plt.figure()\n",
    "ax = fig.add_subplot(111)\n",
    "lns1 = ax.plot(X, F1, '-', label = 'F1')\n",
    "\n",
    "ax2 = ax.twinx()\n",
    "lns2 = ax2.plot(X, Accuracy, '-r', label = 'Accuracy')\n",
    "\n",
    "lns = lns1+lns2\n",
    "labs = [l.get_label() for l in lns]\n",
    "ax.legend(lns, labs, loc=0)\n",
    "ax.set_xlabel('Threshold')\n",
    "ax.set_ylabel('F1')\n",
    "ax2.set_ylabel('Accuracy')\n",
    "plt.suptitle('F1 vs Accuracy', size=12)\n",
    "plt.show()"
   ]
  },
  {
   "cell_type": "code",
   "execution_count": 100,
   "metadata": {},
   "outputs": [],
   "source": [
    "ax.figure.savefig('f1 VS accuracy with choosing_Lightgbm.png',dpi=300, bbox_inches='tight')"
   ]
  },
  {
   "cell_type": "code",
   "execution_count": 101,
   "metadata": {
    "scrolled": true
   },
   "outputs": [
    {
     "data": {
      "text/html": [
       "<div>\n",
       "<style scoped>\n",
       "    .dataframe tbody tr th:only-of-type {\n",
       "        vertical-align: middle;\n",
       "    }\n",
       "\n",
       "    .dataframe tbody tr th {\n",
       "        vertical-align: top;\n",
       "    }\n",
       "\n",
       "    .dataframe thead th {\n",
       "        text-align: right;\n",
       "    }\n",
       "</style>\n",
       "<table border=\"1\" class=\"dataframe\">\n",
       "  <thead>\n",
       "    <tr style=\"text-align: right;\">\n",
       "      <th></th>\n",
       "      <th>X</th>\n",
       "      <th>f1</th>\n",
       "    </tr>\n",
       "  </thead>\n",
       "  <tbody>\n",
       "    <tr>\n",
       "      <th>20</th>\n",
       "      <td>0.65</td>\n",
       "      <td>0.680875</td>\n",
       "    </tr>\n",
       "    <tr>\n",
       "      <th>21</th>\n",
       "      <td>0.66</td>\n",
       "      <td>0.680573</td>\n",
       "    </tr>\n",
       "    <tr>\n",
       "      <th>19</th>\n",
       "      <td>0.64</td>\n",
       "      <td>0.680247</td>\n",
       "    </tr>\n",
       "    <tr>\n",
       "      <th>22</th>\n",
       "      <td>0.67</td>\n",
       "      <td>0.679414</td>\n",
       "    </tr>\n",
       "    <tr>\n",
       "      <th>18</th>\n",
       "      <td>0.63</td>\n",
       "      <td>0.678647</td>\n",
       "    </tr>\n",
       "    <tr>\n",
       "      <th>17</th>\n",
       "      <td>0.62</td>\n",
       "      <td>0.676302</td>\n",
       "    </tr>\n",
       "    <tr>\n",
       "      <th>23</th>\n",
       "      <td>0.68</td>\n",
       "      <td>0.676236</td>\n",
       "    </tr>\n",
       "    <tr>\n",
       "      <th>16</th>\n",
       "      <td>0.61</td>\n",
       "      <td>0.673741</td>\n",
       "    </tr>\n",
       "    <tr>\n",
       "      <th>24</th>\n",
       "      <td>0.69</td>\n",
       "      <td>0.672357</td>\n",
       "    </tr>\n",
       "    <tr>\n",
       "      <th>15</th>\n",
       "      <td>0.60</td>\n",
       "      <td>0.670515</td>\n",
       "    </tr>\n",
       "    <tr>\n",
       "      <th>25</th>\n",
       "      <td>0.70</td>\n",
       "      <td>0.666432</td>\n",
       "    </tr>\n",
       "    <tr>\n",
       "      <th>14</th>\n",
       "      <td>0.59</td>\n",
       "      <td>0.665118</td>\n",
       "    </tr>\n",
       "    <tr>\n",
       "      <th>13</th>\n",
       "      <td>0.58</td>\n",
       "      <td>0.660326</td>\n",
       "    </tr>\n",
       "    <tr>\n",
       "      <th>26</th>\n",
       "      <td>0.71</td>\n",
       "      <td>0.659714</td>\n",
       "    </tr>\n",
       "    <tr>\n",
       "      <th>12</th>\n",
       "      <td>0.57</td>\n",
       "      <td>0.654997</td>\n",
       "    </tr>\n",
       "    <tr>\n",
       "      <th>27</th>\n",
       "      <td>0.72</td>\n",
       "      <td>0.649585</td>\n",
       "    </tr>\n",
       "    <tr>\n",
       "      <th>11</th>\n",
       "      <td>0.56</td>\n",
       "      <td>0.648103</td>\n",
       "    </tr>\n",
       "    <tr>\n",
       "      <th>10</th>\n",
       "      <td>0.55</td>\n",
       "      <td>0.642161</td>\n",
       "    </tr>\n",
       "    <tr>\n",
       "      <th>9</th>\n",
       "      <td>0.54</td>\n",
       "      <td>0.634881</td>\n",
       "    </tr>\n",
       "    <tr>\n",
       "      <th>28</th>\n",
       "      <td>0.73</td>\n",
       "      <td>0.634499</td>\n",
       "    </tr>\n",
       "    <tr>\n",
       "      <th>8</th>\n",
       "      <td>0.53</td>\n",
       "      <td>0.628386</td>\n",
       "    </tr>\n",
       "    <tr>\n",
       "      <th>7</th>\n",
       "      <td>0.52</td>\n",
       "      <td>0.621433</td>\n",
       "    </tr>\n",
       "    <tr>\n",
       "      <th>29</th>\n",
       "      <td>0.74</td>\n",
       "      <td>0.617074</td>\n",
       "    </tr>\n",
       "    <tr>\n",
       "      <th>6</th>\n",
       "      <td>0.51</td>\n",
       "      <td>0.614232</td>\n",
       "    </tr>\n",
       "    <tr>\n",
       "      <th>5</th>\n",
       "      <td>0.50</td>\n",
       "      <td>0.606972</td>\n",
       "    </tr>\n",
       "    <tr>\n",
       "      <th>4</th>\n",
       "      <td>0.49</td>\n",
       "      <td>0.598887</td>\n",
       "    </tr>\n",
       "    <tr>\n",
       "      <th>30</th>\n",
       "      <td>0.75</td>\n",
       "      <td>0.598792</td>\n",
       "    </tr>\n",
       "    <tr>\n",
       "      <th>3</th>\n",
       "      <td>0.48</td>\n",
       "      <td>0.589811</td>\n",
       "    </tr>\n",
       "    <tr>\n",
       "      <th>2</th>\n",
       "      <td>0.47</td>\n",
       "      <td>0.581178</td>\n",
       "    </tr>\n",
       "    <tr>\n",
       "      <th>31</th>\n",
       "      <td>0.76</td>\n",
       "      <td>0.580988</td>\n",
       "    </tr>\n",
       "    <tr>\n",
       "      <th>1</th>\n",
       "      <td>0.46</td>\n",
       "      <td>0.572090</td>\n",
       "    </tr>\n",
       "    <tr>\n",
       "      <th>0</th>\n",
       "      <td>0.45</td>\n",
       "      <td>0.561583</td>\n",
       "    </tr>\n",
       "    <tr>\n",
       "      <th>32</th>\n",
       "      <td>0.77</td>\n",
       "      <td>0.554034</td>\n",
       "    </tr>\n",
       "    <tr>\n",
       "      <th>33</th>\n",
       "      <td>0.78</td>\n",
       "      <td>0.530997</td>\n",
       "    </tr>\n",
       "    <tr>\n",
       "      <th>34</th>\n",
       "      <td>0.79</td>\n",
       "      <td>0.490911</td>\n",
       "    </tr>\n",
       "    <tr>\n",
       "      <th>35</th>\n",
       "      <td>0.80</td>\n",
       "      <td>0.473230</td>\n",
       "    </tr>\n",
       "    <tr>\n",
       "      <th>36</th>\n",
       "      <td>0.81</td>\n",
       "      <td>0.473230</td>\n",
       "    </tr>\n",
       "    <tr>\n",
       "      <th>37</th>\n",
       "      <td>0.82</td>\n",
       "      <td>0.473230</td>\n",
       "    </tr>\n",
       "    <tr>\n",
       "      <th>38</th>\n",
       "      <td>0.83</td>\n",
       "      <td>0.473230</td>\n",
       "    </tr>\n",
       "    <tr>\n",
       "      <th>39</th>\n",
       "      <td>0.84</td>\n",
       "      <td>0.473230</td>\n",
       "    </tr>\n",
       "  </tbody>\n",
       "</table>\n",
       "</div>"
      ],
      "text/plain": [
       "       X        f1\n",
       "20  0.65  0.680875\n",
       "21  0.66  0.680573\n",
       "19  0.64  0.680247\n",
       "22  0.67  0.679414\n",
       "18  0.63  0.678647\n",
       "17  0.62  0.676302\n",
       "23  0.68  0.676236\n",
       "16  0.61  0.673741\n",
       "24  0.69  0.672357\n",
       "15  0.60  0.670515\n",
       "25  0.70  0.666432\n",
       "14  0.59  0.665118\n",
       "13  0.58  0.660326\n",
       "26  0.71  0.659714\n",
       "12  0.57  0.654997\n",
       "27  0.72  0.649585\n",
       "11  0.56  0.648103\n",
       "10  0.55  0.642161\n",
       "9   0.54  0.634881\n",
       "28  0.73  0.634499\n",
       "8   0.53  0.628386\n",
       "7   0.52  0.621433\n",
       "29  0.74  0.617074\n",
       "6   0.51  0.614232\n",
       "5   0.50  0.606972\n",
       "4   0.49  0.598887\n",
       "30  0.75  0.598792\n",
       "3   0.48  0.589811\n",
       "2   0.47  0.581178\n",
       "31  0.76  0.580988\n",
       "1   0.46  0.572090\n",
       "0   0.45  0.561583\n",
       "32  0.77  0.554034\n",
       "33  0.78  0.530997\n",
       "34  0.79  0.490911\n",
       "35  0.80  0.473230\n",
       "36  0.81  0.473230\n",
       "37  0.82  0.473230\n",
       "38  0.83  0.473230\n",
       "39  0.84  0.473230"
      ]
     },
     "execution_count": 101,
     "metadata": {},
     "output_type": "execute_result"
    }
   ],
   "source": [
    "pd.DataFrame({\n",
    "    'X':X,\n",
    "    'f1':F1}).sort_values('f1',ascending=False)"
   ]
  },
  {
   "cell_type": "code",
   "execution_count": 102,
   "metadata": {
    "scrolled": true
   },
   "outputs": [
    {
     "data": {
      "text/html": [
       "<div>\n",
       "<style scoped>\n",
       "    .dataframe tbody tr th:only-of-type {\n",
       "        vertical-align: middle;\n",
       "    }\n",
       "\n",
       "    .dataframe tbody tr th {\n",
       "        vertical-align: top;\n",
       "    }\n",
       "\n",
       "    .dataframe thead th {\n",
       "        text-align: right;\n",
       "    }\n",
       "</style>\n",
       "<table border=\"1\" class=\"dataframe\">\n",
       "  <thead>\n",
       "    <tr style=\"text-align: right;\">\n",
       "      <th></th>\n",
       "      <th>X</th>\n",
       "      <th>ACC</th>\n",
       "    </tr>\n",
       "  </thead>\n",
       "  <tbody>\n",
       "    <tr>\n",
       "      <th>30</th>\n",
       "      <td>0.75</td>\n",
       "      <td>0.904390</td>\n",
       "    </tr>\n",
       "    <tr>\n",
       "      <th>29</th>\n",
       "      <td>0.74</td>\n",
       "      <td>0.904276</td>\n",
       "    </tr>\n",
       "    <tr>\n",
       "      <th>31</th>\n",
       "      <td>0.76</td>\n",
       "      <td>0.904191</td>\n",
       "    </tr>\n",
       "    <tr>\n",
       "      <th>32</th>\n",
       "      <td>0.77</td>\n",
       "      <td>0.903411</td>\n",
       "    </tr>\n",
       "    <tr>\n",
       "      <th>28</th>\n",
       "      <td>0.73</td>\n",
       "      <td>0.903386</td>\n",
       "    </tr>\n",
       "    <tr>\n",
       "      <th>33</th>\n",
       "      <td>0.78</td>\n",
       "      <td>0.902304</td>\n",
       "    </tr>\n",
       "    <tr>\n",
       "      <th>27</th>\n",
       "      <td>0.72</td>\n",
       "      <td>0.901624</td>\n",
       "    </tr>\n",
       "    <tr>\n",
       "      <th>34</th>\n",
       "      <td>0.79</td>\n",
       "      <td>0.899725</td>\n",
       "    </tr>\n",
       "    <tr>\n",
       "      <th>26</th>\n",
       "      <td>0.71</td>\n",
       "      <td>0.899444</td>\n",
       "    </tr>\n",
       "    <tr>\n",
       "      <th>39</th>\n",
       "      <td>0.84</td>\n",
       "      <td>0.898362</td>\n",
       "    </tr>\n",
       "    <tr>\n",
       "      <th>35</th>\n",
       "      <td>0.80</td>\n",
       "      <td>0.898362</td>\n",
       "    </tr>\n",
       "    <tr>\n",
       "      <th>36</th>\n",
       "      <td>0.81</td>\n",
       "      <td>0.898362</td>\n",
       "    </tr>\n",
       "    <tr>\n",
       "      <th>37</th>\n",
       "      <td>0.82</td>\n",
       "      <td>0.898362</td>\n",
       "    </tr>\n",
       "    <tr>\n",
       "      <th>38</th>\n",
       "      <td>0.83</td>\n",
       "      <td>0.898362</td>\n",
       "    </tr>\n",
       "    <tr>\n",
       "      <th>25</th>\n",
       "      <td>0.70</td>\n",
       "      <td>0.897084</td>\n",
       "    </tr>\n",
       "    <tr>\n",
       "      <th>24</th>\n",
       "      <td>0.69</td>\n",
       "      <td>0.894003</td>\n",
       "    </tr>\n",
       "    <tr>\n",
       "      <th>23</th>\n",
       "      <td>0.68</td>\n",
       "      <td>0.891065</td>\n",
       "    </tr>\n",
       "    <tr>\n",
       "      <th>22</th>\n",
       "      <td>0.67</td>\n",
       "      <td>0.886640</td>\n",
       "    </tr>\n",
       "    <tr>\n",
       "      <th>21</th>\n",
       "      <td>0.66</td>\n",
       "      <td>0.882626</td>\n",
       "    </tr>\n",
       "    <tr>\n",
       "      <th>20</th>\n",
       "      <td>0.65</td>\n",
       "      <td>0.877767</td>\n",
       "    </tr>\n",
       "    <tr>\n",
       "      <th>19</th>\n",
       "      <td>0.64</td>\n",
       "      <td>0.872247</td>\n",
       "    </tr>\n",
       "    <tr>\n",
       "      <th>18</th>\n",
       "      <td>0.63</td>\n",
       "      <td>0.866897</td>\n",
       "    </tr>\n",
       "    <tr>\n",
       "      <th>17</th>\n",
       "      <td>0.62</td>\n",
       "      <td>0.860823</td>\n",
       "    </tr>\n",
       "    <tr>\n",
       "      <th>16</th>\n",
       "      <td>0.61</td>\n",
       "      <td>0.854917</td>\n",
       "    </tr>\n",
       "    <tr>\n",
       "      <th>15</th>\n",
       "      <td>0.60</td>\n",
       "      <td>0.847674</td>\n",
       "    </tr>\n",
       "    <tr>\n",
       "      <th>14</th>\n",
       "      <td>0.59</td>\n",
       "      <td>0.837592</td>\n",
       "    </tr>\n",
       "    <tr>\n",
       "      <th>13</th>\n",
       "      <td>0.58</td>\n",
       "      <td>0.829073</td>\n",
       "    </tr>\n",
       "    <tr>\n",
       "      <th>12</th>\n",
       "      <td>0.57</td>\n",
       "      <td>0.819890</td>\n",
       "    </tr>\n",
       "    <tr>\n",
       "      <th>11</th>\n",
       "      <td>0.56</td>\n",
       "      <td>0.808592</td>\n",
       "    </tr>\n",
       "    <tr>\n",
       "      <th>10</th>\n",
       "      <td>0.55</td>\n",
       "      <td>0.799234</td>\n",
       "    </tr>\n",
       "    <tr>\n",
       "      <th>9</th>\n",
       "      <td>0.54</td>\n",
       "      <td>0.787734</td>\n",
       "    </tr>\n",
       "    <tr>\n",
       "      <th>8</th>\n",
       "      <td>0.53</td>\n",
       "      <td>0.777539</td>\n",
       "    </tr>\n",
       "    <tr>\n",
       "      <th>7</th>\n",
       "      <td>0.52</td>\n",
       "      <td>0.766668</td>\n",
       "    </tr>\n",
       "    <tr>\n",
       "      <th>6</th>\n",
       "      <td>0.51</td>\n",
       "      <td>0.755361</td>\n",
       "    </tr>\n",
       "    <tr>\n",
       "      <th>5</th>\n",
       "      <td>0.50</td>\n",
       "      <td>0.743986</td>\n",
       "    </tr>\n",
       "    <tr>\n",
       "      <th>4</th>\n",
       "      <td>0.49</td>\n",
       "      <td>0.731320</td>\n",
       "    </tr>\n",
       "    <tr>\n",
       "      <th>3</th>\n",
       "      <td>0.48</td>\n",
       "      <td>0.717260</td>\n",
       "    </tr>\n",
       "    <tr>\n",
       "      <th>2</th>\n",
       "      <td>0.47</td>\n",
       "      <td>0.703858</td>\n",
       "    </tr>\n",
       "    <tr>\n",
       "      <th>1</th>\n",
       "      <td>0.46</td>\n",
       "      <td>0.689759</td>\n",
       "    </tr>\n",
       "    <tr>\n",
       "      <th>0</th>\n",
       "      <td>0.45</td>\n",
       "      <td>0.673422</td>\n",
       "    </tr>\n",
       "  </tbody>\n",
       "</table>\n",
       "</div>"
      ],
      "text/plain": [
       "       X       ACC\n",
       "30  0.75  0.904390\n",
       "29  0.74  0.904276\n",
       "31  0.76  0.904191\n",
       "32  0.77  0.903411\n",
       "28  0.73  0.903386\n",
       "33  0.78  0.902304\n",
       "27  0.72  0.901624\n",
       "34  0.79  0.899725\n",
       "26  0.71  0.899444\n",
       "39  0.84  0.898362\n",
       "35  0.80  0.898362\n",
       "36  0.81  0.898362\n",
       "37  0.82  0.898362\n",
       "38  0.83  0.898362\n",
       "25  0.70  0.897084\n",
       "24  0.69  0.894003\n",
       "23  0.68  0.891065\n",
       "22  0.67  0.886640\n",
       "21  0.66  0.882626\n",
       "20  0.65  0.877767\n",
       "19  0.64  0.872247\n",
       "18  0.63  0.866897\n",
       "17  0.62  0.860823\n",
       "16  0.61  0.854917\n",
       "15  0.60  0.847674\n",
       "14  0.59  0.837592\n",
       "13  0.58  0.829073\n",
       "12  0.57  0.819890\n",
       "11  0.56  0.808592\n",
       "10  0.55  0.799234\n",
       "9   0.54  0.787734\n",
       "8   0.53  0.777539\n",
       "7   0.52  0.766668\n",
       "6   0.51  0.755361\n",
       "5   0.50  0.743986\n",
       "4   0.49  0.731320\n",
       "3   0.48  0.717260\n",
       "2   0.47  0.703858\n",
       "1   0.46  0.689759\n",
       "0   0.45  0.673422"
      ]
     },
     "execution_count": 102,
     "metadata": {},
     "output_type": "execute_result"
    }
   ],
   "source": [
    "pd.DataFrame({\n",
    "    'X':X,\n",
    "    'ACC':Accuracy}).sort_values('ACC',ascending=False)"
   ]
  },
  {
   "cell_type": "code",
   "execution_count": 103,
   "metadata": {},
   "outputs": [],
   "source": [
    "threshold = 0.65\n",
    "preds_df=pd.DataFrame(preds)\n",
    "preds_df.rename(columns={0:'pred_reordered'}, inplace=True)\n",
    "preds_df.loc[preds_df['pred_reordered'] >=threshold, 'pred_reordered'] = 1\n",
    "preds_df.loc[preds_df['pred_reordered'] < threshold, 'pred_reordered'] = 0\n",
    "pred_user_prod = pd.concat([test_name, preds_df], axis=1)\n",
    "test_user_to_valid = pd.merge(pred_user_prod, test_actual_all[test_actual_all['reordered'] == 1], how='left', on=['user_id', 'product_id'])\n",
    "test_user_to_valid.fillna(0, inplace=True)"
   ]
  },
  {
   "cell_type": "code",
   "execution_count": 104,
   "metadata": {},
   "outputs": [
    {
     "data": {
      "text/plain": [
       "0.8777667421332881"
      ]
     },
     "execution_count": 104,
     "metadata": {},
     "output_type": "execute_result"
    }
   ],
   "source": [
    "from sklearn.metrics import accuracy_score\n",
    "accuracy_score(test_user_to_valid['reordered'], test_user_to_valid['pred_reordered'])"
   ]
  },
  {
   "cell_type": "code",
   "execution_count": 105,
   "metadata": {},
   "outputs": [
    {
     "data": {
      "text/plain": [
       "array([[3741932,  300303],\n",
       "       [ 249693,  207633]], dtype=int64)"
      ]
     },
     "execution_count": 105,
     "metadata": {},
     "output_type": "execute_result"
    }
   ],
   "source": [
    "from sklearn.metrics import confusion_matrix as cm\n",
    "cm(test_user_to_valid['reordered'], test_user_to_valid['pred_reordered'])"
   ]
  },
  {
   "cell_type": "code",
   "execution_count": 106,
   "metadata": {},
   "outputs": [
    {
     "name": "stdout",
     "output_type": "stream",
     "text": [
      "0.40877787752787753\n",
      "0.4540152976213904\n",
      "0.9257086735432255\n",
      "0.9374457770957944\n"
     ]
    }
   ],
   "source": [
    "tn, fp, fn, tp = cm(test_user_to_valid['reordered'], test_user_to_valid['pred_reordered']).ravel()\n",
    "print(tp/(fp+tp)) #預測會回購的數量中，實際上會回購的比例\n",
    "print(tp/(fn+tp)) #實際上會回購的數量中，預測會回購的比例\n",
    "print(tn/(tn+fp)) #實際上不會回購的數量中，預測不會回購的比例\n",
    "print(tn/(tn+fn)) #預測不會回購的數量中，實際上不會回購的比例"
   ]
  },
  {
   "cell_type": "code",
   "execution_count": 107,
   "metadata": {},
   "outputs": [],
   "source": [
    "import numpy as np\n",
    "from sklearn import metrics\n",
    "y = test_user_to_valid['reordered']\n",
    "pred =  test_user_to_valid['pred_reordered']\n",
    "fpr, tpr, thresholds = metrics.roc_curve(y_true=y, y_score=pred, pos_label=1)\n",
    "roc_auc = metrics.auc(fpr, tpr)"
   ]
  },
  {
   "cell_type": "code",
   "execution_count": 108,
   "metadata": {},
   "outputs": [
    {
     "data": {
      "image/png": "[encoded data removed]",
      "text/plain": [
       "<Figure size 432x288 with 1 Axes>"
      ]
     },
     "metadata": {
      "needs_background": "light"
     },
     "output_type": "display_data"
    }
   ],
   "source": [
    "import matplotlib.pyplot as plt\n",
    "plt.title('Receiver Operating Characteristic')\n",
    "plt.plot(fpr, tpr, 'b', label = 'AUC = %0.2f' % roc_auc)\n",
    "plt.legend(loc = 'lower right')\n",
    "plt.plot([0, 1], [0, 1],'r--')\n",
    "plt.xlim([0, 1])\n",
    "plt.ylim([0, 1])\n",
    "plt.ylabel('True Positive Rate')\n",
    "plt.xlabel('False Positive Rate')\n",
    "#plt.show()\n",
    "plt.savefig('AUC_lightgbm.png',dpi=300,bbox_inches='tight')"
   ]
  },
  {
   "cell_type": "markdown",
   "metadata": {},
   "source": [
    "## RandomForest"
   ]
  },
  {
   "cell_type": "markdown",
   "metadata": {},
   "source": [
    "### binary"
   ]
  },
  {
   "cell_type": "code",
   "execution_count": 31,
   "metadata": {},
   "outputs": [
    {
     "name": "stderr",
     "output_type": "stream",
     "text": [
      "[Parallel(n_jobs=-1)]: Using backend ThreadingBackend with 24 concurrent workers.\n",
      "[Parallel(n_jobs=-1)]: Done   2 tasks      | elapsed:   19.6s\n",
      "[Parallel(n_jobs=-1)]: Done 100 out of 100 | elapsed:  1.3min finished\n",
      "[Parallel(n_jobs=24)]: Using backend ThreadingBackend with 24 concurrent workers.\n",
      "[Parallel(n_jobs=24)]: Done   2 tasks      | elapsed:    0.5s\n",
      "[Parallel(n_jobs=24)]: Done 100 out of 100 | elapsed:    3.2s finished\n"
     ]
    }
   ],
   "source": [
    "from sklearn.ensemble import RandomForestClassifier\n",
    "rf = RandomForestClassifier(n_estimators=100,n_jobs = -1, max_depth=2, random_state=0, verbose=True, min_samples_leaf = 10)\n",
    "rf.fit(XGBtrain.drop('reordered',axis=1),XGBtrain['reordered'])\n",
    "preds = rf.predict(XGBtest)\n",
    "preds_df=pd.DataFrame(preds)\n",
    "preds_df.rename(columns={0:'pred_reordered'}, inplace=True)\n",
    "test_actual = pd.merge(ord_test, orders, how='left', on='order_id')\n",
    "test_actual_all = test_actual.groupby(by=['user_id','product_id'], as_index=False).agg({'reordered':'max'})\n",
    "test_name = test_id.reset_index()\n",
    "test_name.drop('index', axis=1, inplace=True)\n",
    "pred_user_prod = pd.concat([test_name, preds_df], axis=1)\n",
    "test_user_to_valid = pd.merge(pred_user_prod, test_actual_all[test_actual_all['reordered'] == 1], how='left', on=['user_id', 'product_id'])\n",
    "test_user_to_valid.fillna(0, inplace=True)"
   ]
  },
  {
   "cell_type": "code",
   "execution_count": 32,
   "metadata": {},
   "outputs": [
    {
     "data": {
      "text/plain": [
       "0.7264235333180281"
      ]
     },
     "execution_count": 32,
     "metadata": {},
     "output_type": "execute_result"
    }
   ],
   "source": [
    "from sklearn.metrics import accuracy_score\n",
    "accuracy_score(test_user_to_valid['reordered'], test_user_to_valid['pred_reordered'])"
   ]
  },
  {
   "cell_type": "code",
   "execution_count": 33,
   "metadata": {},
   "outputs": [
    {
     "data": {
      "text/plain": [
       "0.5907111753037373"
      ]
     },
     "execution_count": 33,
     "metadata": {},
     "output_type": "execute_result"
    }
   ],
   "source": [
    "from sklearn.metrics import f1_score\n",
    "f1_score(test_user_to_valid['reordered'],\n",
    "         test_user_to_valid['pred_reordered'],\n",
    "         average='macro')"
   ]
  },
  {
   "cell_type": "code",
   "execution_count": 34,
   "metadata": {},
   "outputs": [
    {
     "data": {
      "text/plain": [
       "array([[2929786, 1112449],\n",
       "       [ 118525,  338801]], dtype=int64)"
      ]
     },
     "execution_count": 34,
     "metadata": {},
     "output_type": "execute_result"
    }
   ],
   "source": [
    "from sklearn.metrics import confusion_matrix as cm\n",
    "cm(test_user_to_valid['reordered'], test_user_to_valid['pred_reordered'])"
   ]
  },
  {
   "cell_type": "code",
   "execution_count": 35,
   "metadata": {},
   "outputs": [
    {
     "name": "stdout",
     "output_type": "stream",
     "text": [
      "0.23345460809646856\n",
      "0.7408303923240752\n",
      "0.7247935857267082\n",
      "0.9611178124541755\n"
     ]
    }
   ],
   "source": [
    "tn, fp, fn, tp = cm(test_user_to_valid['reordered'], test_user_to_valid['pred_reordered']).ravel()\n",
    "print(tp/(fp+tp)) #預測會回購的數量中，實際上會回購的比例\n",
    "print(tp/(fn+tp)) #實際上會回購的數量中，預測會回購的比例\n",
    "print(tn/(tn+fp)) #實際上不會回購的數量中，預測不會回購的比例\n",
    "print(tn/(tn+fn)) #預測不會回購的數量中，實際上不會回購的比例"
   ]
  },
  {
   "cell_type": "code",
   "execution_count": 36,
   "metadata": {
    "scrolled": true
   },
   "outputs": [],
   "source": [
    "import numpy as np\n",
    "from sklearn import metrics\n",
    "y = test_user_to_valid['reordered']\n",
    "pred =  test_user_to_valid['pred_reordered']\n",
    "fpr, tpr, thresholds = metrics.roc_curve(y_true=y, y_score=pred, pos_label=1)\n",
    "roc_auc = metrics.auc(fpr, tpr)"
   ]
  },
  {
   "cell_type": "code",
   "execution_count": 37,
   "metadata": {},
   "outputs": [
    {
     "data": {
      "image/png": "[encoded data removed]",
      "text/plain": [
       "<Figure size 432x288 with 1 Axes>"
      ]
     },
     "metadata": {
      "needs_background": "light"
     },
     "output_type": "display_data"
    }
   ],
   "source": [
    "import matplotlib.pyplot as plt\n",
    "plt.title('Receiver Operating Characteristic')\n",
    "plt.plot(fpr, tpr, 'b', label = 'AUC = %0.2f' % roc_auc)\n",
    "plt.legend(loc = 'lower right')\n",
    "plt.plot([0, 1], [0, 1],'r--')\n",
    "plt.xlim([0, 1])\n",
    "plt.ylim([0, 1])\n",
    "plt.ylabel('True Positive Rate')\n",
    "plt.xlabel('False Positive Rate')\n",
    "#plt.show()\n",
    "plt.savefig('AUC_RF_classfier.png',dpi=300,bbox_inches='tight')"
   ]
  },
  {
   "cell_type": "markdown",
   "metadata": {},
   "source": [
    "### regressor"
   ]
  },
  {
   "cell_type": "code",
   "execution_count": 79,
   "metadata": {},
   "outputs": [
    {
     "name": "stderr",
     "output_type": "stream",
     "text": [
      "[Parallel(n_jobs=-1)]: Using backend ThreadingBackend with 24 concurrent workers.\n",
      "[Parallel(n_jobs=-1)]: Done   2 tasks      | elapsed:   38.0s\n",
      "[Parallel(n_jobs=-1)]: Done 100 out of 100 | elapsed:  2.8min finished\n",
      "[Parallel(n_jobs=24)]: Using backend ThreadingBackend with 24 concurrent workers.\n",
      "[Parallel(n_jobs=24)]: Done   2 tasks      | elapsed:    0.2s\n",
      "[Parallel(n_jobs=24)]: Done 100 out of 100 | elapsed:    1.4s finished\n"
     ]
    }
   ],
   "source": [
    "from sklearn.ensemble import RandomForestRegressor\n",
    "rf = RandomForestRegressor(n_estimators=100,criterion='mse', n_jobs = -1, max_depth=2, random_state=0, verbose=True, min_samples_leaf = 10)\n",
    "rf.fit(XGBtrain.drop('reordered',axis=1),XGBtrain['reordered'])\n",
    "preds = rf.predict(XGBtest)"
   ]
  },
  {
   "cell_type": "code",
   "execution_count": 80,
   "metadata": {},
   "outputs": [],
   "source": [
    "test_actual = pd.merge(ord_test, orders, how='left', on='order_id')\n",
    "test_actual_all = test_actual.groupby(by=['user_id','product_id'], as_index=False).agg({'reordered':'max'})\n",
    "test_name = test_id.reset_index()\n",
    "test_name.drop('index', axis=1, inplace=True)"
   ]
  },
  {
   "cell_type": "code",
   "execution_count": 81,
   "metadata": {},
   "outputs": [],
   "source": [
    "from sklearn.metrics import f1_score\n",
    "from sklearn.metrics import confusion_matrix as cm\n",
    "from sklearn.metrics import accuracy_score"
   ]
  },
  {
   "cell_type": "code",
   "execution_count": 82,
   "metadata": {},
   "outputs": [],
   "source": [
    "X=np.arange(0.65,0.85,0.01)\n",
    "F1=[]#填入19個F1值\n",
    "Accuracy=[]#填入19個Accuracy值"
   ]
  },
  {
   "cell_type": "code",
   "execution_count": 83,
   "metadata": {},
   "outputs": [],
   "source": [
    "for threshold in X:\n",
    "    preds_df=pd.DataFrame(preds)\n",
    "    preds_df.rename(columns={0:'pred_reordered'}, inplace=True)\n",
    "    preds_df.loc[preds_df['pred_reordered'] >=threshold, 'pred_reordered'] = 1\n",
    "    preds_df.loc[preds_df['pred_reordered'] < threshold, 'pred_reordered'] = 0\n",
    "    pred_user_prod = pd.concat([test_name, preds_df], axis=1)\n",
    "    test_user_to_valid = pd.merge(pred_user_prod, test_actual_all[test_actual_all['reordered'] == 1], how='left', on=['user_id', 'product_id'])\n",
    "    test_user_to_valid.fillna(0, inplace=True)\n",
    "    Accuracy.append(accuracy_score(test_user_to_valid['reordered'], test_user_to_valid['pred_reordered']))\n",
    "    F1.append(f1_score(test_user_to_valid['reordered'], test_user_to_valid['pred_reordered'], average='macro'))"
   ]
  },
  {
   "cell_type": "code",
   "execution_count": 84,
   "metadata": {},
   "outputs": [
    {
     "data": {
      "text/html": [
       "<div>\n",
       "<style scoped>\n",
       "    .dataframe tbody tr th:only-of-type {\n",
       "        vertical-align: middle;\n",
       "    }\n",
       "\n",
       "    .dataframe tbody tr th {\n",
       "        vertical-align: top;\n",
       "    }\n",
       "\n",
       "    .dataframe thead th {\n",
       "        text-align: right;\n",
       "    }\n",
       "</style>\n",
       "<table border=\"1\" class=\"dataframe\">\n",
       "  <thead>\n",
       "    <tr style=\"text-align: right;\">\n",
       "      <th></th>\n",
       "      <th>X</th>\n",
       "      <th>f1</th>\n",
       "    </tr>\n",
       "  </thead>\n",
       "  <tbody>\n",
       "    <tr>\n",
       "      <th>0</th>\n",
       "      <td>0.65</td>\n",
       "      <td>0.648104</td>\n",
       "    </tr>\n",
       "    <tr>\n",
       "      <th>8</th>\n",
       "      <td>0.73</td>\n",
       "      <td>0.648104</td>\n",
       "    </tr>\n",
       "    <tr>\n",
       "      <th>14</th>\n",
       "      <td>0.79</td>\n",
       "      <td>0.648104</td>\n",
       "    </tr>\n",
       "    <tr>\n",
       "      <th>13</th>\n",
       "      <td>0.78</td>\n",
       "      <td>0.648104</td>\n",
       "    </tr>\n",
       "    <tr>\n",
       "      <th>12</th>\n",
       "      <td>0.77</td>\n",
       "      <td>0.648104</td>\n",
       "    </tr>\n",
       "    <tr>\n",
       "      <th>11</th>\n",
       "      <td>0.76</td>\n",
       "      <td>0.648104</td>\n",
       "    </tr>\n",
       "    <tr>\n",
       "      <th>1</th>\n",
       "      <td>0.66</td>\n",
       "      <td>0.648104</td>\n",
       "    </tr>\n",
       "    <tr>\n",
       "      <th>9</th>\n",
       "      <td>0.74</td>\n",
       "      <td>0.648104</td>\n",
       "    </tr>\n",
       "    <tr>\n",
       "      <th>10</th>\n",
       "      <td>0.75</td>\n",
       "      <td>0.648104</td>\n",
       "    </tr>\n",
       "    <tr>\n",
       "      <th>7</th>\n",
       "      <td>0.72</td>\n",
       "      <td>0.648104</td>\n",
       "    </tr>\n",
       "    <tr>\n",
       "      <th>6</th>\n",
       "      <td>0.71</td>\n",
       "      <td>0.648104</td>\n",
       "    </tr>\n",
       "    <tr>\n",
       "      <th>5</th>\n",
       "      <td>0.70</td>\n",
       "      <td>0.648104</td>\n",
       "    </tr>\n",
       "    <tr>\n",
       "      <th>4</th>\n",
       "      <td>0.69</td>\n",
       "      <td>0.648104</td>\n",
       "    </tr>\n",
       "    <tr>\n",
       "      <th>3</th>\n",
       "      <td>0.68</td>\n",
       "      <td>0.648104</td>\n",
       "    </tr>\n",
       "    <tr>\n",
       "      <th>2</th>\n",
       "      <td>0.67</td>\n",
       "      <td>0.648104</td>\n",
       "    </tr>\n",
       "    <tr>\n",
       "      <th>15</th>\n",
       "      <td>0.80</td>\n",
       "      <td>0.473230</td>\n",
       "    </tr>\n",
       "    <tr>\n",
       "      <th>16</th>\n",
       "      <td>0.81</td>\n",
       "      <td>0.473230</td>\n",
       "    </tr>\n",
       "    <tr>\n",
       "      <th>17</th>\n",
       "      <td>0.82</td>\n",
       "      <td>0.473230</td>\n",
       "    </tr>\n",
       "    <tr>\n",
       "      <th>18</th>\n",
       "      <td>0.83</td>\n",
       "      <td>0.473230</td>\n",
       "    </tr>\n",
       "    <tr>\n",
       "      <th>19</th>\n",
       "      <td>0.84</td>\n",
       "      <td>0.473230</td>\n",
       "    </tr>\n",
       "  </tbody>\n",
       "</table>\n",
       "</div>"
      ],
      "text/plain": [
       "       X        f1\n",
       "0   0.65  0.648104\n",
       "8   0.73  0.648104\n",
       "14  0.79  0.648104\n",
       "13  0.78  0.648104\n",
       "12  0.77  0.648104\n",
       "11  0.76  0.648104\n",
       "1   0.66  0.648104\n",
       "9   0.74  0.648104\n",
       "10  0.75  0.648104\n",
       "7   0.72  0.648104\n",
       "6   0.71  0.648104\n",
       "5   0.70  0.648104\n",
       "4   0.69  0.648104\n",
       "3   0.68  0.648104\n",
       "2   0.67  0.648104\n",
       "15  0.80  0.473230\n",
       "16  0.81  0.473230\n",
       "17  0.82  0.473230\n",
       "18  0.83  0.473230\n",
       "19  0.84  0.473230"
      ]
     },
     "execution_count": 84,
     "metadata": {},
     "output_type": "execute_result"
    }
   ],
   "source": [
    "pd.DataFrame({\n",
    "    'X':X,\n",
    "    'f1':F1}).sort_values('f1',ascending=False)"
   ]
  },
  {
   "cell_type": "code",
   "execution_count": 86,
   "metadata": {},
   "outputs": [
    {
     "data": {
      "text/plain": [
       "<Figure size 432x288 with 0 Axes>"
      ]
     },
     "metadata": {},
     "output_type": "display_data"
    },
    {
     "data": {
      "image/png": "[encoded data removed]",
      "text/plain": [
       "<Figure size 432x288 with 2 Axes>"
      ]
     },
     "metadata": {
      "needs_background": "light"
     },
     "output_type": "display_data"
    }
   ],
   "source": [
    "plt.clf()\n",
    "fig = plt.figure()\n",
    "ax = fig.add_subplot(111)\n",
    "lns1 = ax.plot(X, F1, '-', label = 'F1')\n",
    "\n",
    "ax2 = ax.twinx()\n",
    "lns2 = ax2.plot(X, Accuracy, '-r', label = 'Accuracy')\n",
    "\n",
    "lns = lns1+lns2\n",
    "labs = [l.get_label() for l in lns]\n",
    "ax.legend(lns, labs, loc=0)\n",
    "ax.set_xlabel('Threshold')\n",
    "ax.set_ylabel('F1')\n",
    "ax2.set_ylabel('Accuracy')\n",
    "plt.suptitle('F1 vs Accuracy', size=12)\n",
    "plt.show()"
   ]
  },
  {
   "cell_type": "code",
   "execution_count": 87,
   "metadata": {},
   "outputs": [],
   "source": [
    "ax.figure.savefig('f1 VS accuracy with choosing_RF.png',dpi=300, bbox_inches='tight')"
   ]
  },
  {
   "cell_type": "code",
   "execution_count": 88,
   "metadata": {},
   "outputs": [],
   "source": [
    "preds_df=pd.DataFrame(preds)\n",
    "preds_df.rename(columns={0:'pred_reordered'}, inplace=True)\n",
    "preds_df.loc[preds_df['pred_reordered'] >=14, 'pred_reordered'] = 1\n",
    "preds_df.loc[preds_df['pred_reordered'] < 14, 'pred_reordered'] = 0\n",
    "pred_user_prod = pd.concat([test_name, preds_df], axis=1)\n",
    "test_user_to_valid = pd.merge(pred_user_prod, test_actual_all[test_actual_all['reordered'] == 1], how='left', on=['user_id', 'product_id'])\n",
    "test_user_to_valid.fillna(0, inplace=True)"
   ]
  },
  {
   "cell_type": "code",
   "execution_count": 89,
   "metadata": {},
   "outputs": [
    {
     "data": {
      "text/plain": [
       "array([[4042235,       0],\n",
       "       [ 457326,       0]], dtype=int64)"
      ]
     },
     "execution_count": 89,
     "metadata": {},
     "output_type": "execute_result"
    }
   ],
   "source": [
    "cm(test_user_to_valid['reordered'], test_user_to_valid['pred_reordered'])"
   ]
  },
  {
   "cell_type": "code",
   "execution_count": 90,
   "metadata": {},
   "outputs": [
    {
     "name": "stdout",
     "output_type": "stream",
     "text": [
      "nan\n",
      "0.0\n",
      "1.0\n",
      "0.8983620846567032\n"
     ]
    },
    {
     "name": "stderr",
     "output_type": "stream",
     "text": [
      "c:\\users\\administrator\\anaconda3\\lib\\site-packages\\ipykernel_launcher.py:2: RuntimeWarning: invalid value encountered in longlong_scalars\n",
      "  \n"
     ]
    }
   ],
   "source": [
    "tn, fp, fn, tp = cm(test_user_to_valid['reordered'], test_user_to_valid['pred_reordered']).ravel()\n",
    "print(tp/(fp+tp)) #預測會回購的數量中，實際上會回購的比例\n",
    "print(tp/(fn+tp)) #實際上會回購的數量中，預測會回購的比例\n",
    "print(tn/(tn+fp)) #實際上不會回購的數量中，預測不會回購的比例\n",
    "print(tn/(tn+fn)) #預測不會回購的數量中，實際上不會回購的比例"
   ]
  },
  {
   "cell_type": "code",
   "execution_count": 93,
   "metadata": {},
   "outputs": [],
   "source": [
    "import numpy as np\n",
    "from sklearn import metrics\n",
    "y = test_user_to_valid['reordered']\n",
    "pred =  test_user_to_valid['pred_reordered']\n",
    "fpr, tpr, thresholds = metrics.roc_curve(y_true=y, y_score=pred, pos_label=1)\n",
    "roc_auc =metrics.auc(fpr, tpr)"
   ]
  },
  {
   "cell_type": "code",
   "execution_count": 94,
   "metadata": {},
   "outputs": [
    {
     "data": {
      "image/png": "[encoded data removed]",
      "text/plain": [
       "<Figure size 432x288 with 1 Axes>"
      ]
     },
     "metadata": {
      "needs_background": "light"
     },
     "output_type": "display_data"
    }
   ],
   "source": [
    "import matplotlib.pyplot as plt\n",
    "plt.title('Receiver Operating Characteristic')\n",
    "plt.plot(fpr, tpr, 'b', label = 'AUC = %0.2f' % roc_auc)\n",
    "plt.legend(loc = 'lower right')\n",
    "plt.plot([0, 1], [0, 1],'r--')\n",
    "plt.xlim([0, 1])\n",
    "plt.ylim([0, 1])\n",
    "plt.ylabel('True Positive Rate')\n",
    "plt.xlabel('False Positive Rate')\n",
    "#plt.show()\n",
    "plt.savefig('AUC_RF.png',dpi=300,bbox_inches='tight')"
   ]
  },
  {
   "cell_type": "markdown",
   "metadata": {},
   "source": [
    "### Logistic regression"
   ]
  },
  {
   "cell_type": "code",
   "execution_count": 48,
   "metadata": {},
   "outputs": [
    {
     "name": "stderr",
     "output_type": "stream",
     "text": [
      "c:\\users\\administrator\\anaconda3\\lib\\site-packages\\sklearn\\linear_model\\_logistic.py:940: ConvergenceWarning: lbfgs failed to converge (status=1):\n",
      "STOP: TOTAL NO. of ITERATIONS REACHED LIMIT.\n",
      "\n",
      "Increase the number of iterations (max_iter) or scale the data as shown in:\n",
      "    https://scikit-learn.org/stable/modules/preprocessing.html\n",
      "Please also refer to the documentation for alternative solver options:\n",
      "    https://scikit-learn.org/stable/modules/linear_model.html#logistic-regression\n",
      "  extra_warning_msg=_LOGISTIC_SOLVER_CONVERGENCE_MSG)\n"
     ]
    }
   ],
   "source": [
    "from sklearn.linear_model import LogisticRegression\n",
    "LR = LogisticRegression(random_state=0).fit(XGBtrain.drop('reordered',axis=1),XGBtrain['reordered'])\n",
    "preds = LR.predict(XGBtest)\n",
    "preds_df=pd.DataFrame(preds)\n",
    "preds_df.rename(columns={0:'pred_reordered'}, inplace=True)\n",
    "test_actual = pd.merge(ord_test, orders, how='left', on='order_id')\n",
    "test_actual_all = test_actual.groupby(by=['user_id','product_id'], as_index=False).agg({'reordered':'max'})\n",
    "test_name = test_id.reset_index()\n",
    "test_name.drop('index', axis=1, inplace=True)\n",
    "pred_user_prod = pd.concat([test_name, preds_df], axis=1)\n",
    "test_user_to_valid = pd.merge(pred_user_prod, test_actual_all[test_actual_all['reordered'] == 1], how='left', on=['user_id', 'product_id'])\n",
    "test_user_to_valid.fillna(0, inplace=True)"
   ]
  },
  {
   "cell_type": "code",
   "execution_count": 49,
   "metadata": {},
   "outputs": [
    {
     "data": {
      "text/plain": [
       "0.6284190835505953"
      ]
     },
     "execution_count": 49,
     "metadata": {},
     "output_type": "execute_result"
    }
   ],
   "source": [
    "from sklearn.metrics import accuracy_score\n",
    "accuracy_score(test_user_to_valid['reordered'], test_user_to_valid['pred_reordered'])"
   ]
  },
  {
   "cell_type": "code",
   "execution_count": 50,
   "metadata": {},
   "outputs": [
    {
     "data": {
      "text/plain": [
       "0.5276082500654696"
      ]
     },
     "execution_count": 50,
     "metadata": {},
     "output_type": "execute_result"
    }
   ],
   "source": [
    "from sklearn.metrics import f1_score\n",
    "f1_score(test_user_to_valid['reordered'],\n",
    "         test_user_to_valid['pred_reordered'],\n",
    "         average='macro')"
   ]
  },
  {
   "cell_type": "code",
   "execution_count": 51,
   "metadata": {},
   "outputs": [
    {
     "data": {
      "text/plain": [
       "array([[2453109, 1589126],\n",
       "       [  82825,  374501]], dtype=int64)"
      ]
     },
     "execution_count": 51,
     "metadata": {},
     "output_type": "execute_result"
    }
   ],
   "source": [
    "from sklearn.metrics import confusion_matrix as cm\n",
    "cm(test_user_to_valid['reordered'], test_user_to_valid['pred_reordered'])"
   ]
  },
  {
   "cell_type": "code",
   "execution_count": 52,
   "metadata": {},
   "outputs": [
    {
     "name": "stdout",
     "output_type": "stream",
     "text": [
      "0.19071901129898908\n",
      "0.8188928685445394\n",
      "0.6068694670151538\n",
      "0.9673394496859934\n"
     ]
    }
   ],
   "source": [
    "tn, fp, fn, tp = cm(test_user_to_valid['reordered'], test_user_to_valid['pred_reordered']).ravel()\n",
    "print(tp/(fp+tp)) #預測會回購的數量中，實際上會回購的比例\n",
    "print(tp/(fn+tp)) #實際上會回購的數量中，預測會回購的比例\n",
    "print(tn/(tn+fp)) #實際上不會回購的數量中，預測不會回購的比例\n",
    "print(tn/(tn+fn)) #預測不會回購的數量中，實際上不會回購的比例"
   ]
  },
  {
   "cell_type": "code",
   "execution_count": 53,
   "metadata": {},
   "outputs": [],
   "source": [
    "import numpy as np\n",
    "from sklearn import metrics\n",
    "y = test_user_to_valid['reordered']\n",
    "pred =  test_user_to_valid['pred_reordered']\n",
    "fpr, tpr, thresholds = metrics.roc_curve(y_true=y, y_score=pred, pos_label=1)\n",
    "roc_auc = metrics.auc(fpr, tpr)"
   ]
  },
  {
   "cell_type": "code",
   "execution_count": 54,
   "metadata": {},
   "outputs": [
    {
     "data": {
      "image/png": "[encoded data removed]",
      "text/plain": [
       "<Figure size 432x288 with 1 Axes>"
      ]
     },
     "metadata": {
      "needs_background": "light"
     },
     "output_type": "display_data"
    }
   ],
   "source": [
    "import matplotlib.pyplot as plt\n",
    "plt.title('Receiver Operating Characteristic')\n",
    "plt.plot(fpr, tpr, 'b', label = 'AUC = %0.2f' % roc_auc)\n",
    "plt.legend(loc = 'lower right')\n",
    "plt.plot([0, 1], [0, 1],'r--')\n",
    "plt.xlim([0, 1])\n",
    "plt.ylim([0, 1])\n",
    "plt.ylabel('True Positive Rate')\n",
    "plt.xlabel('False Positive Rate')\n",
    "#plt.show()\n",
    "plt.savefig('AUC_LR_classfier.png',dpi=300,bbox_inches='tight')"
   ]
  },
  {
   "cell_type": "markdown",
   "metadata": {},
   "source": [
    "### SVM"
   ]
  },
  {
   "cell_type": "code",
   "execution_count": null,
   "metadata": {},
   "outputs": [],
   "source": [
    "from sklearn import svm\n",
    "SVM = svm.SVC(kernel='linear')\n",
    "SVM = SVM.fit(XGBtrain.drop('reordered',axis=1),XGBtrain['reordered'])\n",
    "preds = SVM.predict(XGBtest)\n",
    "preds_df=pd.DataFrame(preds)\n",
    "preds_df.rename(columns={0:'pred_reordered'}, inplace=True)\n",
    "test_actual = pd.merge(ord_test, orders, how='left', on='order_id')\n",
    "test_actual_all = test_actual.groupby(by=['user_id','product_id'], as_index=False).agg({'reordered':'max'})\n",
    "test_name = test_id.reset_index()\n",
    "test_name.drop('index', axis=1, inplace=True)\n",
    "pred_user_prod = pd.concat([test_name, preds_df], axis=1)\n",
    "test_user_to_valid = pd.merge(pred_user_prod, test_actual_all[test_actual_all['reordered'] == 1], how='left', on=['user_id', 'product_id'])\n",
    "test_user_to_valid.fillna(0, inplace=True)"
   ]
  },
  {
   "cell_type": "code",
   "execution_count": null,
   "metadata": {},
   "outputs": [],
   "source": [
    "from sklearn.metrics import accuracy_score\n",
    "accuracy_score(test_user_to_valid['reordered'], test_user_to_valid['pred_reordered'])"
   ]
  },
  {
   "cell_type": "code",
   "execution_count": null,
   "metadata": {},
   "outputs": [],
   "source": [
    "from sklearn.metrics import f1_score\n",
    "f1_score(test_user_to_valid['reordered'],\n",
    "         test_user_to_valid['pred_reordered'],\n",
    "         average='macro')"
   ]
  },
  {
   "cell_type": "code",
   "execution_count": null,
   "metadata": {},
   "outputs": [],
   "source": [
    "from sklearn.metrics import confusion_matrix as cm\n",
    "cm(test_user_to_valid['reordered'], test_user_to_valid['pred_reordered'])"
   ]
  },
  {
   "cell_type": "code",
   "execution_count": null,
   "metadata": {},
   "outputs": [],
   "source": [
    "from sklearn import metrics\n",
    "y = test_user_to_valid['reordered']\n",
    "pred =  test_user_to_valid['pred_reordered']\n",
    "fpr, tpr, thresholds = metrics.roc_curve(y_true=y, y_score=pred, pos_label=1)\n",
    "roc_auc = metrics.auc(fpr, tpr)"
   ]
  },
  {
   "cell_type": "code",
   "execution_count": null,
   "metadata": {},
   "outputs": [],
   "source": [
    "plt.title('Receiver Operating Characteristic')\n",
    "plt.plot(fpr, tpr, 'b', label = 'AUC = %0.2f' % roc_auc)\n",
    "plt.legend(loc = 'lower right')\n",
    "plt.plot([0, 1], [0, 1],'r--')\n",
    "plt.xlim([0, 1])\n",
    "plt.ylim([0, 1])\n",
    "plt.ylabel('True Positive Rate')\n",
    "plt.xlabel('False Positive Rate')\n",
    "#plt.show()\n",
    "plt.savefig('AUC_DT_classfier.png',dpi=300,bbox_inches='tight')"
   ]
  },
  {
   "cell_type": "markdown",
   "metadata": {},
   "source": [
    "### Bayesian network"
   ]
  },
  {
   "cell_type": "code",
   "execution_count": null,
   "metadata": {},
   "outputs": [],
   "source": []
  },
  {
   "cell_type": "markdown",
   "metadata": {},
   "source": [
    "### Decision trees"
   ]
  },
  {
   "cell_type": "code",
   "execution_count": 55,
   "metadata": {},
   "outputs": [],
   "source": [
    "from sklearn import tree\n",
    "DT = tree.DecisionTreeClassifier()\n",
    "DT = DT.fit(XGBtrain.drop('reordered',axis=1),XGBtrain['reordered'])\n",
    "preds = DT.predict(XGBtest)\n",
    "preds_df=pd.DataFrame(preds)\n",
    "preds_df.rename(columns={0:'pred_reordered'}, inplace=True)\n",
    "test_actual = pd.merge(ord_test, orders, how='left', on='order_id')\n",
    "test_actual_all = test_actual.groupby(by=['user_id','product_id'], as_index=False).agg({'reordered':'max'})\n",
    "test_name = test_id.reset_index()\n",
    "test_name.drop('index', axis=1, inplace=True)\n",
    "pred_user_prod = pd.concat([test_name, preds_df], axis=1)\n",
    "test_user_to_valid = pd.merge(pred_user_prod, test_actual_all[test_actual_all['reordered'] == 1], how='left', on=['user_id', 'product_id'])\n",
    "test_user_to_valid.fillna(0, inplace=True)"
   ]
  },
  {
   "cell_type": "code",
   "execution_count": 56,
   "metadata": {},
   "outputs": [
    {
     "data": {
      "text/plain": [
       "0.8037661896349444"
      ]
     },
     "execution_count": 56,
     "metadata": {},
     "output_type": "execute_result"
    }
   ],
   "source": [
    "from sklearn.metrics import accuracy_score\n",
    "accuracy_score(test_user_to_valid['reordered'], test_user_to_valid['pred_reordered'])"
   ]
  },
  {
   "cell_type": "code",
   "execution_count": 57,
   "metadata": {},
   "outputs": [
    {
     "data": {
      "text/plain": [
       "0.5916355391295246"
      ]
     },
     "execution_count": 57,
     "metadata": {},
     "output_type": "execute_result"
    }
   ],
   "source": [
    "from sklearn.metrics import f1_score\n",
    "f1_score(test_user_to_valid['reordered'],\n",
    "         test_user_to_valid['pred_reordered'],\n",
    "         average='macro')"
   ]
  },
  {
   "cell_type": "code",
   "execution_count": 58,
   "metadata": {},
   "outputs": [
    {
     "data": {
      "text/plain": [
       "array([[3429801,  612434],\n",
       "       [ 270532,  186794]], dtype=int64)"
      ]
     },
     "execution_count": 58,
     "metadata": {},
     "output_type": "execute_result"
    }
   ],
   "source": [
    "from sklearn.metrics import confusion_matrix as cm\n",
    "cm(test_user_to_valid['reordered'], test_user_to_valid['pred_reordered'])"
   ]
  },
  {
   "cell_type": "code",
   "execution_count": 59,
   "metadata": {},
   "outputs": [
    {
     "name": "stdout",
     "output_type": "stream",
     "text": [
      "0.23371803790657986\n",
      "0.4084482404236803\n",
      "0.8484912430870546\n",
      "0.9268898231591589\n"
     ]
    }
   ],
   "source": [
    "tn, fp, fn, tp = cm(test_user_to_valid['reordered'], test_user_to_valid['pred_reordered']).ravel()\n",
    "print(tp/(fp+tp)) #預測會回購的數量中，實際上會回購的比例\n",
    "print(tp/(fn+tp)) #實際上會回購的數量中，預測會回購的比例\n",
    "print(tn/(tn+fp)) #實際上不會回購的數量中，預測不會回購的比例\n",
    "print(tn/(tn+fn)) #預測不會回購的數量中，實際上不會回購的比例"
   ]
  },
  {
   "cell_type": "code",
   "execution_count": 60,
   "metadata": {},
   "outputs": [],
   "source": [
    "from sklearn import metrics\n",
    "y = test_user_to_valid['reordered']\n",
    "pred =  test_user_to_valid['pred_reordered']\n",
    "fpr, tpr, thresholds = metrics.roc_curve(y_true=y, y_score=pred, pos_label=1)\n",
    "roc_auc = metrics.auc(fpr, tpr)"
   ]
  },
  {
   "cell_type": "code",
   "execution_count": 62,
   "metadata": {},
   "outputs": [
    {
     "data": {
      "image/png": "[encoded data removed]",
      "text/plain": [
       "<Figure size 432x288 with 1 Axes>"
      ]
     },
     "metadata": {
      "needs_background": "light"
     },
     "output_type": "display_data"
    }
   ],
   "source": [
    "plt.title('Receiver Operating Characteristic')\n",
    "plt.plot(fpr, tpr, 'b', label = 'AUC = %0.2f' % roc_auc)\n",
    "plt.legend(loc = 'lower right')\n",
    "plt.plot([0, 1], [0, 1],'r--')\n",
    "plt.xlim([0, 1])\n",
    "plt.ylim([0, 1])\n",
    "plt.ylabel('True Positive Rate')\n",
    "plt.xlabel('False Positive Rate')\n",
    "#plt.show()\n",
    "plt.savefig('AUC_DT_classfier.png',dpi=300,bbox_inches='tight')"
   ]
  },
  {
   "cell_type": "markdown",
   "metadata": {},
   "source": [
    "### KNN"
   ]
  },
  {
   "cell_type": "code",
   "execution_count": 67,
   "metadata": {},
   "outputs": [],
   "source": [
    "from sklearn.neighbors import NearestCentroid\n",
    "KNN = NearestCentroid()\n",
    "KNN.fit(XGBtrain.drop('reordered',axis=1),XGBtrain['reordered'])\n",
    "NearestCentroid()\n",
    "preds = KNN.predict(XGBtest)\n",
    "preds_df=pd.DataFrame(preds)\n",
    "preds_df.rename(columns={0:'pred_reordered'}, inplace=True)\n",
    "test_actual = pd.merge(ord_test, orders, how='left', on='order_id')\n",
    "test_actual_all = test_actual.groupby(by=['user_id','product_id'], as_index=False).agg({'reordered':'max'})\n",
    "test_name = test_id.reset_index()\n",
    "test_name.drop('index', axis=1, inplace=True)\n",
    "pred_user_prod = pd.concat([test_name, preds_df], axis=1)\n",
    "test_user_to_valid = pd.merge(pred_user_prod, test_actual_all[test_actual_all['reordered'] == 1], how='left', on=['user_id', 'product_id'])\n",
    "test_user_to_valid.fillna(0, inplace=True)"
   ]
  },
  {
   "cell_type": "code",
   "execution_count": 68,
   "metadata": {},
   "outputs": [
    {
     "data": {
      "text/plain": [
       "0.7908471515332274"
      ]
     },
     "execution_count": 68,
     "metadata": {},
     "output_type": "execute_result"
    }
   ],
   "source": [
    "from sklearn.metrics import accuracy_score\n",
    "accuracy_score(test_user_to_valid['reordered'], test_user_to_valid['pred_reordered'])"
   ]
  },
  {
   "cell_type": "code",
   "execution_count": 69,
   "metadata": {},
   "outputs": [
    {
     "data": {
      "text/plain": [
       "0.5462562624715261"
      ]
     },
     "execution_count": 69,
     "metadata": {},
     "output_type": "execute_result"
    }
   ],
   "source": [
    "from sklearn.metrics import f1_score\n",
    "f1_score(test_user_to_valid['reordered'],\n",
    "         test_user_to_valid['pred_reordered'],\n",
    "         average='macro')"
   ]
  },
  {
   "cell_type": "code",
   "execution_count": 70,
   "metadata": {},
   "outputs": [
    {
     "data": {
      "text/plain": [
       "array([[3431023,  611212],\n",
       "       [ 329884,  127442]], dtype=int64)"
      ]
     },
     "execution_count": 70,
     "metadata": {},
     "output_type": "execute_result"
    }
   ],
   "source": [
    "from sklearn.metrics import confusion_matrix as cm\n",
    "cm(test_user_to_valid['reordered'], test_user_to_valid['pred_reordered'])"
   ]
  },
  {
   "cell_type": "code",
   "execution_count": 71,
   "metadata": {},
   "outputs": [
    {
     "name": "stdout",
     "output_type": "stream",
     "text": [
      "0.17253274198745286\n",
      "0.27866773373917075\n",
      "0.8487935510924031\n",
      "0.9122860522740924\n"
     ]
    }
   ],
   "source": [
    "tn, fp, fn, tp = cm(test_user_to_valid['reordered'], test_user_to_valid['pred_reordered']).ravel()\n",
    "print(tp/(fp+tp)) #預測會回購的數量中，實際上會回購的比例\n",
    "print(tp/(fn+tp)) #實際上會回購的數量中，預測會回購的比例\n",
    "print(tn/(tn+fp)) #實際上不會回購的數量中，預測不會回購的比例\n",
    "print(tn/(tn+fn)) #預測不會回購的數量中，實際上不會回購的比例"
   ]
  },
  {
   "cell_type": "code",
   "execution_count": 72,
   "metadata": {},
   "outputs": [],
   "source": [
    "from sklearn import metrics\n",
    "y = test_user_to_valid['reordered']\n",
    "pred =  test_user_to_valid['pred_reordered']\n",
    "fpr, tpr, thresholds = metrics.roc_curve(y_true=y, y_score=pred, pos_label=1)\n",
    "roc_auc = metrics.auc(fpr, tpr)"
   ]
  },
  {
   "cell_type": "code",
   "execution_count": 73,
   "metadata": {},
   "outputs": [
    {
     "data": {
      "image/png": "[encoded data removed]",
      "text/plain": [
       "<Figure size 432x288 with 1 Axes>"
      ]
     },
     "metadata": {
      "needs_background": "light"
     },
     "output_type": "display_data"
    }
   ],
   "source": [
    "plt.title('Receiver Operating Characteristic')\n",
    "plt.plot(fpr, tpr, 'b', label = 'AUC = %0.2f' % roc_auc)\n",
    "plt.legend(loc = 'lower right')\n",
    "plt.plot([0, 1], [0, 1],'r--')\n",
    "plt.xlim([0, 1])\n",
    "plt.ylim([0, 1])\n",
    "plt.ylabel('True Positive Rate')\n",
    "plt.xlabel('False Positive Rate')\n",
    "#plt.show()\n",
    "plt.savefig('AUC_KNN_classfier.png',dpi=300,bbox_inches='tight')"
   ]
  },
  {
   "cell_type": "code",
   "execution_count": 74,
   "metadata": {},
   "outputs": [
    {
     "data": {
      "text/plain": [
       "2419"
      ]
     },
     "execution_count": 74,
     "metadata": {},
     "output_type": "execute_result"
    }
   ],
   "source": [
    "gc.collect()"
   ]
  },
  {
   "cell_type": "code",
   "execution_count": null,
   "metadata": {},
   "outputs": [],
   "source": []
  }
 ],
 "metadata": {
  "kernelspec": {
   "display_name": "Python 3",
   "language": "python",
   "name": "python3"
  },
  "language_info": {
   "codemirror_mode": {
    "name": "ipython",
    "version": 3
   },
   "file_extension": ".py",
   "mimetype": "text/x-python",
   "name": "python",
   "nbconvert_exporter": "python",
   "pygments_lexer": "ipython3",
   "version": "3.7.3"
  }
 },
 "nbformat": 4,
 "nbformat_minor": 4
}
